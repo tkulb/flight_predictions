{
 "cells": [
  {
   "cell_type": "markdown",
   "metadata": {},
   "source": [
    "### Flight Purchase Recommendation Model:\n",
    "\n",
    "In this pricing recommendation model, every flight is supposed to have its own distribution of prices as it relates to time. A flight will be \"scored\" with prices from the pricing model to simulate the pricing curve until two weeks before departure. If the current price falls in the bottom 20% of pricing curve by rank order then a recommendation is generated to \"buy\" the flight; otherwise the recommendation is generated to \"wait\" to purchase. \n",
    "<br>\n",
    "<br>\n",
    "I began with an EDA of a single trip's historical pricing data to familarize myself with the distributions of the flight prices and potential features. For a first pass regression model, I chose a Random Forest regression algorithm to predict flight prices as a first pass due to its nature of avoiding overfitting with minimal hyperparameter tuning. Next, I reviewed each sample data column to generate about 40 potential features. I excluded quite a few datetime features to ensure that time trend feature \"advance\" would be adequately captured as a predictor. Otherwise, changing the advance feature for price simulations might undercapture the actual sensitivity to changes in the time up until flight departure. My holdout lift curve and RMSE metric suggest that the model predicts surprisingly well with little tuning, but care should be taken to ensure absolutely no data leakage has occurred. Running the last cell will select a random flight, generate a pricing curve, and provide a purchase recommendation. \n",
    "<br>\n",
    "<br>\n",
    "If I continued this project, I'd spend more time running more traditional time series analysis, such as ACF and PACF plots. I'd also build an ARIMA model and test the accuracy using a more novel method, such as Facebook's Prophet tool or a variational time series LSTM. An ARIMA might fit the pricing data worse than a random forest, but parametric models such as ARIMA are often more robust to simulating changes such as the \"advance\" time trend in this model."
   ]
  },
  {
   "cell_type": "markdown",
   "metadata": {},
   "source": [
    "### Columns:\n",
    "\n",
    "- search_id: the bundle identifer \n",
    "- trip_index: the index of the trip within a bundle\n",
    "- received_date: date the trip was received\n",
    "- received_ms: epoch milliseconds trip was received\n",
    "- origin: origin airport\n",
    "- destination: destination airport\n",
    "- total_usd: total fare including taxes and fees\n",
    "- pax_type: passenger type quoted\n",
    "- refundable: refundable fare indicator\n",
    "- validating_carrier: airline selling the ticket\n",
    "- departure_odate: departure date in origin TZ\n",
    "- departure_ms: epoch milliseconds of departure\n",
    "- outgoing_duration: total in minutes \n",
    "- outgoing_stops: number of stops on outbound trip\n",
    "- return_odate: return date in destination TZ\n",
    "- return_ms: epoch millis of return time\n",
    "- returning_duration: total in minutes\n",
    "- returning_stops: number of stops on return trip\n",
    "- major_carrier_id: airline delivering majority of flight time\n",
    "- total_stops: total stops for round-trip\n",
    "- advance: days search before departure\n",
    "- length_of_stay: nights between departure and return\n",
    "- includes_saturday_night_stay: indicator for saturday stayover (pred)\n",
    "- available_seats: quoted availability at search time (pred?)\n",
    "- lowest_cabin_class: lowest cabin class over all flights (pred)\n",
    "- highest_cabin_class: highest cabin class over all flights (pred)\n",
    "\n"
   ]
  },
  {
   "cell_type": "markdown",
   "metadata": {},
   "source": [
    "## I. Import Libraries and Data"
   ]
  },
  {
   "cell_type": "code",
   "execution_count": 3,
   "metadata": {},
   "outputs": [],
   "source": [
    "import pandas as pd\n",
    "import numpy as np\n",
    "import matplotlib.pyplot as plt\n",
    "import random\n",
    "from datetime import date\n",
    "from datetime import datetime\n",
    "import timeit\n",
    "\n",
    "import sklearn\n",
    "from sklearn.linear_model import LinearRegression\n",
    "from sklearn.ensemble import GradientBoostingClassifier\n",
    "from sklearn.ensemble import RandomForestClassifier\n",
    "from sklearn.ensemble import RandomForestRegressor\n",
    "from sklearn.impute import SimpleImputer\n",
    "from sklearn.metrics import roc_curve, auc\n",
    "from sklearn.metrics import make_scorer\n",
    "from sklearn import preprocessing\n",
    "from sklearn.feature_selection import RFE\n",
    "from sklearn.base import TransformerMixin\n",
    "from sklearn.utils import resample\n",
    "from sklearn.externals import joblib"
   ]
  },
  {
   "cell_type": "code",
   "execution_count": 4,
   "metadata": {},
   "outputs": [],
   "source": [
    "flights = pd.read_csv(r'price/longitudinal_trim.csv')\n"
   ]
  },
  {
   "cell_type": "code",
   "execution_count": 5,
   "metadata": {},
   "outputs": [],
   "source": [
    "flights_sample = flights.iloc[0:1000]\n",
    "flights_sample.to_csv(r'price/sample.csv')"
   ]
  },
  {
   "cell_type": "markdown",
   "metadata": {},
   "source": [
    "## II. EDA"
   ]
  },
  {
   "cell_type": "code",
   "execution_count": 6,
   "metadata": {},
   "outputs": [
    {
     "data": {
      "text/html": [
       "<div>\n",
       "<style scoped>\n",
       "    .dataframe tbody tr th:only-of-type {\n",
       "        vertical-align: middle;\n",
       "    }\n",
       "\n",
       "    .dataframe tbody tr th {\n",
       "        vertical-align: top;\n",
       "    }\n",
       "\n",
       "    .dataframe thead th {\n",
       "        text-align: right;\n",
       "    }\n",
       "</style>\n",
       "<table border=\"1\" class=\"dataframe\">\n",
       "  <thead>\n",
       "    <tr style=\"text-align: right;\">\n",
       "      <th></th>\n",
       "      <th>Unnamed: 0</th>\n",
       "      <th>search_id</th>\n",
       "      <th>trip_index</th>\n",
       "      <th>received_date</th>\n",
       "      <th>received_ms</th>\n",
       "      <th>origin</th>\n",
       "      <th>destination</th>\n",
       "      <th>total_usd</th>\n",
       "      <th>pax_type</th>\n",
       "      <th>refundable</th>\n",
       "      <th>...</th>\n",
       "      <th>returning_duration</th>\n",
       "      <th>returning_stops</th>\n",
       "      <th>major_carrier_id</th>\n",
       "      <th>total_stops</th>\n",
       "      <th>advance</th>\n",
       "      <th>length_of_stay</th>\n",
       "      <th>includes_saturday_night_stay</th>\n",
       "      <th>available_seats</th>\n",
       "      <th>lowest_cabin_class</th>\n",
       "      <th>highest_cabin_class</th>\n",
       "    </tr>\n",
       "  </thead>\n",
       "  <tbody>\n",
       "    <tr>\n",
       "      <th>0</th>\n",
       "      <td>2451655</td>\n",
       "      <td>660209ae-7069-3a59-b193-61f2ee51016e</td>\n",
       "      <td>135</td>\n",
       "      <td>2016-03-02</td>\n",
       "      <td>1456966043892</td>\n",
       "      <td>BOS</td>\n",
       "      <td>CUN</td>\n",
       "      <td>488.69</td>\n",
       "      <td>ADT</td>\n",
       "      <td>NaN</td>\n",
       "      <td>...</td>\n",
       "      <td>432</td>\n",
       "      <td>1</td>\n",
       "      <td>UA</td>\n",
       "      <td>2</td>\n",
       "      <td>57</td>\n",
       "      <td>4</td>\n",
       "      <td>True</td>\n",
       "      <td>9</td>\n",
       "      <td>E</td>\n",
       "      <td>E</td>\n",
       "    </tr>\n",
       "    <tr>\n",
       "      <th>1</th>\n",
       "      <td>359790</td>\n",
       "      <td>8f562a7c-fa2b-3107-99e2-5860f6b0264b</td>\n",
       "      <td>43</td>\n",
       "      <td>2016-10-22</td>\n",
       "      <td>1477189113113</td>\n",
       "      <td>BOS</td>\n",
       "      <td>CUN</td>\n",
       "      <td>740.93</td>\n",
       "      <td>ADT</td>\n",
       "      <td>NaN</td>\n",
       "      <td>...</td>\n",
       "      <td>1275</td>\n",
       "      <td>1</td>\n",
       "      <td>UA</td>\n",
       "      <td>2</td>\n",
       "      <td>31</td>\n",
       "      <td>5</td>\n",
       "      <td>True</td>\n",
       "      <td>4</td>\n",
       "      <td>E</td>\n",
       "      <td>E</td>\n",
       "    </tr>\n",
       "    <tr>\n",
       "      <th>2</th>\n",
       "      <td>1888451</td>\n",
       "      <td>708067b6-3ae1-30a0-ac5f-370bb69eb937</td>\n",
       "      <td>192</td>\n",
       "      <td>2016-04-25</td>\n",
       "      <td>1461587327634</td>\n",
       "      <td>BOS</td>\n",
       "      <td>CUN</td>\n",
       "      <td>497.80</td>\n",
       "      <td>ADT</td>\n",
       "      <td>NaN</td>\n",
       "      <td>...</td>\n",
       "      <td>441</td>\n",
       "      <td>1</td>\n",
       "      <td>AA</td>\n",
       "      <td>2</td>\n",
       "      <td>15</td>\n",
       "      <td>7</td>\n",
       "      <td>True</td>\n",
       "      <td>9</td>\n",
       "      <td>E</td>\n",
       "      <td>E</td>\n",
       "    </tr>\n",
       "    <tr>\n",
       "      <th>3</th>\n",
       "      <td>2973055</td>\n",
       "      <td>33531f8d-e4b4-3dbc-a0ea-a480834ee1ae</td>\n",
       "      <td>159</td>\n",
       "      <td>2016-12-03</td>\n",
       "      <td>1480794140210</td>\n",
       "      <td>BOS</td>\n",
       "      <td>CUN</td>\n",
       "      <td>383.58</td>\n",
       "      <td>ADT</td>\n",
       "      <td>NaN</td>\n",
       "      <td>...</td>\n",
       "      <td>248</td>\n",
       "      <td>0</td>\n",
       "      <td>B6</td>\n",
       "      <td>1</td>\n",
       "      <td>189</td>\n",
       "      <td>7</td>\n",
       "      <td>True</td>\n",
       "      <td>9</td>\n",
       "      <td>E</td>\n",
       "      <td>E</td>\n",
       "    </tr>\n",
       "    <tr>\n",
       "      <th>4</th>\n",
       "      <td>1783576</td>\n",
       "      <td>72aec7bf-c516-3282-8802-28e22a0042be</td>\n",
       "      <td>41</td>\n",
       "      <td>2016-10-03</td>\n",
       "      <td>1475535295102</td>\n",
       "      <td>BOS</td>\n",
       "      <td>CUN</td>\n",
       "      <td>315.93</td>\n",
       "      <td>ADT</td>\n",
       "      <td>NaN</td>\n",
       "      <td>...</td>\n",
       "      <td>452</td>\n",
       "      <td>1</td>\n",
       "      <td>AA</td>\n",
       "      <td>2</td>\n",
       "      <td>41</td>\n",
       "      <td>4</td>\n",
       "      <td>False</td>\n",
       "      <td>9</td>\n",
       "      <td>E</td>\n",
       "      <td>E</td>\n",
       "    </tr>\n",
       "  </tbody>\n",
       "</table>\n",
       "<p>5 rows × 27 columns</p>\n",
       "</div>"
      ],
      "text/plain": [
       "   Unnamed: 0                             search_id  trip_index received_date  \\\n",
       "0     2451655  660209ae-7069-3a59-b193-61f2ee51016e         135    2016-03-02   \n",
       "1      359790  8f562a7c-fa2b-3107-99e2-5860f6b0264b          43    2016-10-22   \n",
       "2     1888451  708067b6-3ae1-30a0-ac5f-370bb69eb937         192    2016-04-25   \n",
       "3     2973055  33531f8d-e4b4-3dbc-a0ea-a480834ee1ae         159    2016-12-03   \n",
       "4     1783576  72aec7bf-c516-3282-8802-28e22a0042be          41    2016-10-03   \n",
       "\n",
       "     received_ms origin destination  total_usd pax_type  refundable  \\\n",
       "0  1456966043892    BOS         CUN     488.69      ADT         NaN   \n",
       "1  1477189113113    BOS         CUN     740.93      ADT         NaN   \n",
       "2  1461587327634    BOS         CUN     497.80      ADT         NaN   \n",
       "3  1480794140210    BOS         CUN     383.58      ADT         NaN   \n",
       "4  1475535295102    BOS         CUN     315.93      ADT         NaN   \n",
       "\n",
       "          ...         returning_duration returning_stops  major_carrier_id  \\\n",
       "0         ...                        432               1                UA   \n",
       "1         ...                       1275               1                UA   \n",
       "2         ...                        441               1                AA   \n",
       "3         ...                        248               0                B6   \n",
       "4         ...                        452               1                AA   \n",
       "\n",
       "   total_stops  advance length_of_stay  includes_saturday_night_stay  \\\n",
       "0            2       57              4                          True   \n",
       "1            2       31              5                          True   \n",
       "2            2       15              7                          True   \n",
       "3            1      189              7                          True   \n",
       "4            2       41              4                         False   \n",
       "\n",
       "   available_seats  lowest_cabin_class highest_cabin_class  \n",
       "0                9                   E                   E  \n",
       "1                4                   E                   E  \n",
       "2                9                   E                   E  \n",
       "3                9                   E                   E  \n",
       "4                9                   E                   E  \n",
       "\n",
       "[5 rows x 27 columns]"
      ]
     },
     "execution_count": 6,
     "metadata": {},
     "output_type": "execute_result"
    }
   ],
   "source": [
    "# search_id.columns\n",
    "flights_sample.head()"
   ]
  },
  {
   "cell_type": "code",
   "execution_count": 7,
   "metadata": {},
   "outputs": [
    {
     "data": {
      "text/plain": [
       "Series([], Name: refundable, dtype: int64)"
      ]
     },
     "execution_count": 7,
     "metadata": {},
     "output_type": "execute_result"
    }
   ],
   "source": [
    "flights['refundable'].value_counts()"
   ]
  },
  {
   "cell_type": "code",
   "execution_count": 8,
   "metadata": {},
   "outputs": [
    {
     "name": "stdout",
     "output_type": "stream",
     "text": [
      "(106737,)\n"
     ]
    },
    {
     "data": {
      "text/plain": [
       "search_id\n",
       "00017fed-4c3b-3721-9d52-d3def47b94d2    4\n",
       "00027d0e-c5bf-3a7c-b515-34b1290d61c7    3\n",
       "00028d9a-e0eb-3a5f-b2ee-136972976547    1\n",
       "0003d6d6-2200-3120-b5f1-4149ab8ac710    1\n",
       "00042e4d-7b62-3402-b613-2d7b7c7b4ea4    7\n",
       "00048743-8fa3-3f28-921f-8f0aa85a2bb6    4\n",
       "00049ffd-69ef-3e5e-ba6d-375bf887e869    1\n",
       "0004ae06-6982-3eef-885a-e2cd2191ba71    1\n",
       "00051e35-2c0e-3cf2-b31f-686411ee5282    2\n",
       "00057273-512b-3285-b07b-c3bccabf79cd    7\n",
       "00057740-5226-33d1-aa84-ac9f33683373    1\n",
       "0005b838-000d-38d7-a768-8e7a3bc28f28    1\n",
       "0005bace-949a-30e3-a042-a22fbe9fa6f0    3\n",
       "0005e31d-ce4e-33bc-ae8b-e17e166213c2    4\n",
       "00069189-50d7-3a23-a92a-2dacdefeee73    4\n",
       "00078bb5-c5bc-3d64-b594-5982d9f90e5c    2\n",
       "00082080-3261-3722-a39b-8efac4acae53    4\n",
       "000875de-42c3-3a30-b2c7-9e0e1bd2120a    4\n",
       "000963fc-8fe8-343e-a666-9902eeaad4eb    1\n",
       "0009f3be-da1d-3675-8c99-89425350a0ca    5\n",
       "Name: search_id, dtype: int64"
      ]
     },
     "execution_count": 8,
     "metadata": {},
     "output_type": "execute_result"
    }
   ],
   "source": [
    "len(set(flights.search_id))\n",
    "# avg 3 count per unique search IDs\n",
    "#\n",
    "search_id = flights.groupby(['search_id'])['search_id'].count()\n",
    "\n",
    "print(search_id.shape)\n",
    "search_id.head(20)"
   ]
  },
  {
   "cell_type": "markdown",
   "metadata": {},
   "source": [
    "### Plot distribution of \"search_id\" counts:"
   ]
  },
  {
   "cell_type": "code",
   "execution_count": 9,
   "metadata": {},
   "outputs": [
    {
     "name": "stdout",
     "output_type": "stream",
     "text": [
      "Distribution of Search ID Counts:\n"
     ]
    },
    {
     "data": {
      "image/png": "[encoded data removed]",
      "text/plain": [
       "<Figure size 432x288 with 1 Axes>"
      ]
     },
     "metadata": {
      "needs_background": "light"
     },
     "output_type": "display_data"
    },
    {
     "data": {
      "text/plain": [
       "array([[<matplotlib.axes._subplots.AxesSubplot object at 0x1a1cf8b710>]],\n",
       "      dtype=object)"
      ]
     },
     "execution_count": 9,
     "metadata": {},
     "output_type": "execute_result"
    },
    {
     "data": {
      "image/png": "[encoded data removed]",
      "text/plain": [
       "<Figure size 432x288 with 1 Axes>"
      ]
     },
     "metadata": {
      "needs_background": "light"
     },
     "output_type": "display_data"
    },
    {
     "data": {
      "image/png": "[encoded data removed]",
      "text/plain": [
       "<Figure size 432x288 with 1 Axes>"
      ]
     },
     "metadata": {
      "needs_background": "light"
     },
     "output_type": "display_data"
    }
   ],
   "source": [
    "search_id_plot = -np.sort(-search_id)\n",
    "plt.plot(search_id_plot)\n",
    "print(\"Distribution of Search ID Counts:\")\n",
    "plt.show()\n",
    "\n",
    "search_id_box = search_id_plot[np.where(search_id_plot < 40)]\n",
    "pd.DataFrame(search_id_box).boxplot()\n",
    "pd.DataFrame(search_id_box).hist()"
   ]
  },
  {
   "cell_type": "markdown",
   "metadata": {},
   "source": [
    "### Plot Distribution of Flight Prices Under Differing Thresholds:"
   ]
  },
  {
   "cell_type": "code",
   "execution_count": 10,
   "metadata": {},
   "outputs": [
    {
     "name": "stdout",
     "output_type": "stream",
     "text": [
      "Distribution of Flight Prices Under $2000\n"
     ]
    },
    {
     "data": {
      "image/png": "[encoded data removed]",
      "text/plain": [
       "<Figure size 432x288 with 1 Axes>"
      ]
     },
     "metadata": {
      "needs_background": "light"
     },
     "output_type": "display_data"
    },
    {
     "name": "stdout",
     "output_type": "stream",
     "text": [
      "Distribution of Flight Prices Under $1000\n"
     ]
    },
    {
     "data": {
      "image/png": "[encoded data removed]",
      "text/plain": [
       "<Figure size 432x288 with 1 Axes>"
      ]
     },
     "metadata": {
      "needs_background": "light"
     },
     "output_type": "display_data"
    }
   ],
   "source": [
    "print(\"Distribution of Flight Prices Under $2000\")\n",
    "flights[flights['total_usd'] < 2000]['total_usd'].hist()\n",
    "plt.show()\n",
    "print(\"Distribution of Flight Prices Under $1000\")\n",
    "flights[flights['total_usd'] < 1000]['total_usd'].hist()\n",
    "plt.show()"
   ]
  },
  {
   "cell_type": "code",
   "execution_count": null,
   "metadata": {},
   "outputs": [],
   "source": []
  },
  {
   "cell_type": "code",
   "execution_count": 11,
   "metadata": {},
   "outputs": [
    {
     "name": "stdout",
     "output_type": "stream",
     "text": [
      "ADT    424754\n",
      "NaN     56751\n",
      "Name: pax_type, dtype: int64\n",
      "NaN    481505\n",
      "Name: refundable, dtype: int64\n",
      "BOS    481505\n",
      "Name: origin, dtype: int64\n",
      "CUN    481505\n",
      "Name: destination, dtype: int64\n",
      "UA     188265\n",
      "AA     161010\n",
      "NaN     56751\n",
      "DL      39109\n",
      "AM      12556\n",
      "B6      11165\n",
      "AC       9844\n",
      "NK       1814\n",
      "WS        717\n",
      "SY        175\n",
      "CM         85\n",
      "VX          7\n",
      "HR          4\n",
      "AV          2\n",
      "AS          1\n",
      "Name: validating_carrier, dtype: int64\n",
      "UA    209851\n",
      "AA    161014\n",
      "DL     67257\n",
      "AM     13944\n",
      "B6     13909\n",
      "AC     11442\n",
      "NK      2085\n",
      "WS      1652\n",
      "SY       182\n",
      "CM       155\n",
      "VX        11\n",
      "AS         3\n",
      "Name: major_carrier_id, dtype: int64\n",
      "1    420502\n",
      "2     46636\n",
      "0     14133\n",
      "3       234\n",
      "Name: returning_stops, dtype: int64\n",
      "4      5607\n",
      "3      5408\n",
      "2      5080\n",
      "6      4857\n",
      "1      4852\n",
      "5      4640\n",
      "14     4619\n",
      "7      4470\n",
      "31     4297\n",
      "15     4174\n",
      "24     4145\n",
      "44     3944\n",
      "30     3900\n",
      "10     3770\n",
      "16     3734\n",
      "23     3729\n",
      "22     3720\n",
      "8      3719\n",
      "11     3708\n",
      "25     3691\n",
      "21     3657\n",
      "20     3627\n",
      "12     3626\n",
      "28     3621\n",
      "13     3611\n",
      "32     3608\n",
      "53     3587\n",
      "17     3569\n",
      "39     3552\n",
      "58     3549\n",
      "       ... \n",
      "297      96\n",
      "291      96\n",
      "301      94\n",
      "281      89\n",
      "317      88\n",
      "320      84\n",
      "286      84\n",
      "306      78\n",
      "305      71\n",
      "322      70\n",
      "321      66\n",
      "325      56\n",
      "323      56\n",
      "331      54\n",
      "318      43\n",
      "327      42\n",
      "328      38\n",
      "324      38\n",
      "330      35\n",
      "333      30\n",
      "326      19\n",
      "329      18\n",
      "335       5\n",
      "342       3\n",
      "332       3\n",
      "338       3\n",
      "337       2\n",
      "341       1\n",
      "334       1\n",
      "336       1\n",
      "Name: advance, Length: 341, dtype: int64\n",
      "7      151286\n",
      "4       80580\n",
      "5       72567\n",
      "6       54751\n",
      "3       41521\n",
      "8       26071\n",
      "9       12477\n",
      "10       9711\n",
      "2        6460\n",
      "14       5852\n",
      "11       4732\n",
      "12       2364\n",
      "13       2118\n",
      "16       1291\n",
      "15       1238\n",
      "17       1189\n",
      "21       1165\n",
      "0         990\n",
      "18        581\n",
      "1         470\n",
      "28        427\n",
      "57        399\n",
      "20        392\n",
      "19        346\n",
      "42        331\n",
      "59        286\n",
      "35        252\n",
      "37        246\n",
      "25        243\n",
      "24        131\n",
      "        ...  \n",
      "33         10\n",
      "66          8\n",
      "87          7\n",
      "58          5\n",
      "62          5\n",
      "99          5\n",
      "154         4\n",
      "47          4\n",
      "96          4\n",
      "130         4\n",
      "86          4\n",
      "132         4\n",
      "63          4\n",
      "76          3\n",
      "83          3\n",
      "144         3\n",
      "60          3\n",
      "53          3\n",
      "49          3\n",
      "117         3\n",
      "48          3\n",
      "134         3\n",
      "85          2\n",
      "94          2\n",
      "32          2\n",
      "61          2\n",
      "46          1\n",
      "43          1\n",
      "44          1\n",
      "45          1\n",
      "Name: length_of_stay, Length: 76, dtype: int64\n",
      "True     423094\n",
      "False     58411\n",
      "Name: includes_saturday_night_stay, dtype: int64\n",
      "9    178493\n",
      "1     70004\n",
      "2     53509\n",
      "4     46149\n",
      "3     43812\n",
      "5     28109\n",
      "6     23525\n",
      "7     21061\n",
      "8     16843\n",
      "Name: available_seats, dtype: int64\n",
      "E    480671\n",
      "B       834\n",
      "Name: lowest_cabin_class, dtype: int64\n",
      "E     467261\n",
      "F      10638\n",
      "B       3593\n",
      "EP         9\n",
      "U          4\n",
      "Name: highest_cabin_class, dtype: int64\n"
     ]
    }
   ],
   "source": [
    "flight_cats = flights.loc[:,\n",
    "                        ['pax_type','refundable'\n",
    "                          ,'origin','destination','validating_carrier'\n",
    "                      ,'major_carrier_id','returning_stops','advance','length_of_stay'\n",
    "                      ,'includes_saturday_night_stay','available_seats','lowest_cabin_class'\t\n",
    "                      ,'highest_cabin_class']]\n",
    "for i in flight_cats.columns:\n",
    "    print(flight_cats[i].value_counts(dropna=False))"
   ]
  },
  {
   "cell_type": "code",
   "execution_count": 12,
   "metadata": {},
   "outputs": [
    {
     "data": {
      "text/plain": [
       "Index(['Unnamed: 0', 'search_id', 'trip_index', 'received_date', 'received_ms',\n",
       "       'origin', 'destination', 'total_usd', 'pax_type', 'refundable',\n",
       "       'validating_carrier', 'departure_odate', 'departure_ms',\n",
       "       'outgoing_duration', 'outgoing_stops', 'return_odate', 'return_ms',\n",
       "       'returning_duration', 'returning_stops', 'major_carrier_id',\n",
       "       'total_stops', 'advance', 'length_of_stay',\n",
       "       'includes_saturday_night_stay', 'available_seats', 'lowest_cabin_class',\n",
       "       'highest_cabin_class'],\n",
       "      dtype='object')"
      ]
     },
     "execution_count": 12,
     "metadata": {},
     "output_type": "execute_result"
    }
   ],
   "source": [
    "flights.columns"
   ]
  },
  {
   "cell_type": "code",
   "execution_count": 13,
   "metadata": {},
   "outputs": [
    {
     "name": "stderr",
     "output_type": "stream",
     "text": [
      "/Users/Tanner/anaconda3/lib/python3.7/site-packages/pandas/core/groupby/groupby.py:4656: FutureWarning: using a dict with renaming is deprecated and will be removed in a future version\n",
      "  return super(DataFrameGroupBy, self).aggregate(arg, *args, **kwargs)\n"
     ]
    },
    {
     "data": {
      "image/png": "[encoded data removed]",
      "text/plain": [
       "<Figure size 432x288 with 2 Axes>"
      ]
     },
     "metadata": {
      "needs_background": "light"
     },
     "output_type": "display_data"
    },
    {
     "data": {
      "image/png": "[encoded data removed]",
      "text/plain": [
       "<Figure size 432x288 with 2 Axes>"
      ]
     },
     "metadata": {
      "needs_background": "light"
     },
     "output_type": "display_data"
    },
    {
     "data": {
      "image/png": "[encoded data removed]",
      "text/plain": [
       "<Figure size 432x288 with 2 Axes>"
      ]
     },
     "metadata": {
      "needs_background": "light"
     },
     "output_type": "display_data"
    }
   ],
   "source": [
    "# Univariate \n",
    "uni_cols = ['validating_carrier'\n",
    "#             ,'advance'\n",
    "#             ,'includes_saturday_night_stay'\n",
    "#             ,'length_of_stay'\n",
    "            ,'major_carrier_id'\n",
    "            ,'lowest_cabin_class'\n",
    "#             ,'total_stops'\n",
    "           ]\n",
    "\n",
    "\n",
    "for col in uni_cols:\n",
    "    flights_group1 = flights.groupby(col,sort=False)[col,'total_usd'].agg({\n",
    "        'count': 'count',\n",
    "        'mean': 'mean'})\n",
    "    flights_group1.columns = [col,'count','total_usd_mean']\n",
    "    flights_group2 = flights_group1.sort_values('total_usd_mean',ascending=False)\n",
    "\n",
    "    x_bar = flights_group2[col].index[0:10]\n",
    "    y_bar = flights_group2['count'][0:10]\n",
    "    y_line = flights_group2['total_usd_mean'][0:10]\n",
    "\n",
    "    y_line = flights_group2['total_usd_mean'][0:10]\n",
    "\n",
    "    y1 = flights_group2[col].index[0:10]\n",
    "    y2 = flights_group2['count'][0:10]\n",
    "\n",
    "    fig, ax1 = plt.subplots()\n",
    "    ind = [x for x, _ in enumerate(x_bar)]\n",
    "\n",
    "    ax2 = ax1.twinx()\n",
    "    ax2.bar(y1, y2, 'b-',alpha=0.3)\n",
    "    ax1.plot(y1, y_line, 'g-',marker='o')\n",
    "\n",
    "    ax1.set_xlabel(col)\n",
    "    ax1.set_ylabel('Avg USD', color='g')\n",
    "    ax2.set_ylabel('Count', color='b')\n",
    "\n",
    "    plt.show()"
   ]
  },
  {
   "cell_type": "markdown",
   "metadata": {},
   "source": [
    "## III. Create Time Features and Prepare Other Variables\n"
   ]
  },
  {
   "cell_type": "markdown",
   "metadata": {},
   "source": [
    "Using 700k flights as a representative sample"
   ]
  },
  {
   "cell_type": "code",
   "execution_count": 14,
   "metadata": {},
   "outputs": [
    {
     "data": {
      "text/plain": [
       "ADT        264696\n",
       "missing     35304\n",
       "Name: pax_type_full, dtype: int64"
      ]
     },
     "execution_count": 14,
     "metadata": {},
     "output_type": "execute_result"
    }
   ],
   "source": [
    "flights_test = flights.sample(300000)\n",
    "\n",
    "flights_test['pax_type_full'] = flights['pax_type'].fillna('missing')\n",
    "flights_test['pax_type_full'].value_counts()"
   ]
  },
  {
   "cell_type": "code",
   "execution_count": 15,
   "metadata": {},
   "outputs": [
    {
     "name": "stderr",
     "output_type": "stream",
     "text": [
      "/Users/Tanner/anaconda3/lib/python3.7/site-packages/ipykernel_launcher.py:9: FutureWarning: using a dict on a Series for aggregation\n",
      "is deprecated and will be removed in a future version\n",
      "  if __name__ == '__main__':\n"
     ]
    },
    {
     "data": {
      "text/plain": [
       "434248"
      ]
     },
     "execution_count": 15,
     "metadata": {},
     "output_type": "execute_result"
    }
   ],
   "source": [
    "#Past price features - if we have time, create a timeline of all prices for every historical day for each airline\n",
    "\n",
    "historical_prices = flights.groupby(\n",
    "    ['received_date','departure_odate'\n",
    "     ,'return_odate','major_carrier_id','departure_ms','return_ms'\n",
    "    ]\n",
    ")['total_usd'].agg({'max':'max'\n",
    "                  ,'min':'min'\n",
    "                  ,'mean':'mean'})\n",
    "\n",
    "len(historical_prices)\n",
    "# price_ratio_1_days = \n",
    "# price_ratio_7_days = \n",
    "# price_ratio_30_days = \n",
    "# price_ratio_90_days = \n",
    "# price_ratio_180_days = "
   ]
  },
  {
   "cell_type": "code",
   "execution_count": 16,
   "metadata": {},
   "outputs": [
    {
     "data": {
      "text/html": [
       "<div>\n",
       "<style scoped>\n",
       "    .dataframe tbody tr th:only-of-type {\n",
       "        vertical-align: middle;\n",
       "    }\n",
       "\n",
       "    .dataframe tbody tr th {\n",
       "        vertical-align: top;\n",
       "    }\n",
       "\n",
       "    .dataframe thead th {\n",
       "        text-align: right;\n",
       "    }\n",
       "</style>\n",
       "<table border=\"1\" class=\"dataframe\">\n",
       "  <thead>\n",
       "    <tr style=\"text-align: right;\">\n",
       "      <th></th>\n",
       "      <th></th>\n",
       "      <th></th>\n",
       "      <th></th>\n",
       "      <th></th>\n",
       "      <th></th>\n",
       "      <th>max</th>\n",
       "      <th>min</th>\n",
       "      <th>mean</th>\n",
       "    </tr>\n",
       "    <tr>\n",
       "      <th>received_date</th>\n",
       "      <th>departure_odate</th>\n",
       "      <th>return_odate</th>\n",
       "      <th>major_carrier_id</th>\n",
       "      <th>departure_ms</th>\n",
       "      <th>return_ms</th>\n",
       "      <th></th>\n",
       "      <th></th>\n",
       "      <th></th>\n",
       "    </tr>\n",
       "  </thead>\n",
       "  <tbody>\n",
       "    <tr>\n",
       "      <th>2016-02-23</th>\n",
       "      <th>2016-02-27</th>\n",
       "      <th>2016-03-05</th>\n",
       "      <th>DL</th>\n",
       "      <th>1456569000000</th>\n",
       "      <th>1457179200000</th>\n",
       "      <td>654.39</td>\n",
       "      <td>654.39</td>\n",
       "      <td>654.39</td>\n",
       "    </tr>\n",
       "    <tr>\n",
       "      <th>2016-10-25</th>\n",
       "      <th>2016-12-09</th>\n",
       "      <th>2016-12-17</th>\n",
       "      <th>AA</th>\n",
       "      <th>1481277600000</th>\n",
       "      <th>1482005700000</th>\n",
       "      <td>317.43</td>\n",
       "      <td>317.43</td>\n",
       "      <td>317.43</td>\n",
       "    </tr>\n",
       "    <tr>\n",
       "      <th>2016-03-01</th>\n",
       "      <th>2016-10-07</th>\n",
       "      <th>2016-10-11</th>\n",
       "      <th>UA</th>\n",
       "      <th>1475850600000</th>\n",
       "      <th>1476206100000</th>\n",
       "      <td>848.19</td>\n",
       "      <td>848.19</td>\n",
       "      <td>848.19</td>\n",
       "    </tr>\n",
       "    <tr>\n",
       "      <th>2016-07-26</th>\n",
       "      <th>2016-08-22</th>\n",
       "      <th>2016-08-26</th>\n",
       "      <th>UA</th>\n",
       "      <th>1471864500000</th>\n",
       "      <th>1472241480000</th>\n",
       "      <td>681.47</td>\n",
       "      <td>681.47</td>\n",
       "      <td>681.47</td>\n",
       "    </tr>\n",
       "    <tr>\n",
       "      <th>2016-03-30</th>\n",
       "      <th>2016-04-15</th>\n",
       "      <th>2016-04-19</th>\n",
       "      <th>AA</th>\n",
       "      <th>1460712600000</th>\n",
       "      <th>1461084900000</th>\n",
       "      <td>714.69</td>\n",
       "      <td>714.69</td>\n",
       "      <td>714.69</td>\n",
       "    </tr>\n",
       "    <tr>\n",
       "      <th>2015-09-19</th>\n",
       "      <th>2016-01-05</th>\n",
       "      <th>2016-01-12</th>\n",
       "      <th>DL</th>\n",
       "      <th>1452000600000</th>\n",
       "      <th>1452603600000</th>\n",
       "      <td>437.83</td>\n",
       "      <td>437.83</td>\n",
       "      <td>437.83</td>\n",
       "    </tr>\n",
       "    <tr>\n",
       "      <th>2016-05-15</th>\n",
       "      <th>2016-06-29</th>\n",
       "      <th>2016-07-03</th>\n",
       "      <th>UA</th>\n",
       "      <th>1467198000000</th>\n",
       "      <th>1467545400000</th>\n",
       "      <td>497.08</td>\n",
       "      <td>497.08</td>\n",
       "      <td>497.08</td>\n",
       "    </tr>\n",
       "    <tr>\n",
       "      <th>2015-08-22</th>\n",
       "      <th>2015-11-19</th>\n",
       "      <th>2015-11-23</th>\n",
       "      <th>DL</th>\n",
       "      <th>1447929600000</th>\n",
       "      <th>1448280000000</th>\n",
       "      <td>1222.28</td>\n",
       "      <td>1222.28</td>\n",
       "      <td>1222.28</td>\n",
       "    </tr>\n",
       "    <tr>\n",
       "      <th>2016-09-30</th>\n",
       "      <th>2016-11-08</th>\n",
       "      <th>2016-11-14</th>\n",
       "      <th>UA</th>\n",
       "      <th>1478614920000</th>\n",
       "      <th>1479141600000</th>\n",
       "      <td>377.69</td>\n",
       "      <td>377.69</td>\n",
       "      <td>377.69</td>\n",
       "    </tr>\n",
       "    <tr>\n",
       "      <th>2016-04-14</th>\n",
       "      <th>2016-05-07</th>\n",
       "      <th>2016-05-13</th>\n",
       "      <th>AA</th>\n",
       "      <th>1462637700000</th>\n",
       "      <th>1463158200000</th>\n",
       "      <td>362.80</td>\n",
       "      <td>362.80</td>\n",
       "      <td>362.80</td>\n",
       "    </tr>\n",
       "  </tbody>\n",
       "</table>\n",
       "</div>"
      ],
      "text/plain": [
       "                                                                                             max  \\\n",
       "received_date departure_odate return_odate major_carrier_id departure_ms  return_ms                \n",
       "2016-02-23    2016-02-27      2016-03-05   DL               1456569000000 1457179200000   654.39   \n",
       "2016-10-25    2016-12-09      2016-12-17   AA               1481277600000 1482005700000   317.43   \n",
       "2016-03-01    2016-10-07      2016-10-11   UA               1475850600000 1476206100000   848.19   \n",
       "2016-07-26    2016-08-22      2016-08-26   UA               1471864500000 1472241480000   681.47   \n",
       "2016-03-30    2016-04-15      2016-04-19   AA               1460712600000 1461084900000   714.69   \n",
       "2015-09-19    2016-01-05      2016-01-12   DL               1452000600000 1452603600000   437.83   \n",
       "2016-05-15    2016-06-29      2016-07-03   UA               1467198000000 1467545400000   497.08   \n",
       "2015-08-22    2015-11-19      2015-11-23   DL               1447929600000 1448280000000  1222.28   \n",
       "2016-09-30    2016-11-08      2016-11-14   UA               1478614920000 1479141600000   377.69   \n",
       "2016-04-14    2016-05-07      2016-05-13   AA               1462637700000 1463158200000   362.80   \n",
       "\n",
       "                                                                                             min  \\\n",
       "received_date departure_odate return_odate major_carrier_id departure_ms  return_ms                \n",
       "2016-02-23    2016-02-27      2016-03-05   DL               1456569000000 1457179200000   654.39   \n",
       "2016-10-25    2016-12-09      2016-12-17   AA               1481277600000 1482005700000   317.43   \n",
       "2016-03-01    2016-10-07      2016-10-11   UA               1475850600000 1476206100000   848.19   \n",
       "2016-07-26    2016-08-22      2016-08-26   UA               1471864500000 1472241480000   681.47   \n",
       "2016-03-30    2016-04-15      2016-04-19   AA               1460712600000 1461084900000   714.69   \n",
       "2015-09-19    2016-01-05      2016-01-12   DL               1452000600000 1452603600000   437.83   \n",
       "2016-05-15    2016-06-29      2016-07-03   UA               1467198000000 1467545400000   497.08   \n",
       "2015-08-22    2015-11-19      2015-11-23   DL               1447929600000 1448280000000  1222.28   \n",
       "2016-09-30    2016-11-08      2016-11-14   UA               1478614920000 1479141600000   377.69   \n",
       "2016-04-14    2016-05-07      2016-05-13   AA               1462637700000 1463158200000   362.80   \n",
       "\n",
       "                                                                                            mean  \n",
       "received_date departure_odate return_odate major_carrier_id departure_ms  return_ms               \n",
       "2016-02-23    2016-02-27      2016-03-05   DL               1456569000000 1457179200000   654.39  \n",
       "2016-10-25    2016-12-09      2016-12-17   AA               1481277600000 1482005700000   317.43  \n",
       "2016-03-01    2016-10-07      2016-10-11   UA               1475850600000 1476206100000   848.19  \n",
       "2016-07-26    2016-08-22      2016-08-26   UA               1471864500000 1472241480000   681.47  \n",
       "2016-03-30    2016-04-15      2016-04-19   AA               1460712600000 1461084900000   714.69  \n",
       "2015-09-19    2016-01-05      2016-01-12   DL               1452000600000 1452603600000   437.83  \n",
       "2016-05-15    2016-06-29      2016-07-03   UA               1467198000000 1467545400000   497.08  \n",
       "2015-08-22    2015-11-19      2015-11-23   DL               1447929600000 1448280000000  1222.28  \n",
       "2016-09-30    2016-11-08      2016-11-14   UA               1478614920000 1479141600000   377.69  \n",
       "2016-04-14    2016-05-07      2016-05-13   AA               1462637700000 1463158200000   362.80  "
      ]
     },
     "execution_count": 16,
     "metadata": {},
     "output_type": "execute_result"
    }
   ],
   "source": [
    "historical_prices.sample(10)"
   ]
  },
  {
   "cell_type": "code",
   "execution_count": 17,
   "metadata": {},
   "outputs": [
    {
     "name": "stdout",
     "output_type": "stream",
     "text": [
      "0    2016-03-02\n",
      "1    2016-10-22\n",
      "2    2016-04-25\n",
      "3    2016-12-03\n",
      "4    2016-10-03\n",
      "Name: received_date, dtype: object\n",
      "0    2016-04-28\n",
      "1    2016-11-22\n",
      "2    2016-05-10\n",
      "3    2017-06-10\n",
      "4    2016-11-13\n",
      "Name: departure_odate, dtype: object\n",
      "0    2016-05-02\n",
      "1    2016-11-27\n",
      "2    2016-05-17\n",
      "3    2017-06-17\n",
      "4    2016-11-17\n",
      "Name: return_odate, dtype: object\n"
     ]
    }
   ],
   "source": [
    "print(flights['received_date'].head())\n",
    "print(flights['departure_odate'].head())\n",
    "print(flights['return_odate'].head())\n",
    "\n",
    "date_columns = ['received_date','departure_odate','return_odate']\n",
    "\n",
    "\n",
    "flights_test['received_date_dt'] = flights_test['received_date'].apply(lambda x: datetime.strptime(x,'%Y-%m-%d'))\n",
    "flights_test['departure_date_dt'] = flights_test['departure_odate'].apply(lambda x: datetime.strptime(x,'%Y-%m-%d'))\n",
    "flights_test['return_date_dt'] = flights_test['return_odate'].apply(lambda x: datetime.strptime(x,'%Y-%m-%d'))"
   ]
  },
  {
   "cell_type": "code",
   "execution_count": 18,
   "metadata": {},
   "outputs": [
    {
     "data": {
      "text/plain": [
       "362590     50.0\n",
       "25821      37.0\n",
       "52060     137.0\n",
       "247172     98.0\n",
       "274126    167.0\n",
       "415587    108.0\n",
       "293691     85.0\n",
       "51464      82.0\n",
       "200564      9.0\n",
       "39127      22.0\n",
       "Name: days_until_return, dtype: float64"
      ]
     },
     "execution_count": 18,
     "metadata": {},
     "output_type": "execute_result"
    }
   ],
   "source": [
    "flights_test['days_until_return'] = (flights_test['return_date_dt'] - flights_test['received_date_dt'])\n",
    "flights_test['days_until_return'].head()\n",
    "\n",
    "test = flights_test['days_until_return']/ np.timedelta64(1, 'D')\n",
    "test[0:10]"
   ]
  },
  {
   "cell_type": "markdown",
   "metadata": {},
   "source": [
    "### Prepare date variables:"
   ]
  },
  {
   "cell_type": "code",
   "execution_count": 19,
   "metadata": {},
   "outputs": [],
   "source": [
    "# If we had more time, using received_ms we could bring in hour, minute as cyclical continuous features \n",
    "# using sin function, or create a \"time of day\" bucket (e.g., morning, evening, etc.)\n",
    "\n",
    "# days until departure should already be defined with \"advance\", but doing manual check\n",
    "flights_test['days_until_departure'] = (flights_test['departure_date_dt'] - flights_test['received_date_dt'])\n",
    "flights_test['days_until_departure'] = flights_test['days_until_return']/ np.timedelta64(1, 'D')\n",
    "\n",
    "# flights_test['days_until_departure'] = flights_test['days_until_departure'].astype('int')\n",
    "flights_test['days_until_return'] = (flights_test['return_date_dt'] - flights_test['received_date_dt'])\n",
    "flights_test['days_until_return'] = flights_test['days_until_return']/ np.timedelta64(1, 'D')\n",
    "# flights_test['days_until_return'] = flights_test['days_until_return'].astype('int')\n",
    "\n",
    "def weekend(x):\n",
    "    if x >= 5:\n",
    "        return 1\n",
    "    else:      \n",
    "        return 0\n",
    "\n",
    "flights_test['received_date_year'] = flights_test['received_date_dt'].dt.year\n",
    "flights_test['received_date_quarter'] = flights_test['received_date_dt'].dt.quarter\n",
    "flights_test['received_date_month'] = flights_test['received_date_dt'].dt.month\n",
    "flights_test['received_date_week'] = flights_test['received_date_dt'].dt.week\n",
    "flights_test['received_date_day'] = flights_test['received_date_dt'].dt.day\n",
    "flights_test['received_date_day_of_week'] = flights_test['received_date_dt'].dt.dayofweek\n",
    "flights_test['received_date_week_of_year'] = flights_test['received_date_dt'].dt.weekofyear\n",
    "flights_test['received_date_weekend_flag'] = flights_test['received_date_day_of_week'].apply(weekend) \n",
    "\n",
    "flights_test['departure_date_year'] = flights_test['departure_date_dt'].dt.year\n",
    "flights_test['departure_date_quarter'] = flights_test['departure_date_dt'].dt.quarter\n",
    "flights_test['departure_date_month'] = flights_test['departure_date_dt'].dt.month\n",
    "flights_test['departure_date_week'] = flights_test['departure_date_dt'].dt.week\n",
    "flights_test['departure_date_day'] = flights_test['departure_date_dt'].dt.day\n",
    "flights_test['departure_date_day_of_week'] = flights_test['departure_date_dt'].dt.dayofweek\n",
    "flights_test['departure_date_week_of_year'] = flights_test['departure_date_dt'].dt.weekofyear\n",
    "flights_test['departure_date_weekend_flag'] = flights_test['departure_date_day_of_week'].apply(weekend)\n",
    "\n",
    "flights_test['return_date_year'] = flights_test['return_date_dt'].dt.year\n",
    "flights_test['return_date_quarter'] = flights_test['return_date_dt'].dt.quarter\n",
    "flights_test['return_date_month'] = flights_test['return_date_dt'].dt.month\n",
    "flights_test['return_date_week'] = flights_test['return_date_dt'].dt.week\n",
    "flights_test['return_date_day'] = flights_test['return_date_dt'].dt.day\n",
    "flights_test['return_date_day_of_week'] = flights_test['return_date_dt'].dt.dayofweek\n",
    "flights_test['return_date_week_of_year'] = flights_test['return_date_dt'].dt.weekofyear\n",
    "flights_test['return_date_weekend_flag'] = flights_test['return_date_day_of_week'].apply(weekend)\n",
    "\n",
    "# flights_test['return_date_day_of_week'].value_counts()\n",
    "# flights_test['return_date_day'].value_counts()\n",
    "\n",
    "# flights_test['days_until_return'].value_counts()\n",
    "# flights_test['days_until_departure'].value_counts()"
   ]
  },
  {
   "cell_type": "markdown",
   "metadata": {},
   "source": [
    "## IV. Begin RF Model"
   ]
  },
  {
   "cell_type": "markdown",
   "metadata": {},
   "source": [
    "### Define Features:"
   ]
  },
  {
   "cell_type": "code",
   "execution_count": 20,
   "metadata": {},
   "outputs": [],
   "source": [
    "features = [    \n",
    "    # target (will drop)\n",
    "    'total_usd'\n",
    "    \n",
    "    #time variable\n",
    "    ,'advance'\n",
    "    \n",
    "        # key time series variables - commenting out so advance gets precedence and we don't overlap \n",
    "#     ,'days_until_departure','days_until_return'\n",
    "    ,'pax_type_full'\n",
    "    ,'validating_carrier','major_carrier_id'\n",
    "    ,'outgoing_stops','returning_stops'\n",
    "    ,'length_of_stay','available_seats'\n",
    "    ,'lowest_cabin_class','highest_cabin_class'\n",
    "    ,'outgoing_duration','returning_duration'\n",
    "#     ,'received_ms','departure_ms','return_ms'\n",
    "   \n",
    "    ,'includes_saturday_night_stay'\n",
    "\n",
    "    \n",
    "#       # key date variables - removed many without sacrificing too much accuracy\n",
    "    ,'received_date_day_of_week','received_date_weekend_flag','received_date_month'\n",
    "#     ,'received_date_year','received_date_quarter','received_date_week'\n",
    "#     ,'received_date_day','received_date_week_of_year'\n",
    "   \n",
    "    ,'departure_date_day_of_week','departure_date_weekend_flag','departure_date_month'\n",
    "#     ,'departure_date_year','departure_date_quarter','departure_date_week'\n",
    "#     ,'departure_date_day','departure_date_week_of_year'\n",
    "   \n",
    "    ,'return_date_day_of_week','return_date_weekend_flag','return_date_month'\n",
    "#     ,'return_date_year','return_date_quarter','return_date_week'\n",
    "#     ,'return_date_day','return_date_week_of_year'\n",
    "          \n",
    "    # past price ratios (if time)\n",
    "]\n",
    "\n"
   ]
  },
  {
   "cell_type": "markdown",
   "metadata": {},
   "source": [
    "### Impute Features with Mean or Most Frequent Values for Simplicity:"
   ]
  },
  {
   "cell_type": "code",
   "execution_count": 21,
   "metadata": {},
   "outputs": [],
   "source": [
    "class DataFrameImputer(TransformerMixin):\n",
    "\n",
    "    def __init__(self):\n",
    "        \"\"\"Impute missing values--\n",
    "         dtype objects imputed with the most frequent value \n",
    "         other types are imputed with mean \n",
    "        \"\"\"\n",
    "    def fit(self, X, y=None):\n",
    "\n",
    "        self.fill = pd.Series([X[c].value_counts().index[0]\n",
    "            if X[c].dtype == np.dtype('O') else X[c].mean() for c in X],\n",
    "            index=X.columns)\n",
    "\n",
    "        return self\n",
    "\n",
    "    def transform(self, X, y=None):\n",
    "        return X.fillna(self.fill)\n",
    "\n",
    "data = [\n",
    "    ['a', 1, 2],\n",
    "    ['b', 1, 1],\n",
    "    ['b', 2, 2],\n",
    "    [np.nan, np.nan, np.nan]\n",
    "]"
   ]
  },
  {
   "cell_type": "markdown",
   "metadata": {},
   "source": [
    "### Run imputation and transform features into dummy space:"
   ]
  },
  {
   "cell_type": "code",
   "execution_count": 23,
   "metadata": {},
   "outputs": [
    {
     "name": "stderr",
     "output_type": "stream",
     "text": [
      "/Users/Tanner/anaconda3/lib/python3.7/site-packages/ipykernel_launcher.py:6: SettingWithCopyWarning: \n",
      "A value is trying to be set on a copy of a slice from a DataFrame.\n",
      "Try using .loc[row_indexer,col_indexer] = value instead\n",
      "\n",
      "See the caveats in the documentation: http://pandas.pydata.org/pandas-docs/stable/indexing.html#indexing-view-versus-copy\n",
      "  \n"
     ]
    },
    {
     "name": "stdout",
     "output_type": "stream",
     "text": [
      "(225000, 24)\n",
      "(75000, 24)\n",
      "(225000, 47)\n",
      "(75000, 47)\n"
     ]
    }
   ],
   "source": [
    "# flights_test = flights_test.reset_index()\n",
    "\n",
    "flights_test_features = flights_test[features]\n",
    "\n",
    "random.seed(9999)\n",
    "flights_test_features['random'] = [random.random() for i in range(len(flights_test_features))]\n",
    "\n",
    "flights_test_features_impute = DataFrameImputer().fit_transform(flights_test_features)\n",
    "\n",
    "flight_train = flights_test_features_impute.loc[flights_test_features_impute['random'] < .75,:]\n",
    "flight_test = flights_test_features_impute.loc[flights_test_features_impute['random'] >= .75,:]\n",
    "print(flight_train.shape)\n",
    "print(flight_test.shape)\n",
    "\n",
    "# flight_train_impute = DataFrameImputer().fit_transform(flight_train)\n",
    "# flight_test_impute = DataFrameImputer().fit_transform(flight_test)\n",
    "\n",
    "train_features = pd.get_dummies(flight_train)\n",
    "\n",
    "test_features = pd.get_dummies(flight_test)\n",
    "train_features = train_features[test_features.columns]\n",
    "\n",
    "train_target = train_features['total_usd']\n",
    "\n",
    "test_target = test_features['total_usd']\n",
    "\n",
    "train_features = train_features.drop(['total_usd','random'],axis=1)\n",
    "\n",
    "test_features = test_features.drop(['total_usd','random'],axis=1)\n",
    "\n",
    "print(train_features.shape)\n",
    "print(test_features.shape)\n"
   ]
  },
  {
   "cell_type": "markdown",
   "metadata": {},
   "source": [
    "### Run random forest model:"
   ]
  },
  {
   "cell_type": "code",
   "execution_count": 24,
   "metadata": {},
   "outputs": [
    {
     "name": "stdout",
     "output_type": "stream",
     "text": [
      "Total time: 1753.7364 seconds\n"
     ]
    }
   ],
   "source": [
    "start = timeit.default_timer()\n",
    "model = sklearn.ensemble.RandomForestRegressor(bootstrap=True, \n",
    "#                                                criterion='gini',\n",
    "            max_depth=None, max_features='auto', max_leaf_nodes=None,\n",
    "            min_impurity_decrease=0.0, min_impurity_split=None,\n",
    "            min_samples_leaf=10, min_samples_split=2,\n",
    "            min_weight_fraction_leaf=0.0\n",
    "            , n_estimators=1000\n",
    "            , n_jobs=None,\n",
    "            oob_score=False, random_state=None, verbose=0,\n",
    "            warm_start=False)\n",
    "\n",
    "model.fit(train_features,train_target)\n",
    "\n",
    "\n",
    "end = timeit.default_timer()\n",
    "print(\"Total time:\",round(end - start,4), \"seconds\")"
   ]
  },
  {
   "cell_type": "code",
   "execution_count": 25,
   "metadata": {},
   "outputs": [],
   "source": [
    "# Save RF model, which took about an hour to run (3.28 GB)\n",
    "filename = 'finalized_model.sav'\n",
    "# joblib.dump(model, filename)"
   ]
  },
  {
   "cell_type": "markdown",
   "metadata": {},
   "source": [
    "### Predict train and holdout prices and visualize most important predictors:"
   ]
  },
  {
   "cell_type": "code",
   "execution_count": 26,
   "metadata": {},
   "outputs": [
    {
     "name": "stdout",
     "output_type": "stream",
     "text": [
      "126.08904814246041\n",
      "                            Importance\n",
      "highest_cabin_class_E           0.1291\n",
      "return_date_month               0.1251\n",
      "departure_date_month            0.0968\n",
      "advance                         0.0962\n",
      "returning_duration              0.0951\n",
      "return_date_day_of_week         0.0912\n",
      "received_date_month             0.0550\n",
      "outgoing_duration               0.0508\n",
      "length_of_stay                  0.0441\n",
      "departure_date_day_of_week      0.0436\n",
      "pax_type_full_missing           0.0251\n",
      "validating_carrier_DL           0.0245\n",
      "major_carrier_id_B6             0.0178\n",
      "available_seats                 0.0154\n",
      "major_carrier_id_UA             0.0126\n",
      "return_date_weekend_flag        0.0097\n",
      "received_date_day_of_week       0.0087\n",
      "returning_stops                 0.0075\n",
      "pax_type_full_ADT               0.0071\n",
      "major_carrier_id_DL             0.0064\n"
     ]
    },
    {
     "data": {
      "image/png": "[encoded data removed]",
      "text/plain": [
       "<Figure size 864x432 with 1 Axes>"
      ]
     },
     "metadata": {
      "needs_background": "light"
     },
     "output_type": "display_data"
    },
    {
     "data": {
      "text/html": [
       "<div>\n",
       "<style scoped>\n",
       "    .dataframe tbody tr th:only-of-type {\n",
       "        vertical-align: middle;\n",
       "    }\n",
       "\n",
       "    .dataframe tbody tr th {\n",
       "        vertical-align: top;\n",
       "    }\n",
       "\n",
       "    .dataframe thead th {\n",
       "        text-align: right;\n",
       "    }\n",
       "</style>\n",
       "<table border=\"1\" class=\"dataframe\">\n",
       "  <thead>\n",
       "    <tr style=\"text-align: right;\">\n",
       "      <th></th>\n",
       "      <th>test_predict</th>\n",
       "      <th>test_target</th>\n",
       "    </tr>\n",
       "  </thead>\n",
       "  <tbody>\n",
       "    <tr>\n",
       "      <th>28994</th>\n",
       "      <td>708.669306</td>\n",
       "      <td>422.69</td>\n",
       "    </tr>\n",
       "    <tr>\n",
       "      <th>23255</th>\n",
       "      <td>573.305007</td>\n",
       "      <td>669.26</td>\n",
       "    </tr>\n",
       "    <tr>\n",
       "      <th>50042</th>\n",
       "      <td>844.000007</td>\n",
       "      <td>1076.91</td>\n",
       "    </tr>\n",
       "    <tr>\n",
       "      <th>33449</th>\n",
       "      <td>528.949657</td>\n",
       "      <td>462.52</td>\n",
       "    </tr>\n",
       "    <tr>\n",
       "      <th>4858</th>\n",
       "      <td>485.450183</td>\n",
       "      <td>428.80</td>\n",
       "    </tr>\n",
       "    <tr>\n",
       "      <th>46795</th>\n",
       "      <td>610.862538</td>\n",
       "      <td>547.69</td>\n",
       "    </tr>\n",
       "    <tr>\n",
       "      <th>41322</th>\n",
       "      <td>666.278442</td>\n",
       "      <td>573.39</td>\n",
       "    </tr>\n",
       "    <tr>\n",
       "      <th>10207</th>\n",
       "      <td>759.090002</td>\n",
       "      <td>782.52</td>\n",
       "    </tr>\n",
       "    <tr>\n",
       "      <th>15664</th>\n",
       "      <td>1291.834718</td>\n",
       "      <td>1329.02</td>\n",
       "    </tr>\n",
       "    <tr>\n",
       "      <th>19575</th>\n",
       "      <td>674.090910</td>\n",
       "      <td>752.79</td>\n",
       "    </tr>\n",
       "    <tr>\n",
       "      <th>25946</th>\n",
       "      <td>584.538352</td>\n",
       "      <td>634.70</td>\n",
       "    </tr>\n",
       "    <tr>\n",
       "      <th>4030</th>\n",
       "      <td>540.248126</td>\n",
       "      <td>535.28</td>\n",
       "    </tr>\n",
       "    <tr>\n",
       "      <th>259</th>\n",
       "      <td>566.562895</td>\n",
       "      <td>552.69</td>\n",
       "    </tr>\n",
       "    <tr>\n",
       "      <th>58711</th>\n",
       "      <td>337.184093</td>\n",
       "      <td>291.91</td>\n",
       "    </tr>\n",
       "    <tr>\n",
       "      <th>64303</th>\n",
       "      <td>488.097205</td>\n",
       "      <td>547.48</td>\n",
       "    </tr>\n",
       "    <tr>\n",
       "      <th>35067</th>\n",
       "      <td>420.621268</td>\n",
       "      <td>394.91</td>\n",
       "    </tr>\n",
       "    <tr>\n",
       "      <th>3171</th>\n",
       "      <td>505.548195</td>\n",
       "      <td>526.79</td>\n",
       "    </tr>\n",
       "    <tr>\n",
       "      <th>8685</th>\n",
       "      <td>456.238702</td>\n",
       "      <td>461.33</td>\n",
       "    </tr>\n",
       "    <tr>\n",
       "      <th>37139</th>\n",
       "      <td>512.020765</td>\n",
       "      <td>458.97</td>\n",
       "    </tr>\n",
       "    <tr>\n",
       "      <th>31037</th>\n",
       "      <td>311.905138</td>\n",
       "      <td>285.91</td>\n",
       "    </tr>\n",
       "  </tbody>\n",
       "</table>\n",
       "</div>"
      ],
      "text/plain": [
       "       test_predict  test_target\n",
       "28994    708.669306       422.69\n",
       "23255    573.305007       669.26\n",
       "50042    844.000007      1076.91\n",
       "33449    528.949657       462.52\n",
       "4858     485.450183       428.80\n",
       "46795    610.862538       547.69\n",
       "41322    666.278442       573.39\n",
       "10207    759.090002       782.52\n",
       "15664   1291.834718      1329.02\n",
       "19575    674.090910       752.79\n",
       "25946    584.538352       634.70\n",
       "4030     540.248126       535.28\n",
       "259      566.562895       552.69\n",
       "58711    337.184093       291.91\n",
       "64303    488.097205       547.48\n",
       "35067    420.621268       394.91\n",
       "3171     505.548195       526.79\n",
       "8685     456.238702       461.33\n",
       "37139    512.020765       458.97\n",
       "31037    311.905138       285.91"
      ]
     },
     "execution_count": 26,
     "metadata": {},
     "output_type": "execute_result"
    }
   ],
   "source": [
    "test_predict = model.predict(test_features)\n",
    "train_predict = model.predict(train_features)\n",
    "\n",
    "\n",
    "def rmse(y_true,y_pred):\n",
    "    return np.sqrt(sklearn.metrics.mean_squared_error(y_true,y_pred))\n",
    "\n",
    "print(rmse(test_target,test_predict))\n",
    "\n",
    "# plot_features(model,(10,14))\n",
    "feature_importances = model.feature_importances_\n",
    "importance_table = pd.DataFrame(feature_importances, index=train_features.columns, \n",
    "                          columns=[\"Importance\"]).sort_values(by=['Importance'],ascending=False)\n",
    "importance_table['Importance'] = round(importance_table['Importance'],4)\n",
    "print(importance_table.head(20))\n",
    "\n",
    "# ***visualize top 10 or more predictors\n",
    "x_bar = set(importance_table.index[0:10])\n",
    "y_bar = importance_table['Importance'][0:10]\n",
    "ind = [x for x, _ in enumerate(x_bar)]\n",
    "plt.rcParams['figure.figsize'] = [12, 6]\n",
    "\n",
    "plt.bar(ind,y_bar)\n",
    "plt.xticks(ind,x_bar)\n",
    "plt.show()\n",
    "\n",
    "\n",
    "compare = pd.DataFrame()\n",
    "compare['test_predict'] = test_predict\n",
    "compare['test_target'] = np.array(test_target)\n",
    "\n",
    "# test_target\n",
    "compare.sample(20)"
   ]
  },
  {
   "cell_type": "markdown",
   "metadata": {},
   "source": [
    "### Generate Predicted Price Distribution and Lift Curves:\n",
    "A lift curve visualizes risk: first, it sorts all predicted-actual pairs by predicted value; second, it groups these pairs into x (in this case 30) evenly counted buckets; finally, it calculates and plots the mean of each predicted and actual price for each bucket.\n"
   ]
  },
  {
   "cell_type": "code",
   "execution_count": 27,
   "metadata": {},
   "outputs": [
    {
     "name": "stdout",
     "output_type": "stream",
     "text": [
      "Distribution of Predicted Flight Costs:\n"
     ]
    },
    {
     "data": {
      "image/png": "[encoded data removed]",
      "text/plain": [
       "<Figure size 864x432 with 1 Axes>"
      ]
     },
     "metadata": {
      "needs_background": "light"
     },
     "output_type": "display_data"
    },
    {
     "name": "stdout",
     "output_type": "stream",
     "text": [
      "sum check: 46138814.5057 \n",
      "\n",
      "sum check: 46089965.88 \n",
      "\n",
      "total_usd\n",
      "0      273.261304\n",
      "1      298.294984\n",
      "2      319.620664\n",
      "3      340.180256\n",
      "4      358.744516\n",
      "5      377.756200\n",
      "6      398.122052\n",
      "7      419.843432\n",
      "8      440.192244\n",
      "9      459.736224\n",
      "10     476.171624\n",
      "11     494.063672\n",
      "12     514.257784\n",
      "13     536.891868\n",
      "14     557.523048\n",
      "15     572.732504\n",
      "16     589.389940\n",
      "17     605.223172\n",
      "18     624.596972\n",
      "19     643.793272\n",
      "20     667.721492\n",
      "21     694.322920\n",
      "22     725.288708\n",
      "23     759.611636\n",
      "24     804.493788\n",
      "25     859.391972\n",
      "26     925.033208\n",
      "27    1013.445856\n",
      "28    1161.418180\n",
      "29    1524.862860\n",
      "Name: total_usd, dtype: float64 0      292.094146\n",
      "1      327.490479\n",
      "2      350.473775\n",
      "3      371.546808\n",
      "4      392.000904\n",
      "5      411.816569\n",
      "6      431.913293\n",
      "7      452.038167\n",
      "8      470.290341\n",
      "9      487.845790\n",
      "10     506.188154\n",
      "11     523.684356\n",
      "12     540.901563\n",
      "13     557.382965\n",
      "14     572.052548\n",
      "15     584.858626\n",
      "16     598.496645\n",
      "17     613.359678\n",
      "18     628.753157\n",
      "19     645.139160\n",
      "20     663.455535\n",
      "21     686.331065\n",
      "22     712.769051\n",
      "23     741.885978\n",
      "24     776.888405\n",
      "25     821.351887\n",
      "26     877.702625\n",
      "27     957.163748\n",
      "28    1073.364943\n",
      "29    1386.285442\n",
      "dtype: float64\n"
     ]
    },
    {
     "data": {
      "image/png": "[encoded data removed]",
      "text/plain": [
       "<Figure size 864x432 with 1 Axes>"
      ]
     },
     "metadata": {
      "needs_background": "light"
     },
     "output_type": "display_data"
    }
   ],
   "source": [
    "curve = np.sort(test_predict)\n",
    "# curve = np.sort(test_target)\n",
    "plt.plot(curve)\n",
    "print(\"Distribution of Predicted Flight Costs:\")\n",
    "plt.show()\n",
    "\n",
    "print(\"sum check:\",round(test_predict.sum(),4),'\\n')\n",
    "print(\"sum check:\",round(test_target.sum(),4),'\\n')\n",
    "\n",
    "\n",
    "def LiftCurve(actual, predicted, bins):\n",
    "    actual_ranks = pd.qcut(actual.rank(method='first'),bins,labels=False)\n",
    "    pred_ranks = pd.qcut(predicted.rank(method='first'),bins,labels=False)\n",
    "    actual_percentiles = actual.groupby(actual_ranks).mean()\n",
    "    pred_percentiles = predicted.groupby(pred_ranks).mean()\n",
    "    \n",
    "    \n",
    "#     plt.title('Lift Chart')\n",
    "    plt.plot(pred_percentiles,color='darkorange')\n",
    "    plt.plot(actual_percentiles,color='navy')\n",
    "    plt.ylabel('Target Percentile')\n",
    "    plt.xlabel('Buckets')\n",
    "    plt.legend(loc='best') \n",
    "    print(actual_percentiles,pred_percentiles)\n",
    "\n",
    "    \n",
    "LiftCurve(test_target,pd.Series(test_predict),30)\n",
    "    "
   ]
  },
  {
   "cell_type": "markdown",
   "metadata": {},
   "source": [
    "## V: Run Pricing Recommendation Algorithm on Randomly Generated Flight:\n",
    "Buy flight if current price is in the top 20% of future predicted flight prices. \n",
    "Scoring for each day - pick test search_id and run for every day or every 3 days for up to 8 months"
   ]
  },
  {
   "cell_type": "code",
   "execution_count": 42,
   "metadata": {},
   "outputs": [
    {
     "name": "stdout",
     "output_type": "stream",
     "text": [
      "Random Search ID: af31ef7c-0632-3d74-8135-26a337aeccb4\n",
      "Original Advance # of Days: 175\n",
      "Original Flight Price: 507.69\n",
      "Low Future Threshold: 518.46\n",
      "BUY\n"
     ]
    }
   ],
   "source": [
    "# begin creating single flight scoring simulation\n",
    "test_features_simulate = test_features.copy()\n",
    "\n",
    "# Generate random search_id and trip_index to use\n",
    "    # random_flight = test_features_simulate.loc[:,['search_id','trip_index']].sample(1)\n",
    "    # random_search_id = random_flight.iloc[0,0]\n",
    "    # random_trip_index = random_flight.iloc[0,1]\n",
    "    # print(\"Random Search ID:\", random_search_id)\n",
    "# print(random_trip_index)\n",
    "\n",
    "# print(test_features_simulate.shape)\n",
    "test_features_simulate['search_id'] = flights_test['search_id']\n",
    "test_features_simulate['total_usd'] = flights_test['total_usd']\n",
    "test_features_simulate['trip_index'] = flights_test['trip_index']\n",
    "# print(test_features_simulate.shape)\n",
    "\n",
    "random_flight = test_features_simulate.loc[:,['search_id','trip_index']].sample(1)\n",
    "random_search_id = random_flight.iloc[0,0]\n",
    "random_trip_index = random_flight.iloc[0,1]\n",
    "print(\"Random Search ID:\", random_search_id)\n",
    "\n",
    "# search_id = '3ac1c217-92ea-3d99-b705-cbd3e6639006'\n",
    "search_id = random_search_id\n",
    "# trip_index = 57\n",
    "trip_index = random_trip_index\n",
    "\n",
    "test_features_simulate_single = test_features_simulate[(test_features_simulate['search_id'] == search_id)\n",
    "                                                      & (test_features_simulate['trip_index'] == trip_index)\n",
    "                                                      ]\n",
    "original_price = test_features_simulate_single.loc[:,'total_usd'].iloc[0]                                                 \n",
    "# print(test_features_simulate_single.head())\n",
    "test_features_simulate_single_score = test_features_simulate_single.drop(['total_usd','search_id','trip_index'],axis=1)\n",
    "\n",
    "\n",
    "original_advance = test_features_simulate_single.loc[:,'advance'].iloc[0]\n",
    "test_features_simulate_single_score.loc[:,'advance'].iloc[0] = original_advance\n",
    "print(\"Original Advance # of Days:\",original_advance)\n",
    "\n",
    "def score_flight():\n",
    "    global predict_price\n",
    "    global advance_value\n",
    "    global low_threshold       \n",
    "    predict_price = pd.Series()\n",
    "        \n",
    "    while test_features_simulate_single_score.loc[:,'advance'].iloc[0] > 14:\n",
    "        predict_price = predict_price.append(pd.Series(model.predict(test_features_simulate_single_score)))\n",
    "        test_features_simulate_single_score.loc[:,'advance'].iloc[0] = test_features_simulate_single_score.loc[:,'advance'].iloc[0] - 3\n",
    "        advance_value = test_features_simulate_single_score.loc[:,'advance'].iloc[0]\n",
    "    else: \n",
    "        if original_advance <= 14:\n",
    "            print(\"Departure date is less than two weeks away: No recommendation!\")\n",
    "        else:\n",
    "            low_threshold = round(np.percentile(predict_price,20),2)\n",
    "            if low_threshold <= original_price:\n",
    "                print(\"Original Flight Price:\",original_price)\n",
    "                print(\"Future Low 20% Threshold:\",low_threshold)\n",
    "                print('WAIT')\n",
    "            else:\n",
    "                print(\"Original Flight Price:\",original_price)\n",
    "                print(\"Low Future Threshold:\",low_threshold)\n",
    "                print('BUY')\n",
    "\n",
    "score_flight()\n",
    "# print(advance_value)\n",
    "# print(predict_price)\n",
    "# print(low_threshold)\n",
    "# print(\"Original Flight Price:\",original_price)\n",
    "# print(\"Low Future Threshold:\",low_threshold)\n"
   ]
  },
  {
   "cell_type": "code",
   "execution_count": null,
   "metadata": {},
   "outputs": [],
   "source": []
  }
 ],
 "metadata": {
  "kernelspec": {
   "display_name": "Python 3",
   "language": "python",
   "name": "python3"
  },
  "language_info": {
   "codemirror_mode": {
    "name": "ipython",
    "version": 3
   },
   "file_extension": ".py",
   "mimetype": "text/x-python",
   "name": "python",
   "nbconvert_exporter": "python",
   "pygments_lexer": "ipython3",
   "version": "3.7.1"
  }
 },
 "nbformat": 4,
 "nbformat_minor": 2
}
