{
 "cells": [
  {
   "cell_type": "markdown",
   "metadata": {},
   "source": [
    "### Flight Purchase Recommendation Model:\n",
    "\n",
    "In this pricing recommendation model, every flight is supposed to have its own distribution of prices as it relates to time. A flight will be \"scored\" with prices from the pricing model to simulate the pricing curve until two weeks before departure. If the current price falls in the bottom 20% of pricing curve by rank order then a recommendation is generated to \"buy\" the flight; otherwise the recommendation is generated to \"wait\" to purchase. \n",
    "<br>\n",
    "<br>\n",
    "I began with an EDA of a single trip's historical pricing data to familarize myself with the distributions of the flight prices and potential features. For a first pass regression model, I chose a Random Forest regression algorithm to predict flight prices as a first pass due to its nature of avoiding overfitting with minimal hyperparameter tuning. Next, I reviewed each sample data column to generate about 40 potential features. I excluded quite a few datetime features to ensure that time trend feature \"advance\" would be adequately captured as a predictor. Otherwise, changing the advance feature for price simulations might undercapture the actual sensitivity to changes in the time up until flight departure. My holdout lift curve and RMSE metric suggest that the model predicts surprisingly well with little tuning, but care should be taken to ensure absolutely no data leakage has occurred. Running the last cell will select a random flight, generate a pricing curve, and provide a purchase recommendation. \n",
    "<br>\n",
    "<br>\n",
    "If I continued this project, I'd spend more time running more traditional time series analysis, such as ACF and PACF plots. I'd also build an ARIMA model and test the accuracy using a more novel method, such as Facebook's Prophet tool or a variational time series LSTM. An ARIMA might fit the pricing data worse than a random forest, but parametric models such as ARIMA are often more robust to simulating changes such as the \"advance\" time trend in this model."
   ]
  },
  {
   "cell_type": "markdown",
   "metadata": {},
   "source": [
    "### Columns:\n",
    "\n",
    "- search_id: the bundle identifer \n",
    "- trip_index: the index of the trip within a bundle\n",
    "- received_date: date the trip was received\n",
    "- received_ms: epoch milliseconds trip was received\n",
    "- origin: origin airport\n",
    "- destination: destination airport\n",
    "- total_usd: total fare including taxes and fees\n",
    "- pax_type: passenger type quoted\n",
    "- refundable: refundable fare indicator\n",
    "- validating_carrier: airline selling the ticket\n",
    "- departure_odate: departure date in origin TZ\n",
    "- departure_ms: epoch milliseconds of departure\n",
    "- outgoing_duration: total in minutes \n",
    "- outgoing_stops: number of stops on outbound trip\n",
    "- return_odate: return date in destination TZ\n",
    "- return_ms: epoch millis of return time\n",
    "- returning_duration: total in minutes\n",
    "- returning_stops: number of stops on return trip\n",
    "- major_carrier_id: airline delivering majority of flight time\n",
    "- total_stops: total stops for round-trip\n",
    "- advance: days search before departure\n",
    "- length_of_stay: nights between departure and return\n",
    "- includes_saturday_night_stay: indicator for saturday stayover (pred)\n",
    "- available_seats: quoted availability at search time (pred?)\n",
    "- lowest_cabin_class: lowest cabin class over all flights (pred)\n",
    "- highest_cabin_class: highest cabin class over all flights (pred)\n",
    "\n"
   ]
  },
  {
   "cell_type": "markdown",
   "metadata": {},
   "source": [
    "## I. Import Libraries and Data"
   ]
  },
  {
   "cell_type": "code",
   "execution_count": 1,
   "metadata": {},
   "outputs": [],
   "source": [
    "import pandas as pd\n",
    "import numpy as np\n",
    "import matplotlib.pyplot as plt\n",
    "import random\n",
    "from datetime import date\n",
    "from datetime import datetime\n",
    "import timeit\n",
    "\n",
    "import sklearn\n",
    "from sklearn.linear_model import LinearRegression\n",
    "from sklearn.ensemble import GradientBoostingClassifier\n",
    "from sklearn.ensemble import RandomForestClassifier\n",
    "from sklearn.ensemble import RandomForestRegressor\n",
    "from sklearn.impute import SimpleImputer\n",
    "from sklearn.metrics import roc_curve, auc\n",
    "from sklearn.metrics import make_scorer\n",
    "from sklearn import preprocessing\n",
    "from sklearn.feature_selection import RFE\n",
    "from sklearn.base import TransformerMixin\n",
    "from sklearn.utils import resample\n",
    "from sklearn.externals import joblib"
   ]
  },
  {
   "cell_type": "code",
   "execution_count": 2,
   "metadata": {},
   "outputs": [],
   "source": [
    "flights = pd.read_csv(r'price/longitudinal_trim.csv')\n"
   ]
  },
  {
   "cell_type": "code",
   "execution_count": 41,
   "metadata": {},
   "outputs": [],
   "source": [
    "flights_sample = flights.iloc[0:1000]\n",
    "flights_sample.to_csv(r'price/sample.csv')"
   ]
  },
  {
   "cell_type": "markdown",
   "metadata": {},
   "source": [
    "## II. EDA"
   ]
  },
  {
   "cell_type": "code",
   "execution_count": 269,
   "metadata": {},
   "outputs": [
    {
     "data": {
      "text/html": [
       "<div>\n",
       "<style scoped>\n",
       "    .dataframe tbody tr th:only-of-type {\n",
       "        vertical-align: middle;\n",
       "    }\n",
       "\n",
       "    .dataframe tbody tr th {\n",
       "        vertical-align: top;\n",
       "    }\n",
       "\n",
       "    .dataframe thead th {\n",
       "        text-align: right;\n",
       "    }\n",
       "</style>\n",
       "<table border=\"1\" class=\"dataframe\">\n",
       "  <thead>\n",
       "    <tr style=\"text-align: right;\">\n",
       "      <th></th>\n",
       "      <th>search_id</th>\n",
       "      <th>trip_index</th>\n",
       "      <th>received_date</th>\n",
       "      <th>received_ms</th>\n",
       "      <th>origin</th>\n",
       "      <th>destination</th>\n",
       "      <th>total_usd</th>\n",
       "      <th>pax_type</th>\n",
       "      <th>refundable</th>\n",
       "      <th>validating_carrier</th>\n",
       "      <th>...</th>\n",
       "      <th>returning_duration</th>\n",
       "      <th>returning_stops</th>\n",
       "      <th>major_carrier_id</th>\n",
       "      <th>total_stops</th>\n",
       "      <th>advance</th>\n",
       "      <th>length_of_stay</th>\n",
       "      <th>includes_saturday_night_stay</th>\n",
       "      <th>available_seats</th>\n",
       "      <th>lowest_cabin_class</th>\n",
       "      <th>highest_cabin_class</th>\n",
       "    </tr>\n",
       "  </thead>\n",
       "  <tbody>\n",
       "    <tr>\n",
       "      <th>0</th>\n",
       "      <td>f079363a-b281-3476-b13e-d96ba6a8ad8a</td>\n",
       "      <td>11</td>\n",
       "      <td>2016-04-21</td>\n",
       "      <td>1461268013357</td>\n",
       "      <td>BOS</td>\n",
       "      <td>CUN</td>\n",
       "      <td>397.0</td>\n",
       "      <td>ADT</td>\n",
       "      <td>NaN</td>\n",
       "      <td>AM</td>\n",
       "      <td>...</td>\n",
       "      <td>615</td>\n",
       "      <td>1</td>\n",
       "      <td>AM</td>\n",
       "      <td>2</td>\n",
       "      <td>42</td>\n",
       "      <td>4</td>\n",
       "      <td>True</td>\n",
       "      <td>8</td>\n",
       "      <td>E</td>\n",
       "      <td>E</td>\n",
       "    </tr>\n",
       "    <tr>\n",
       "      <th>1</th>\n",
       "      <td>f079363a-b281-3476-b13e-d96ba6a8ad8a</td>\n",
       "      <td>15</td>\n",
       "      <td>2016-04-21</td>\n",
       "      <td>1461268013357</td>\n",
       "      <td>BOS</td>\n",
       "      <td>CUN</td>\n",
       "      <td>412.8</td>\n",
       "      <td>ADT</td>\n",
       "      <td>NaN</td>\n",
       "      <td>UA</td>\n",
       "      <td>...</td>\n",
       "      <td>492</td>\n",
       "      <td>1</td>\n",
       "      <td>UA</td>\n",
       "      <td>2</td>\n",
       "      <td>42</td>\n",
       "      <td>4</td>\n",
       "      <td>True</td>\n",
       "      <td>8</td>\n",
       "      <td>E</td>\n",
       "      <td>E</td>\n",
       "    </tr>\n",
       "    <tr>\n",
       "      <th>2</th>\n",
       "      <td>f079363a-b281-3476-b13e-d96ba6a8ad8a</td>\n",
       "      <td>17</td>\n",
       "      <td>2016-04-21</td>\n",
       "      <td>1461268013357</td>\n",
       "      <td>BOS</td>\n",
       "      <td>CUN</td>\n",
       "      <td>412.8</td>\n",
       "      <td>ADT</td>\n",
       "      <td>NaN</td>\n",
       "      <td>UA</td>\n",
       "      <td>...</td>\n",
       "      <td>526</td>\n",
       "      <td>1</td>\n",
       "      <td>UA</td>\n",
       "      <td>2</td>\n",
       "      <td>42</td>\n",
       "      <td>4</td>\n",
       "      <td>True</td>\n",
       "      <td>8</td>\n",
       "      <td>E</td>\n",
       "      <td>E</td>\n",
       "    </tr>\n",
       "    <tr>\n",
       "      <th>3</th>\n",
       "      <td>f079363a-b281-3476-b13e-d96ba6a8ad8a</td>\n",
       "      <td>19</td>\n",
       "      <td>2016-04-21</td>\n",
       "      <td>1461268013357</td>\n",
       "      <td>BOS</td>\n",
       "      <td>CUN</td>\n",
       "      <td>412.8</td>\n",
       "      <td>ADT</td>\n",
       "      <td>NaN</td>\n",
       "      <td>UA</td>\n",
       "      <td>...</td>\n",
       "      <td>405</td>\n",
       "      <td>1</td>\n",
       "      <td>UA</td>\n",
       "      <td>2</td>\n",
       "      <td>42</td>\n",
       "      <td>4</td>\n",
       "      <td>True</td>\n",
       "      <td>8</td>\n",
       "      <td>E</td>\n",
       "      <td>E</td>\n",
       "    </tr>\n",
       "    <tr>\n",
       "      <th>4</th>\n",
       "      <td>f079363a-b281-3476-b13e-d96ba6a8ad8a</td>\n",
       "      <td>29</td>\n",
       "      <td>2016-04-21</td>\n",
       "      <td>1461268013357</td>\n",
       "      <td>BOS</td>\n",
       "      <td>CUN</td>\n",
       "      <td>412.8</td>\n",
       "      <td>ADT</td>\n",
       "      <td>NaN</td>\n",
       "      <td>UA</td>\n",
       "      <td>...</td>\n",
       "      <td>526</td>\n",
       "      <td>1</td>\n",
       "      <td>UA</td>\n",
       "      <td>2</td>\n",
       "      <td>42</td>\n",
       "      <td>4</td>\n",
       "      <td>True</td>\n",
       "      <td>9</td>\n",
       "      <td>E</td>\n",
       "      <td>E</td>\n",
       "    </tr>\n",
       "  </tbody>\n",
       "</table>\n",
       "<p>5 rows × 26 columns</p>\n",
       "</div>"
      ],
      "text/plain": [
       "                              search_id  trip_index received_date  \\\n",
       "0  f079363a-b281-3476-b13e-d96ba6a8ad8a          11    2016-04-21   \n",
       "1  f079363a-b281-3476-b13e-d96ba6a8ad8a          15    2016-04-21   \n",
       "2  f079363a-b281-3476-b13e-d96ba6a8ad8a          17    2016-04-21   \n",
       "3  f079363a-b281-3476-b13e-d96ba6a8ad8a          19    2016-04-21   \n",
       "4  f079363a-b281-3476-b13e-d96ba6a8ad8a          29    2016-04-21   \n",
       "\n",
       "     received_ms origin destination  total_usd pax_type  refundable  \\\n",
       "0  1461268013357    BOS         CUN      397.0      ADT         NaN   \n",
       "1  1461268013357    BOS         CUN      412.8      ADT         NaN   \n",
       "2  1461268013357    BOS         CUN      412.8      ADT         NaN   \n",
       "3  1461268013357    BOS         CUN      412.8      ADT         NaN   \n",
       "4  1461268013357    BOS         CUN      412.8      ADT         NaN   \n",
       "\n",
       "  validating_carrier         ...          returning_duration  returning_stops  \\\n",
       "0                 AM         ...                         615                1   \n",
       "1                 UA         ...                         492                1   \n",
       "2                 UA         ...                         526                1   \n",
       "3                 UA         ...                         405                1   \n",
       "4                 UA         ...                         526                1   \n",
       "\n",
       "   major_carrier_id  total_stops advance  length_of_stay  \\\n",
       "0                AM            2      42               4   \n",
       "1                UA            2      42               4   \n",
       "2                UA            2      42               4   \n",
       "3                UA            2      42               4   \n",
       "4                UA            2      42               4   \n",
       "\n",
       "   includes_saturday_night_stay  available_seats lowest_cabin_class  \\\n",
       "0                          True                8                  E   \n",
       "1                          True                8                  E   \n",
       "2                          True                8                  E   \n",
       "3                          True                8                  E   \n",
       "4                          True                9                  E   \n",
       "\n",
       "   highest_cabin_class  \n",
       "0                    E  \n",
       "1                    E  \n",
       "2                    E  \n",
       "3                    E  \n",
       "4                    E  \n",
       "\n",
       "[5 rows x 26 columns]"
      ]
     },
     "execution_count": 269,
     "metadata": {},
     "output_type": "execute_result"
    }
   ],
   "source": [
    "# search_id.columns\n",
    "flights_sample.head()"
   ]
  },
  {
   "cell_type": "code",
   "execution_count": 351,
   "metadata": {},
   "outputs": [
    {
     "data": {
      "text/plain": [
       "Series([], Name: refundable, dtype: int64)"
      ]
     },
     "execution_count": 351,
     "metadata": {},
     "output_type": "execute_result"
    }
   ],
   "source": [
    "flights['refundable'].value_counts()"
   ]
  },
  {
   "cell_type": "code",
   "execution_count": 12,
   "metadata": {},
   "outputs": [
    {
     "name": "stdout",
     "output_type": "stream",
     "text": [
      "(113339,)\n"
     ]
    },
    {
     "data": {
      "text/plain": [
       "search_id\n",
       "00017fed-4c3b-3721-9d52-d3def47b94d2    20\n",
       "00027d0e-c5bf-3a7c-b515-34b1290d61c7    22\n",
       "00028d9a-e0eb-3a5f-b2ee-136972976547    18\n",
       "0003d6d6-2200-3120-b5f1-4149ab8ac710    22\n",
       "00042e4d-7b62-3402-b613-2d7b7c7b4ea4    18\n",
       "00048743-8fa3-3f28-921f-8f0aa85a2bb6    23\n",
       "00049ffd-69ef-3e5e-ba6d-375bf887e869    21\n",
       "0004ae06-6982-3eef-885a-e2cd2191ba71    24\n",
       "00051e35-2c0e-3cf2-b31f-686411ee5282    23\n",
       "00057273-512b-3285-b07b-c3bccabf79cd    24\n",
       "00057740-5226-33d1-aa84-ac9f33683373     7\n",
       "0005b838-000d-38d7-a768-8e7a3bc28f28    18\n",
       "0005bace-949a-30e3-a042-a22fbe9fa6f0    19\n",
       "0005e31d-ce4e-33bc-ae8b-e17e166213c2    24\n",
       "00069189-50d7-3a23-a92a-2dacdefeee73    20\n",
       "00078bb5-c5bc-3d64-b594-5982d9f90e5c    21\n",
       "00082080-3261-3722-a39b-8efac4acae53    21\n",
       "000875de-42c3-3a30-b2c7-9e0e1bd2120a    17\n",
       "000963fc-8fe8-343e-a666-9902eeaad4eb    16\n",
       "0009f3be-da1d-3675-8c99-89425350a0ca    26\n",
       "Name: search_id, dtype: int64"
      ]
     },
     "execution_count": 12,
     "metadata": {},
     "output_type": "execute_result"
    }
   ],
   "source": [
    "len(set(flights.search_id))\n",
    "# avg 3 count per unique search IDs\n",
    "#\n",
    "search_id = flights.groupby(['search_id'])['search_id'].count()\n",
    "\n",
    "print(search_id.shape)\n",
    "search_id.head(20)"
   ]
  },
  {
   "cell_type": "markdown",
   "metadata": {},
   "source": [
    "### Plot distribution of \"search_id\" counts:"
   ]
  },
  {
   "cell_type": "code",
   "execution_count": 244,
   "metadata": {},
   "outputs": [
    {
     "name": "stdout",
     "output_type": "stream",
     "text": [
      "Distribution of Search ID Counts:\n"
     ]
    },
    {
     "data": {
      "image/png": "[encoded data removed]",
      "text/plain": [
       "<Figure size 864x432 with 1 Axes>"
      ]
     },
     "metadata": {
      "needs_background": "light"
     },
     "output_type": "display_data"
    },
    {
     "data": {
      "text/plain": [
       "array([[<matplotlib.axes._subplots.AxesSubplot object at 0x11c5f46a0>]],\n",
       "      dtype=object)"
      ]
     },
     "execution_count": 244,
     "metadata": {},
     "output_type": "execute_result"
    },
    {
     "data": {
      "image/png": "[encoded data removed]",
      "text/plain": [
       "<Figure size 864x432 with 1 Axes>"
      ]
     },
     "metadata": {
      "needs_background": "light"
     },
     "output_type": "display_data"
    },
    {
     "data": {
      "image/png": "[encoded data removed]",
      "text/plain": [
       "<Figure size 864x432 with 1 Axes>"
      ]
     },
     "metadata": {
      "needs_background": "light"
     },
     "output_type": "display_data"
    }
   ],
   "source": [
    "search_id_plot = -np.sort(-search_id)\n",
    "plt.plot(search_id_plot)\n",
    "print(\"Distribution of Search ID Counts:\")\n",
    "plt.show()\n",
    "\n",
    "search_id_box = search_id_plot[np.where(search_id_plot < 40)]\n",
    "pd.DataFrame(search_id_box).boxplot()\n",
    "pd.DataFrame(search_id_box).hist()"
   ]
  },
  {
   "cell_type": "markdown",
   "metadata": {},
   "source": [
    "### Plot Distribution of Flight Prices Under Differing Thresholds:"
   ]
  },
  {
   "cell_type": "code",
   "execution_count": 522,
   "metadata": {},
   "outputs": [
    {
     "name": "stdout",
     "output_type": "stream",
     "text": [
      "Distribution of Flight Prices Under $2000\n"
     ]
    },
    {
     "data": {
      "image/png": "[encoded data removed]",
      "text/plain": [
       "<Figure size 864x432 with 1 Axes>"
      ]
     },
     "metadata": {
      "needs_background": "light"
     },
     "output_type": "display_data"
    },
    {
     "name": "stdout",
     "output_type": "stream",
     "text": [
      "Distribution of Flight Prices Under $1000\n"
     ]
    },
    {
     "data": {
      "image/png": "[encoded data removed]",
      "text/plain": [
       "<Figure size 864x432 with 1 Axes>"
      ]
     },
     "metadata": {
      "needs_background": "light"
     },
     "output_type": "display_data"
    }
   ],
   "source": [
    "print(\"Distribution of Flight Prices Under $2000\")\n",
    "flights[flights['total_usd'] < 2000]['total_usd'].hist()\n",
    "plt.show()\n",
    "print(\"Distribution of Flight Prices Under $1000\")\n",
    "flights[flights['total_usd'] < 1000]['total_usd'].hist()\n",
    "plt.show()"
   ]
  },
  {
   "cell_type": "code",
   "execution_count": null,
   "metadata": {},
   "outputs": [],
   "source": []
  },
  {
   "cell_type": "code",
   "execution_count": 65,
   "metadata": {},
   "outputs": [
    {
     "name": "stdout",
     "output_type": "stream",
     "text": [
      "ADT    2654847\n",
      "NaN     354561\n",
      "Name: pax_type, dtype: int64\n",
      "NaN    3009408\n",
      "Name: refundable, dtype: int64\n",
      "BOS    3009408\n",
      "Name: origin, dtype: int64\n",
      "CUN    3009408\n",
      "Name: destination, dtype: int64\n",
      "UA     1178400\n",
      "AA     1007558\n",
      "NaN     354561\n",
      "DL      243238\n",
      "AM       77353\n",
      "B6       69392\n",
      "AC       61270\n",
      "NK       11328\n",
      "WS        4517\n",
      "SY        1147\n",
      "CM         548\n",
      "VX          37\n",
      "HR          34\n",
      "AS          16\n",
      "AV           9\n",
      "Name: validating_carrier, dtype: int64\n",
      "UA    1312751\n",
      "AA    1007568\n",
      "DL     418983\n",
      "B6      87316\n",
      "AM      86142\n",
      "AC      71135\n",
      "NK      13039\n",
      "WS      10101\n",
      "SY       1194\n",
      "CM       1098\n",
      "VX         59\n",
      "AS         22\n",
      "Name: major_carrier_id, dtype: int64\n",
      "1    2628510\n",
      "2     291102\n",
      "0      88348\n",
      "3       1448\n",
      "Name: returning_stops, dtype: int64\n",
      "4      34397\n",
      "3      33480\n",
      "2      32266\n",
      "6      30945\n",
      "1      30054\n",
      "14     29206\n",
      "5      28984\n",
      "7      28488\n",
      "31     27132\n",
      "15     26536\n",
      "24     26028\n",
      "30     24756\n",
      "44     24610\n",
      "10     23919\n",
      "16     23539\n",
      "22     23414\n",
      "12     23210\n",
      "21     23145\n",
      "8      23144\n",
      "25     23110\n",
      "23     23090\n",
      "13     23079\n",
      "20     22993\n",
      "11     22891\n",
      "32     22496\n",
      "28     22477\n",
      "53     22412\n",
      "34     22302\n",
      "39     22273\n",
      "41     22208\n",
      "       ...  \n",
      "320      513\n",
      "317      451\n",
      "306      428\n",
      "325      414\n",
      "322      390\n",
      "321      389\n",
      "323      382\n",
      "331      325\n",
      "324      323\n",
      "327      277\n",
      "318      276\n",
      "328      246\n",
      "333      216\n",
      "330      163\n",
      "326      146\n",
      "329       99\n",
      "335       27\n",
      "336       20\n",
      "332       19\n",
      "338       14\n",
      "337       14\n",
      "342       12\n",
      "334        7\n",
      "350        4\n",
      "340        4\n",
      "339        3\n",
      "341        3\n",
      "346        2\n",
      "347        1\n",
      "351        1\n",
      "Name: advance, Length: 347, dtype: int64\n",
      "7      943911\n",
      "4      506492\n",
      "5      453682\n",
      "6      341359\n",
      "3      260177\n",
      "8      162932\n",
      "9       77773\n",
      "10      60574\n",
      "2       40798\n",
      "14      36954\n",
      "11      29453\n",
      "12      14188\n",
      "13      13195\n",
      "16       8002\n",
      "15       7597\n",
      "21       7142\n",
      "17       7040\n",
      "0        6401\n",
      "18       3742\n",
      "1        3095\n",
      "28       2695\n",
      "57       2377\n",
      "20       2238\n",
      "19       2051\n",
      "42       2028\n",
      "59       1796\n",
      "35       1502\n",
      "25       1490\n",
      "37       1467\n",
      "34        810\n",
      "        ...  \n",
      "49         45\n",
      "154        43\n",
      "53         37\n",
      "63         36\n",
      "58         36\n",
      "66         32\n",
      "85         27\n",
      "83         26\n",
      "62         23\n",
      "134        23\n",
      "87         22\n",
      "60         22\n",
      "86         21\n",
      "48         20\n",
      "130        19\n",
      "96         19\n",
      "47         19\n",
      "117        18\n",
      "43         18\n",
      "144        18\n",
      "94         17\n",
      "76         16\n",
      "32         15\n",
      "61         13\n",
      "132         7\n",
      "45          5\n",
      "44          5\n",
      "46          2\n",
      "36          1\n",
      "40          1\n",
      "Name: length_of_stay, Length: 78, dtype: int64\n",
      "True     2644713\n",
      "False     364695\n",
      "Name: includes_saturday_night_stay, dtype: int64\n",
      "9    1112262\n",
      "1     438627\n",
      "2     334343\n",
      "4     290562\n",
      "3     274111\n",
      "5     175114\n",
      "6     147570\n",
      "7     131575\n",
      "8     105244\n",
      "Name: available_seats, dtype: int64\n",
      "E    3003955\n",
      "B       5453\n",
      "Name: lowest_cabin_class, dtype: int64\n",
      "E     2920145\n",
      "F       66614\n",
      "B       22565\n",
      "EP         60\n",
      "U          24\n",
      "Name: highest_cabin_class, dtype: int64\n"
     ]
    }
   ],
   "source": [
    "flight_cats = flights.loc[:,\n",
    "                        ['pax_type','refundable'\n",
    "                          ,'origin','destination','validating_carrier'\n",
    "                      ,'major_carrier_id','returning_stops','advance','length_of_stay'\n",
    "                      ,'includes_saturday_night_stay','available_seats','lowest_cabin_class'\t\n",
    "                      ,'highest_cabin_class']]\n",
    "for i in flight_cats.columns:\n",
    "    print(flight_cats[i].value_counts(dropna=False))"
   ]
  },
  {
   "cell_type": "code",
   "execution_count": 67,
   "metadata": {},
   "outputs": [
    {
     "data": {
      "text/plain": [
       "Index(['search_id', 'trip_index', 'received_date', 'received_ms', 'origin',\n",
       "       'destination', 'total_usd', 'pax_type', 'refundable',\n",
       "       'validating_carrier', 'departure_odate', 'departure_ms',\n",
       "       'outgoing_duration', 'outgoing_stops', 'return_odate', 'return_ms',\n",
       "       'returning_duration', 'returning_stops', 'major_carrier_id',\n",
       "       'total_stops', 'advance', 'length_of_stay',\n",
       "       'includes_saturday_night_stay', 'available_seats', 'lowest_cabin_class',\n",
       "       'highest_cabin_class'],\n",
       "      dtype='object')"
      ]
     },
     "execution_count": 67,
     "metadata": {},
     "output_type": "execute_result"
    }
   ],
   "source": [
    "flights.columns"
   ]
  },
  {
   "cell_type": "code",
   "execution_count": 243,
   "metadata": {},
   "outputs": [
    {
     "data": {
      "image/png": "[encoded data removed]",
      "text/plain": [
       "<Figure size 864x432 with 2 Axes>"
      ]
     },
     "metadata": {
      "needs_background": "light"
     },
     "output_type": "display_data"
    },
    {
     "data": {
      "image/png": "[encoded data removed]",
      "text/plain": [
       "<Figure size 864x432 with 2 Axes>"
      ]
     },
     "metadata": {
      "needs_background": "light"
     },
     "output_type": "display_data"
    },
    {
     "data": {
      "image/png": "[encoded data removed]",
      "text/plain": [
       "<Figure size 864x432 with 2 Axes>"
      ]
     },
     "metadata": {
      "needs_background": "light"
     },
     "output_type": "display_data"
    }
   ],
   "source": [
    "# Univariate \n",
    "uni_cols = ['validating_carrier'\n",
    "#             ,'advance'\n",
    "#             ,'includes_saturday_night_stay'\n",
    "#             ,'length_of_stay'\n",
    "            ,'major_carrier_id'\n",
    "            ,'lowest_cabin_class'\n",
    "#             ,'total_stops'\n",
    "           ]\n",
    "\n",
    "\n",
    "for col in uni_cols:\n",
    "    flights_group1 = flights.groupby(col,sort=False)[col,'total_usd'].agg({\n",
    "        'count': 'count',\n",
    "        'mean': 'mean'})\n",
    "    flights_group1.columns = [col,'count','total_usd_mean']\n",
    "    flights_group2 = flights_group1.sort_values('total_usd_mean',ascending=False)\n",
    "\n",
    "    x_bar = flights_group2[col].index[0:10]\n",
    "    y_bar = flights_group2['count'][0:10]\n",
    "    y_line = flights_group2['total_usd_mean'][0:10]\n",
    "\n",
    "    y_line = flights_group2['total_usd_mean'][0:10]\n",
    "\n",
    "    y1 = flights_group2[col].index[0:10]\n",
    "    y2 = flights_group2['count'][0:10]\n",
    "\n",
    "    fig, ax1 = plt.subplots()\n",
    "    ind = [x for x, _ in enumerate(x_bar)]\n",
    "\n",
    "    ax2 = ax1.twinx()\n",
    "    ax2.bar(y1, y2, 'b-',alpha=0.3)\n",
    "    ax1.plot(y1, y_line, 'g-',marker='o')\n",
    "\n",
    "    ax1.set_xlabel(col)\n",
    "    ax1.set_ylabel('Avg USD', color='g')\n",
    "    ax2.set_ylabel('Count', color='b')\n",
    "\n",
    "    plt.show()"
   ]
  },
  {
   "cell_type": "markdown",
   "metadata": {},
   "source": [
    "## III. Create Time Features and Prepare Other Variables\n"
   ]
  },
  {
   "cell_type": "markdown",
   "metadata": {},
   "source": [
    "Using 700k flights as a representative sample"
   ]
  },
  {
   "cell_type": "code",
   "execution_count": 470,
   "metadata": {},
   "outputs": [
    {
     "data": {
      "text/plain": [
       "ADT        617153\n",
       "missing     82847\n",
       "Name: pax_type_full, dtype: int64"
      ]
     },
     "execution_count": 470,
     "metadata": {},
     "output_type": "execute_result"
    }
   ],
   "source": [
    "flights_test = flights.sample(700000)\n",
    "\n",
    "flights_test['pax_type_full'] = flights['pax_type'].fillna('missing')\n",
    "flights_test['pax_type_full'].value_counts()"
   ]
  },
  {
   "cell_type": "code",
   "execution_count": 471,
   "metadata": {},
   "outputs": [
    {
     "name": "stderr",
     "output_type": "stream",
     "text": [
      "/Users/Tanner/anaconda3/lib/python3.7/site-packages/ipykernel_launcher.py:9: FutureWarning: using a dict on a Series for aggregation\n",
      "is deprecated and will be removed in a future version\n",
      "  if __name__ == '__main__':\n"
     ]
    },
    {
     "data": {
      "text/plain": [
       "2013425"
      ]
     },
     "execution_count": 471,
     "metadata": {},
     "output_type": "execute_result"
    }
   ],
   "source": [
    "#Past price features - if we have time, create a timeline of all prices for every historical day for each airline\n",
    "\n",
    "historical_prices = flights.groupby(\n",
    "    ['received_date','departure_odate'\n",
    "     ,'return_odate','major_carrier_id','departure_ms','return_ms'\n",
    "    ]\n",
    ")['total_usd'].agg({'max':'max'\n",
    "                  ,'min':'min'\n",
    "                  ,'mean':'mean'})\n",
    "\n",
    "len(historical_prices)\n",
    "# price_ratio_1_days = \n",
    "# price_ratio_7_days = \n",
    "# price_ratio_30_days = \n",
    "# price_ratio_90_days = \n",
    "# price_ratio_180_days = "
   ]
  },
  {
   "cell_type": "code",
   "execution_count": 472,
   "metadata": {},
   "outputs": [
    {
     "data": {
      "text/html": [
       "<div>\n",
       "<style scoped>\n",
       "    .dataframe tbody tr th:only-of-type {\n",
       "        vertical-align: middle;\n",
       "    }\n",
       "\n",
       "    .dataframe tbody tr th {\n",
       "        vertical-align: top;\n",
       "    }\n",
       "\n",
       "    .dataframe thead th {\n",
       "        text-align: right;\n",
       "    }\n",
       "</style>\n",
       "<table border=\"1\" class=\"dataframe\">\n",
       "  <thead>\n",
       "    <tr style=\"text-align: right;\">\n",
       "      <th></th>\n",
       "      <th></th>\n",
       "      <th></th>\n",
       "      <th></th>\n",
       "      <th></th>\n",
       "      <th></th>\n",
       "      <th>max</th>\n",
       "      <th>min</th>\n",
       "      <th>mean</th>\n",
       "    </tr>\n",
       "    <tr>\n",
       "      <th>received_date</th>\n",
       "      <th>departure_odate</th>\n",
       "      <th>return_odate</th>\n",
       "      <th>major_carrier_id</th>\n",
       "      <th>departure_ms</th>\n",
       "      <th>return_ms</th>\n",
       "      <th></th>\n",
       "      <th></th>\n",
       "      <th></th>\n",
       "    </tr>\n",
       "  </thead>\n",
       "  <tbody>\n",
       "    <tr>\n",
       "      <th>2016-12-28</th>\n",
       "      <th>2017-01-01</th>\n",
       "      <th>2017-01-04</th>\n",
       "      <th>UA</th>\n",
       "      <th>1483269300000</th>\n",
       "      <th>1483563900000</th>\n",
       "      <td>432.68</td>\n",
       "      <td>432.68</td>\n",
       "      <td>432.68</td>\n",
       "    </tr>\n",
       "    <tr>\n",
       "      <th>2016-08-17</th>\n",
       "      <th>2016-11-05</th>\n",
       "      <th>2016-11-12</th>\n",
       "      <th>AA</th>\n",
       "      <th>1478370780000</th>\n",
       "      <th>1478969700000</th>\n",
       "      <td>502.52</td>\n",
       "      <td>502.52</td>\n",
       "      <td>502.52</td>\n",
       "    </tr>\n",
       "    <tr>\n",
       "      <th>2016-12-12</th>\n",
       "      <th>2016-12-30</th>\n",
       "      <th>2017-01-05</th>\n",
       "      <th>AA</th>\n",
       "      <th>1483095600000</th>\n",
       "      <th>1483647000000</th>\n",
       "      <td>358.18</td>\n",
       "      <td>358.18</td>\n",
       "      <td>358.18</td>\n",
       "    </tr>\n",
       "    <tr>\n",
       "      <th>2016-01-28</th>\n",
       "      <th>2016-04-12</th>\n",
       "      <th>2016-04-19</th>\n",
       "      <th>B6</th>\n",
       "      <th>1460458860000</th>\n",
       "      <th>1461086580000</th>\n",
       "      <td>600.69</td>\n",
       "      <td>600.69</td>\n",
       "      <td>600.69</td>\n",
       "    </tr>\n",
       "    <tr>\n",
       "      <th>2016-09-24</th>\n",
       "      <th>2017-02-22</th>\n",
       "      <th>2017-03-05</th>\n",
       "      <th>AM</th>\n",
       "      <th>1487805240000</th>\n",
       "      <th>1488728880000</th>\n",
       "      <td>430.19</td>\n",
       "      <td>430.19</td>\n",
       "      <td>430.19</td>\n",
       "    </tr>\n",
       "    <tr>\n",
       "      <th>2016-02-24</th>\n",
       "      <th>2016-05-06</th>\n",
       "      <th>2016-05-09</th>\n",
       "      <th>UA</th>\n",
       "      <th>1462537440000</th>\n",
       "      <th>1462818900000</th>\n",
       "      <td>506.39</td>\n",
       "      <td>506.39</td>\n",
       "      <td>506.39</td>\n",
       "    </tr>\n",
       "    <tr>\n",
       "      <th>2016-02-11</th>\n",
       "      <th>2016-07-01</th>\n",
       "      <th>2016-07-05</th>\n",
       "      <th>UA</th>\n",
       "      <th>1467367200000</th>\n",
       "      <th>1467753300000</th>\n",
       "      <td>512.39</td>\n",
       "      <td>512.39</td>\n",
       "      <td>512.39</td>\n",
       "    </tr>\n",
       "    <tr>\n",
       "      <th>2016-10-27</th>\n",
       "      <th>2017-03-11</th>\n",
       "      <th>2017-03-18</th>\n",
       "      <th>UA</th>\n",
       "      <th>1489246500000</th>\n",
       "      <th>1489838400000</th>\n",
       "      <td>449.93</td>\n",
       "      <td>449.93</td>\n",
       "      <td>449.93</td>\n",
       "    </tr>\n",
       "    <tr>\n",
       "      <th>2016-10-17</th>\n",
       "      <th>2017-01-13</th>\n",
       "      <th>2017-01-17</th>\n",
       "      <th>AC</th>\n",
       "      <th>1484321400000</th>\n",
       "      <th>1484671200000</th>\n",
       "      <td>429.73</td>\n",
       "      <td>429.73</td>\n",
       "      <td>429.73</td>\n",
       "    </tr>\n",
       "    <tr>\n",
       "      <th>2016-02-09</th>\n",
       "      <th>2016-03-13</th>\n",
       "      <th>2016-03-16</th>\n",
       "      <th>UA</th>\n",
       "      <th>1457909700000</th>\n",
       "      <th>1458129600000</th>\n",
       "      <td>376.39</td>\n",
       "      <td>376.39</td>\n",
       "      <td>376.39</td>\n",
       "    </tr>\n",
       "  </tbody>\n",
       "</table>\n",
       "</div>"
      ],
      "text/plain": [
       "                                                                                            max  \\\n",
       "received_date departure_odate return_odate major_carrier_id departure_ms  return_ms               \n",
       "2016-12-28    2017-01-01      2017-01-04   UA               1483269300000 1483563900000  432.68   \n",
       "2016-08-17    2016-11-05      2016-11-12   AA               1478370780000 1478969700000  502.52   \n",
       "2016-12-12    2016-12-30      2017-01-05   AA               1483095600000 1483647000000  358.18   \n",
       "2016-01-28    2016-04-12      2016-04-19   B6               1460458860000 1461086580000  600.69   \n",
       "2016-09-24    2017-02-22      2017-03-05   AM               1487805240000 1488728880000  430.19   \n",
       "2016-02-24    2016-05-06      2016-05-09   UA               1462537440000 1462818900000  506.39   \n",
       "2016-02-11    2016-07-01      2016-07-05   UA               1467367200000 1467753300000  512.39   \n",
       "2016-10-27    2017-03-11      2017-03-18   UA               1489246500000 1489838400000  449.93   \n",
       "2016-10-17    2017-01-13      2017-01-17   AC               1484321400000 1484671200000  429.73   \n",
       "2016-02-09    2016-03-13      2016-03-16   UA               1457909700000 1458129600000  376.39   \n",
       "\n",
       "                                                                                            min  \\\n",
       "received_date departure_odate return_odate major_carrier_id departure_ms  return_ms               \n",
       "2016-12-28    2017-01-01      2017-01-04   UA               1483269300000 1483563900000  432.68   \n",
       "2016-08-17    2016-11-05      2016-11-12   AA               1478370780000 1478969700000  502.52   \n",
       "2016-12-12    2016-12-30      2017-01-05   AA               1483095600000 1483647000000  358.18   \n",
       "2016-01-28    2016-04-12      2016-04-19   B6               1460458860000 1461086580000  600.69   \n",
       "2016-09-24    2017-02-22      2017-03-05   AM               1487805240000 1488728880000  430.19   \n",
       "2016-02-24    2016-05-06      2016-05-09   UA               1462537440000 1462818900000  506.39   \n",
       "2016-02-11    2016-07-01      2016-07-05   UA               1467367200000 1467753300000  512.39   \n",
       "2016-10-27    2017-03-11      2017-03-18   UA               1489246500000 1489838400000  449.93   \n",
       "2016-10-17    2017-01-13      2017-01-17   AC               1484321400000 1484671200000  429.73   \n",
       "2016-02-09    2016-03-13      2016-03-16   UA               1457909700000 1458129600000  376.39   \n",
       "\n",
       "                                                                                           mean  \n",
       "received_date departure_odate return_odate major_carrier_id departure_ms  return_ms              \n",
       "2016-12-28    2017-01-01      2017-01-04   UA               1483269300000 1483563900000  432.68  \n",
       "2016-08-17    2016-11-05      2016-11-12   AA               1478370780000 1478969700000  502.52  \n",
       "2016-12-12    2016-12-30      2017-01-05   AA               1483095600000 1483647000000  358.18  \n",
       "2016-01-28    2016-04-12      2016-04-19   B6               1460458860000 1461086580000  600.69  \n",
       "2016-09-24    2017-02-22      2017-03-05   AM               1487805240000 1488728880000  430.19  \n",
       "2016-02-24    2016-05-06      2016-05-09   UA               1462537440000 1462818900000  506.39  \n",
       "2016-02-11    2016-07-01      2016-07-05   UA               1467367200000 1467753300000  512.39  \n",
       "2016-10-27    2017-03-11      2017-03-18   UA               1489246500000 1489838400000  449.93  \n",
       "2016-10-17    2017-01-13      2017-01-17   AC               1484321400000 1484671200000  429.73  \n",
       "2016-02-09    2016-03-13      2016-03-16   UA               1457909700000 1458129600000  376.39  "
      ]
     },
     "execution_count": 472,
     "metadata": {},
     "output_type": "execute_result"
    }
   ],
   "source": [
    "historical_prices.sample(10)"
   ]
  },
  {
   "cell_type": "code",
   "execution_count": 473,
   "metadata": {},
   "outputs": [
    {
     "name": "stdout",
     "output_type": "stream",
     "text": [
      "0    2016-04-21\n",
      "1    2016-04-21\n",
      "2    2016-04-21\n",
      "3    2016-04-21\n",
      "4    2016-04-21\n",
      "Name: received_date, dtype: object\n",
      "0    2016-06-02\n",
      "1    2016-06-02\n",
      "2    2016-06-02\n",
      "3    2016-06-02\n",
      "4    2016-06-02\n",
      "Name: departure_odate, dtype: object\n",
      "0    2016-06-06\n",
      "1    2016-06-06\n",
      "2    2016-06-06\n",
      "3    2016-06-06\n",
      "4    2016-06-06\n",
      "Name: return_odate, dtype: object\n"
     ]
    }
   ],
   "source": [
    "print(flights['received_date'].head())\n",
    "print(flights['departure_odate'].head())\n",
    "print(flights['return_odate'].head())\n",
    "\n",
    "date_columns = ['received_date','departure_odate','return_odate']\n",
    "\n",
    "\n",
    "flights_test['received_date_dt'] = flights_test['received_date'].apply(lambda x: datetime.strptime(x,'%Y-%m-%d'))\n",
    "flights_test['departure_date_dt'] = flights_test['departure_odate'].apply(lambda x: datetime.strptime(x,'%Y-%m-%d'))\n",
    "flights_test['return_date_dt'] = flights_test['return_odate'].apply(lambda x: datetime.strptime(x,'%Y-%m-%d'))"
   ]
  },
  {
   "cell_type": "code",
   "execution_count": 537,
   "metadata": {},
   "outputs": [
    {
     "data": {
      "text/plain": [
       "334658      98.0\n",
       "55393      120.0\n",
       "1533805     55.0\n",
       "1847985     39.0\n",
       "2474636     37.0\n",
       "997276      21.0\n",
       "2318358    259.0\n",
       "956303      20.0\n",
       "1562437     21.0\n",
       "1745155     52.0\n",
       "Name: days_until_return, dtype: float64"
      ]
     },
     "execution_count": 537,
     "metadata": {},
     "output_type": "execute_result"
    }
   ],
   "source": [
    "flights_test['days_until_return'] = (flights_test['return_date_dt'] - flights_test['received_date_dt'])\n",
    "flights_test['days_until_return'].head()\n",
    "\n",
    "test = flights_test['days_until_return']/ np.timedelta64(1, 'D')\n",
    "test[0:10]"
   ]
  },
  {
   "cell_type": "markdown",
   "metadata": {},
   "source": [
    "### Prepare date variables:"
   ]
  },
  {
   "cell_type": "code",
   "execution_count": 538,
   "metadata": {},
   "outputs": [],
   "source": [
    "# If we had more time, using received_ms we could bring in hour, minute as cyclical continuous features \n",
    "# using sin function, or create a \"time of day\" bucket (e.g., morning, evening, etc.)\n",
    "\n",
    "# days until departure should already be defined with \"advance\", but doing manual check\n",
    "flights_test['days_until_departure'] = (flights_test['departure_date_dt'] - flights_test['received_date_dt'])\n",
    "flights_test['days_until_departure'] = flights_test['days_until_return']/ np.timedelta64(1, 'D')\n",
    "\n",
    "# flights_test['days_until_departure'] = flights_test['days_until_departure'].astype('int')\n",
    "flights_test['days_until_return'] = (flights_test['return_date_dt'] - flights_test['received_date_dt'])\n",
    "flights_test['days_until_return'] = flights_test['days_until_return']/ np.timedelta64(1, 'D')\n",
    "# flights_test['days_until_return'] = flights_test['days_until_return'].astype('int')\n",
    "\n",
    "def weekend(x):\n",
    "    if x >= 5:\n",
    "        return 1\n",
    "    else:      \n",
    "        return 0\n",
    "\n",
    "flights_test['received_date_year'] = flights_test['received_date_dt'].dt.year\n",
    "flights_test['received_date_quarter'] = flights_test['received_date_dt'].dt.quarter\n",
    "flights_test['received_date_month'] = flights_test['received_date_dt'].dt.month\n",
    "flights_test['received_date_week'] = flights_test['received_date_dt'].dt.week\n",
    "flights_test['received_date_day'] = flights_test['received_date_dt'].dt.day\n",
    "flights_test['received_date_day_of_week'] = flights_test['received_date_dt'].dt.dayofweek\n",
    "flights_test['received_date_week_of_year'] = flights_test['received_date_dt'].dt.weekofyear\n",
    "flights_test['received_date_weekend_flag'] = flights_test['received_date_day_of_week'].apply(weekend) \n",
    "\n",
    "flights_test['departure_date_year'] = flights_test['departure_date_dt'].dt.year\n",
    "flights_test['departure_date_quarter'] = flights_test['departure_date_dt'].dt.quarter\n",
    "flights_test['departure_date_month'] = flights_test['departure_date_dt'].dt.month\n",
    "flights_test['departure_date_week'] = flights_test['departure_date_dt'].dt.week\n",
    "flights_test['departure_date_day'] = flights_test['departure_date_dt'].dt.day\n",
    "flights_test['departure_date_day_of_week'] = flights_test['departure_date_dt'].dt.dayofweek\n",
    "flights_test['departure_date_week_of_year'] = flights_test['departure_date_dt'].dt.weekofyear\n",
    "flights_test['departure_date_weekend_flag'] = flights_test['departure_date_day_of_week'].apply(weekend)\n",
    "\n",
    "flights_test['return_date_year'] = flights_test['return_date_dt'].dt.year\n",
    "flights_test['return_date_quarter'] = flights_test['return_date_dt'].dt.quarter\n",
    "flights_test['return_date_month'] = flights_test['return_date_dt'].dt.month\n",
    "flights_test['return_date_week'] = flights_test['return_date_dt'].dt.week\n",
    "flights_test['return_date_day'] = flights_test['return_date_dt'].dt.day\n",
    "flights_test['return_date_day_of_week'] = flights_test['return_date_dt'].dt.dayofweek\n",
    "flights_test['return_date_week_of_year'] = flights_test['return_date_dt'].dt.weekofyear\n",
    "flights_test['return_date_weekend_flag'] = flights_test['return_date_day_of_week'].apply(weekend)\n",
    "\n",
    "# flights_test['return_date_day_of_week'].value_counts()\n",
    "# flights_test['return_date_day'].value_counts()\n",
    "\n",
    "# flights_test['days_until_return'].value_counts()\n",
    "# flights_test['days_until_departure'].value_counts()"
   ]
  },
  {
   "cell_type": "markdown",
   "metadata": {},
   "source": [
    "## IV. Begin RF Model"
   ]
  },
  {
   "cell_type": "markdown",
   "metadata": {},
   "source": [
    "### Define Features:"
   ]
  },
  {
   "cell_type": "code",
   "execution_count": 546,
   "metadata": {},
   "outputs": [],
   "source": [
    "features = [    \n",
    "    # target (will drop)\n",
    "    'total_usd'\n",
    "    \n",
    "    #time variable\n",
    "    ,'advance'\n",
    "    \n",
    "        # key time series variables - commenting out so advance gets precedence and we don't overlap \n",
    "#     ,'days_until_departure','days_until_return'\n",
    "    ,'pax_type_full'\n",
    "    ,'validating_carrier','major_carrier_id'\n",
    "    ,'outgoing_stops','returning_stops'\n",
    "    ,'length_of_stay','available_seats'\n",
    "    ,'lowest_cabin_class','highest_cabin_class'\n",
    "    ,'outgoing_duration','returning_duration'\n",
    "#     ,'received_ms','departure_ms','return_ms'\n",
    "   \n",
    "    ,'includes_saturday_night_stay'\n",
    "\n",
    "    \n",
    "#       # key date variables - removed many without sacrificing too much accuracy\n",
    "    ,'received_date_day_of_week','received_date_weekend_flag','received_date_month'\n",
    "#     ,'received_date_year','received_date_quarter','received_date_week'\n",
    "#     ,'received_date_day','received_date_week_of_year'\n",
    "   \n",
    "    ,'departure_date_day_of_week','departure_date_weekend_flag','departure_date_month'\n",
    "#     ,'departure_date_year','departure_date_quarter','departure_date_week'\n",
    "#     ,'departure_date_day','departure_date_week_of_year'\n",
    "   \n",
    "    ,'return_date_day_of_week','return_date_weekend_flag','return_date_month'\n",
    "#     ,'return_date_year','return_date_quarter','return_date_week'\n",
    "#     ,'return_date_day','return_date_week_of_year'\n",
    "          \n",
    "    # past price ratios (if time)\n",
    "]\n",
    "\n"
   ]
  },
  {
   "cell_type": "markdown",
   "metadata": {},
   "source": [
    "### Impute Features with Mean or Most Frequent Values for Simplicity:"
   ]
  },
  {
   "cell_type": "code",
   "execution_count": 547,
   "metadata": {},
   "outputs": [],
   "source": [
    "class DataFrameImputer(TransformerMixin):\n",
    "\n",
    "    def __init__(self):\n",
    "        \"\"\"Impute missing values--\n",
    "         dtype objects imputed with the most frequent value \n",
    "         other types are imputed with mean \n",
    "        \"\"\"\n",
    "    def fit(self, X, y=None):\n",
    "\n",
    "        self.fill = pd.Series([X[c].value_counts().index[0]\n",
    "            if X[c].dtype == np.dtype('O') else X[c].mean() for c in X],\n",
    "            index=X.columns)\n",
    "\n",
    "        return self\n",
    "\n",
    "    def transform(self, X, y=None):\n",
    "        return X.fillna(self.fill)\n",
    "\n",
    "data = [\n",
    "    ['a', 1, 2],\n",
    "    ['b', 1, 1],\n",
    "    ['b', 2, 2],\n",
    "    [np.nan, np.nan, np.nan]\n",
    "]"
   ]
  },
  {
   "cell_type": "markdown",
   "metadata": {},
   "source": [
    "### Run imputation and transform features into dummy space:"
   ]
  },
  {
   "cell_type": "code",
   "execution_count": 775,
   "metadata": {},
   "outputs": [
    {
     "name": "stdout",
     "output_type": "stream",
     "text": [
      "(524548, 24)\n",
      "(175452, 24)\n",
      "(524548, 51)\n",
      "(175452, 51)\n"
     ]
    }
   ],
   "source": [
    "# flights_test = flights_test.reset_index()\n",
    "\n",
    "flights_test_features = flights_test[features]\n",
    "\n",
    "random.seed(999)\n",
    "flights_test_features['random'] = [random.random() for i in range(len(flights_test_features))]\n",
    "\n",
    "flights_test_features_impute = DataFrameImputer().fit_transform(flights_test_features)\n",
    "\n",
    "flight_train = flights_test_features_impute.loc[flights_test_features_impute['random'] < .75,:]\n",
    "flight_test = flights_test_features_impute.loc[flights_test_features_impute['random'] >= .75,:]\n",
    "print(flight_train.shape)\n",
    "print(flight_test.shape)\n",
    "\n",
    "# flight_train_impute = DataFrameImputer().fit_transform(flight_train)\n",
    "# flight_test_impute = DataFrameImputer().fit_transform(flight_test)\n",
    "\n",
    "train_features = pd.get_dummies(flight_train)\n",
    "\n",
    "test_features = pd.get_dummies(flight_test)\n",
    "train_features = train_features[test_features.columns]\n",
    "\n",
    "train_target = train_features['total_usd']\n",
    "\n",
    "test_target = test_features['total_usd']\n",
    "\n",
    "train_features = train_features.drop(['total_usd','random'],axis=1)\n",
    "\n",
    "test_features = test_features.drop(['total_usd','random'],axis=1)\n",
    "\n",
    "print(train_features.shape)\n",
    "print(test_features.shape)\n"
   ]
  },
  {
   "cell_type": "markdown",
   "metadata": {},
   "source": [
    "### Run random forest model:"
   ]
  },
  {
   "cell_type": "code",
   "execution_count": 777,
   "metadata": {},
   "outputs": [
    {
     "name": "stdout",
     "output_type": "stream",
     "text": [
      "Total time: 4801.5854 seconds\n"
     ]
    }
   ],
   "source": [
    "start = timeit.default_timer()\n",
    "model = sklearn.ensemble.RandomForestRegressor(bootstrap=True, \n",
    "#                                                criterion='gini',\n",
    "            max_depth=None, max_features='auto', max_leaf_nodes=None,\n",
    "            min_impurity_decrease=0.0, min_impurity_split=None,\n",
    "            min_samples_leaf=10, min_samples_split=2,\n",
    "            min_weight_fraction_leaf=0.0\n",
    "            , n_estimators=1000\n",
    "            , n_jobs=None,\n",
    "            oob_score=False, random_state=None, verbose=0,\n",
    "            warm_start=False)\n",
    "\n",
    "# model.fit(train_features,train_target)\n",
    "\n",
    "\n",
    "end = timeit.default_timer()\n",
    "print(\"Total time:\",round(end - start,4), \"seconds\")"
   ]
  },
  {
   "cell_type": "code",
   "execution_count": 780,
   "metadata": {},
   "outputs": [
    {
     "data": {
      "text/plain": [
       "['finalized_model.sav']"
      ]
     },
     "execution_count": 780,
     "metadata": {},
     "output_type": "execute_result"
    }
   ],
   "source": [
    "# Save RF model, which took about an hour to run (3.28 GB)\n",
    "filename = 'finalized_model.sav'\n",
    "# joblib.dump(model, filename)"
   ]
  },
  {
   "cell_type": "markdown",
   "metadata": {},
   "source": [
    "### Predict train and holdout prices and visualize most important predictors:"
   ]
  },
  {
   "cell_type": "code",
   "execution_count": 781,
   "metadata": {},
   "outputs": [
    {
     "name": "stdout",
     "output_type": "stream",
     "text": [
      "110.3583458934224\n",
      "                            Importance\n",
      "highest_cabin_class_E           0.1249\n",
      "return_date_month               0.1236\n",
      "advance                         0.1029\n",
      "returning_duration              0.0938\n",
      "departure_date_month            0.0919\n",
      "return_date_day_of_week         0.0905\n",
      "received_date_month             0.0565\n",
      "outgoing_duration               0.0474\n",
      "length_of_stay                  0.0446\n",
      "departure_date_day_of_week      0.0427\n",
      "validating_carrier_DL           0.0240\n",
      "pax_type_full_ADT               0.0235\n",
      "major_carrier_id_B6             0.0162\n",
      "available_seats                 0.0146\n",
      "return_date_weekend_flag        0.0134\n",
      "major_carrier_id_UA             0.0131\n",
      "pax_type_full_missing           0.0113\n",
      "received_date_day_of_week       0.0094\n",
      "returning_stops                 0.0071\n",
      "major_carrier_id_DL             0.0056\n"
     ]
    },
    {
     "data": {
      "image/png": "[encoded data removed]",
      "text/plain": [
       "<Figure size 864x432 with 1 Axes>"
      ]
     },
     "metadata": {
      "needs_background": "light"
     },
     "output_type": "display_data"
    },
    {
     "data": {
      "text/html": [
       "<div>\n",
       "<style scoped>\n",
       "    .dataframe tbody tr th:only-of-type {\n",
       "        vertical-align: middle;\n",
       "    }\n",
       "\n",
       "    .dataframe tbody tr th {\n",
       "        vertical-align: top;\n",
       "    }\n",
       "\n",
       "    .dataframe thead th {\n",
       "        text-align: right;\n",
       "    }\n",
       "</style>\n",
       "<table border=\"1\" class=\"dataframe\">\n",
       "  <thead>\n",
       "    <tr style=\"text-align: right;\">\n",
       "      <th></th>\n",
       "      <th>test_predict</th>\n",
       "      <th>test_target</th>\n",
       "    </tr>\n",
       "  </thead>\n",
       "  <tbody>\n",
       "    <tr>\n",
       "      <th>167574</th>\n",
       "      <td>409.350915</td>\n",
       "      <td>446.68</td>\n",
       "    </tr>\n",
       "    <tr>\n",
       "      <th>131617</th>\n",
       "      <td>373.805421</td>\n",
       "      <td>372.19</td>\n",
       "    </tr>\n",
       "    <tr>\n",
       "      <th>7449</th>\n",
       "      <td>374.739530</td>\n",
       "      <td>331.68</td>\n",
       "    </tr>\n",
       "    <tr>\n",
       "      <th>99861</th>\n",
       "      <td>312.502881</td>\n",
       "      <td>325.43</td>\n",
       "    </tr>\n",
       "    <tr>\n",
       "      <th>51091</th>\n",
       "      <td>526.266246</td>\n",
       "      <td>575.69</td>\n",
       "    </tr>\n",
       "    <tr>\n",
       "      <th>115169</th>\n",
       "      <td>319.068900</td>\n",
       "      <td>299.91</td>\n",
       "    </tr>\n",
       "    <tr>\n",
       "      <th>18666</th>\n",
       "      <td>931.605092</td>\n",
       "      <td>917.80</td>\n",
       "    </tr>\n",
       "    <tr>\n",
       "      <th>85176</th>\n",
       "      <td>686.970366</td>\n",
       "      <td>661.24</td>\n",
       "    </tr>\n",
       "    <tr>\n",
       "      <th>144960</th>\n",
       "      <td>469.236916</td>\n",
       "      <td>469.48</td>\n",
       "    </tr>\n",
       "    <tr>\n",
       "      <th>55414</th>\n",
       "      <td>551.676048</td>\n",
       "      <td>854.19</td>\n",
       "    </tr>\n",
       "    <tr>\n",
       "      <th>30611</th>\n",
       "      <td>590.093427</td>\n",
       "      <td>620.80</td>\n",
       "    </tr>\n",
       "    <tr>\n",
       "      <th>168659</th>\n",
       "      <td>1285.191831</td>\n",
       "      <td>1037.70</td>\n",
       "    </tr>\n",
       "    <tr>\n",
       "      <th>21070</th>\n",
       "      <td>409.585046</td>\n",
       "      <td>336.58</td>\n",
       "    </tr>\n",
       "    <tr>\n",
       "      <th>87095</th>\n",
       "      <td>587.727762</td>\n",
       "      <td>638.08</td>\n",
       "    </tr>\n",
       "    <tr>\n",
       "      <th>149467</th>\n",
       "      <td>871.412123</td>\n",
       "      <td>966.24</td>\n",
       "    </tr>\n",
       "    <tr>\n",
       "      <th>132406</th>\n",
       "      <td>424.433502</td>\n",
       "      <td>419.71</td>\n",
       "    </tr>\n",
       "    <tr>\n",
       "      <th>4316</th>\n",
       "      <td>279.574277</td>\n",
       "      <td>259.68</td>\n",
       "    </tr>\n",
       "    <tr>\n",
       "      <th>80806</th>\n",
       "      <td>588.170169</td>\n",
       "      <td>576.74</td>\n",
       "    </tr>\n",
       "    <tr>\n",
       "      <th>91843</th>\n",
       "      <td>810.492415</td>\n",
       "      <td>1100.11</td>\n",
       "    </tr>\n",
       "    <tr>\n",
       "      <th>26567</th>\n",
       "      <td>564.751408</td>\n",
       "      <td>551.71</td>\n",
       "    </tr>\n",
       "  </tbody>\n",
       "</table>\n",
       "</div>"
      ],
      "text/plain": [
       "        test_predict  test_target\n",
       "167574    409.350915       446.68\n",
       "131617    373.805421       372.19\n",
       "7449      374.739530       331.68\n",
       "99861     312.502881       325.43\n",
       "51091     526.266246       575.69\n",
       "115169    319.068900       299.91\n",
       "18666     931.605092       917.80\n",
       "85176     686.970366       661.24\n",
       "144960    469.236916       469.48\n",
       "55414     551.676048       854.19\n",
       "30611     590.093427       620.80\n",
       "168659   1285.191831      1037.70\n",
       "21070     409.585046       336.58\n",
       "87095     587.727762       638.08\n",
       "149467    871.412123       966.24\n",
       "132406    424.433502       419.71\n",
       "4316      279.574277       259.68\n",
       "80806     588.170169       576.74\n",
       "91843     810.492415      1100.11\n",
       "26567     564.751408       551.71"
      ]
     },
     "execution_count": 781,
     "metadata": {},
     "output_type": "execute_result"
    }
   ],
   "source": [
    "test_predict = model.predict(test_features)\n",
    "train_predict = model.predict(train_features)\n",
    "\n",
    "\n",
    "def rmse(y_true,y_pred):\n",
    "    return np.sqrt(sklearn.metrics.mean_squared_error(y_true,y_pred))\n",
    "\n",
    "print(rmse(test_target,test_predict))\n",
    "\n",
    "# plot_features(model,(10,14))\n",
    "feature_importances = model.feature_importances_\n",
    "importance_table = pd.DataFrame(feature_importances, index=train_features.columns, \n",
    "                          columns=[\"Importance\"]).sort_values(by=['Importance'],ascending=False)\n",
    "importance_table['Importance'] = round(importance_table['Importance'],4)\n",
    "print(importance_table.head(20))\n",
    "\n",
    "# ***visualize top 10 or more predictors\n",
    "x_bar = set(importance_table.index[0:10])\n",
    "y_bar = importance_table['Importance'][0:10]\n",
    "ind = [x for x, _ in enumerate(x_bar)]\n",
    "plt.rcParams['figure.figsize'] = [12, 6]\n",
    "\n",
    "plt.bar(ind,y_bar)\n",
    "plt.xticks(ind,x_bar)\n",
    "plt.show()\n",
    "\n",
    "\n",
    "compare = pd.DataFrame()\n",
    "compare['test_predict'] = test_predict\n",
    "compare['test_target'] = np.array(test_target)\n",
    "\n",
    "# test_target\n",
    "compare.sample(20)"
   ]
  },
  {
   "cell_type": "markdown",
   "metadata": {},
   "source": [
    "### Generate Predicted Price Distribution and Lift Curves:\n",
    "A lift curve visualizes risk: first, it sorts all predicted-actual pairs by predicted value; second, it groups these pairs into x (in this case 30) evenly counted buckets; finally, it calculates and plots the mean of each predicted and actual price for each bucket.\n"
   ]
  },
  {
   "cell_type": "code",
   "execution_count": 798,
   "metadata": {},
   "outputs": [
    {
     "name": "stdout",
     "output_type": "stream",
     "text": [
      "Distribution of Predicted Flight Costs:\n"
     ]
    },
    {
     "data": {
      "image/png": "[encoded data removed]",
      "text/plain": [
       "<Figure size 864x432 with 1 Axes>"
      ]
     },
     "metadata": {
      "needs_background": "light"
     },
     "output_type": "display_data"
    },
    {
     "name": "stdout",
     "output_type": "stream",
     "text": [
      "sum check: 107960182.0935 \n",
      "\n",
      "sum check: 107860193.93 \n",
      "\n",
      "total_usd\n",
      "0      272.916923\n",
      "1      298.066710\n",
      "2      319.669355\n",
      "3      340.797250\n",
      "4      359.395732\n",
      "5      378.181178\n",
      "6      399.265882\n",
      "7      420.701224\n",
      "8      440.918709\n",
      "9      460.070407\n",
      "10     476.288092\n",
      "11     494.060169\n",
      "12     514.030896\n",
      "13     536.276752\n",
      "14     556.684884\n",
      "15     572.136428\n",
      "16     588.632164\n",
      "17     604.909012\n",
      "18     624.602656\n",
      "19     645.052002\n",
      "20     668.996200\n",
      "21     695.555365\n",
      "22     726.566866\n",
      "23     761.521859\n",
      "24     806.249538\n",
      "25     859.164015\n",
      "26     924.022066\n",
      "27    1013.001581\n",
      "28    1160.595361\n",
      "29    1524.300150\n",
      "Name: total_usd, dtype: float64 0      286.109534\n",
      "1      319.400494\n",
      "2      343.857257\n",
      "3      364.634673\n",
      "4      385.490368\n",
      "5      406.049646\n",
      "6      426.434576\n",
      "7      445.959900\n",
      "8      463.462663\n",
      "9      480.859925\n",
      "10     498.680479\n",
      "11     516.745432\n",
      "12     534.443115\n",
      "13     551.676072\n",
      "14     567.407166\n",
      "15     581.714856\n",
      "16     596.276715\n",
      "17     612.537777\n",
      "18     629.010453\n",
      "19     646.101948\n",
      "20     665.378974\n",
      "21     688.697081\n",
      "22     717.078802\n",
      "23     748.502406\n",
      "24     786.663306\n",
      "25     834.418051\n",
      "26     891.800386\n",
      "27     970.301209\n",
      "28    1089.675835\n",
      "29    1410.366511\n",
      "dtype: float64\n"
     ]
    },
    {
     "data": {
      "image/png": "[encoded data removed]",
      "text/plain": [
       "<Figure size 864x432 with 1 Axes>"
      ]
     },
     "metadata": {
      "needs_background": "light"
     },
     "output_type": "display_data"
    }
   ],
   "source": [
    "curve = np.sort(test_predict)\n",
    "# curve = np.sort(test_target)\n",
    "plt.plot(curve)\n",
    "print(\"Distribution of Predicted Flight Costs:\")\n",
    "plt.show()\n",
    "\n",
    "print(\"sum check:\",round(test_predict.sum(),4),'\\n')\n",
    "print(\"sum check:\",round(test_target.sum(),4),'\\n')\n",
    "\n",
    "\n",
    "def LiftCurve(actual, predicted, bins):\n",
    "    actual_ranks = pd.qcut(actual.rank(method='first'),bins,labels=False)\n",
    "    pred_ranks = pd.qcut(predicted.rank(method='first'),bins,labels=False)\n",
    "    actual_percentiles = actual.groupby(actual_ranks).mean()\n",
    "    pred_percentiles = predicted.groupby(pred_ranks).mean()\n",
    "    \n",
    "    \n",
    "#     plt.title('Lift Chart')\n",
    "    plt.plot(pred_percentiles,color='darkorange')\n",
    "    plt.plot(actual_percentiles,color='navy')\n",
    "    plt.ylabel('Target Percentile')\n",
    "    plt.xlabel('Buckets')\n",
    "    plt.legend(loc='best') \n",
    "    print(actual_percentiles,pred_percentiles)\n",
    "\n",
    "    \n",
    "LiftCurve(test_target,pd.Series(test_predict),30)\n",
    "    "
   ]
  },
  {
   "cell_type": "markdown",
   "metadata": {},
   "source": [
    "## V: Run Pricing Recommendation Algorithm on Randomly Generated Flight:\n",
    "Buy flight if current price is in the top 20% of future predicted flight prices. \n",
    "Scoring for each day - pick test search_id and run for every day or every 3 days for up to 8 months"
   ]
  },
  {
   "cell_type": "code",
   "execution_count": 804,
   "metadata": {},
   "outputs": [
    {
     "name": "stdout",
     "output_type": "stream",
     "text": [
      "Random Search ID: d355870f-a142-325d-ab4e-dad4e5698a8b\n",
      "Original Advance # of Days: 34\n",
      "Original Flight Price: 635.97\n",
      "Future Low 20% Threshold: 604.11\n",
      "WAIT\n"
     ]
    }
   ],
   "source": [
    "# Generate random search_id and trip_index to use\n",
    "random_flight = test_features_simulate.loc[:,['search_id','trip_index']].sample(1)\n",
    "random_search_id = random_flight.iloc[0,0]\n",
    "random_trip_index = random_flight.iloc[0,1]\n",
    "print(\"Random Search ID:\", random_search_id)\n",
    "# print(random_trip_index)\n",
    "\n",
    "# begin creating single flight scoring simulation\n",
    "test_features_simulate = test_features.copy()\n",
    "# print(test_features_simulate.shape)\n",
    "test_features_simulate['search_id'] = flights_test['search_id']\n",
    "test_features_simulate['total_usd'] = flights_test['total_usd']\n",
    "test_features_simulate['trip_index'] = flights_test['trip_index']\n",
    "# print(test_features_simulate.shape)\n",
    "\n",
    "# search_id = '3ac1c217-92ea-3d99-b705-cbd3e6639006'\n",
    "search_id = random_search_id\n",
    "# trip_index = 57\n",
    "trip_index = random_trip_index\n",
    "\n",
    "test_features_simulate_single = test_features_simulate[(test_features_simulate['search_id'] == search_id)\n",
    "                                                      & (test_features_simulate['trip_index'] == trip_index)\n",
    "                                                      ]\n",
    "original_price = test_features_simulate_single.loc[:,'total_usd'].iloc[0]                                                 \n",
    "# print(test_features_simulate_single.head())\n",
    "test_features_simulate_single_score = test_features_simulate_single.drop(['total_usd','search_id','trip_index'],axis=1)\n",
    "\n",
    "\n",
    "original_advance = test_features_simulate_single.loc[:,'advance'].iloc[0]\n",
    "test_features_simulate_single_score.loc[:,'advance'].iloc[0] = original_advance\n",
    "print(\"Original Advance # of Days:\",original_advance)\n",
    "\n",
    "def score_flight():\n",
    "    global predict_price\n",
    "    global advance_value\n",
    "    global low_threshold       \n",
    "    predict_price = pd.Series()\n",
    "        \n",
    "    while test_features_simulate_single_score.loc[:,'advance'].iloc[0] > 14:\n",
    "        predict_price = predict_price.append(pd.Series(model.predict(test_features_simulate_single_score)))\n",
    "        test_features_simulate_single_score.loc[:,'advance'].iloc[0] = test_features_simulate_single_score.loc[:,'advance'].iloc[0] - 3\n",
    "        advance_value = test_features_simulate_single_score.loc[:,'advance'].iloc[0]\n",
    "    else: \n",
    "        if original_advance <= 14:\n",
    "            print(\"Departure date is less than two weeks away: No recommendation!\")\n",
    "        else:\n",
    "            low_threshold = round(np.percentile(predict_price,20),2)\n",
    "            if low_threshold <= original_price:\n",
    "                print(\"Original Flight Price:\",original_price)\n",
    "                print(\"Future Low 20% Threshold:\",low_threshold)\n",
    "                print('WAIT')\n",
    "            else:\n",
    "                print(\"Original Flight Price:\",original_price)\n",
    "                print(\"Low Future Threshold:\",low_threshold)\n",
    "                print('BUY')\n",
    "\n",
    "score_flight()\n",
    "# print(advance_value)\n",
    "# print(predict_price)\n",
    "# print(low_threshold)\n",
    "# print(\"Original Flight Price:\",original_price)\n",
    "# print(\"Low Future Threshold:\",low_threshold)\n"
   ]
  },
  {
   "cell_type": "code",
   "execution_count": null,
   "metadata": {},
   "outputs": [],
   "source": []
  }
 ],
 "metadata": {
  "kernelspec": {
   "display_name": "Python 3",
   "language": "python",
   "name": "python3"
  },
  "language_info": {
   "codemirror_mode": {
    "name": "ipython",
    "version": 3
   },
   "file_extension": ".py",
   "mimetype": "text/x-python",
   "name": "python",
   "nbconvert_exporter": "python",
   "pygments_lexer": "ipython3",
   "version": "3.7.1"
  }
 },
 "nbformat": 4,
 "nbformat_minor": 2
}
