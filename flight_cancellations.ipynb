{
 "cells": [
  {
   "cell_type": "code",
   "execution_count": 3,
   "metadata": {},
   "outputs": [],
   "source": [
    "import os \n",
    "import glob\n",
    "import pandas as pd\n",
    "import numpy as np\n",
    "import seaborn as sns\n",
    "import timeit\n",
    "import random\n",
    "import matplotlib.pyplot as plt\n",
    "import datetime\n",
    "from datetime import date\n",
    "from datetime import datetime\n",
    "import time\n",
    "\n",
    "import sklearn\n",
    "from sklearn.linear_model import LinearRegression\n",
    "from sklearn.ensemble import GradientBoostingClassifier\n",
    "from sklearn.ensemble import RandomForestClassifier\n",
    "from sklearn.impute import SimpleImputer\n",
    "from sklearn.metrics import roc_curve, auc\n",
    "from sklearn.base import TransformerMixin\n",
    "from sklearn.utils import resample\n",
    "\n",
    "import warnings\n",
    "# We can ignore warnings only on final run-through to improve legibility.\n",
    "# warnings.filterwarnings('ignore')"
   ]
  },
  {
   "cell_type": "markdown",
   "metadata": {},
   "source": [
    "<br/>\n",
    "\n",
    "## I. READ DATA & PROFILE\n",
    "Bring in a relevant representative sample \n",
    "knowing we can always add more data to improve model + analytics."
   ]
  },
  {
   "cell_type": "code",
   "execution_count": 4,
   "metadata": {},
   "outputs": [
    {
     "name": "stderr",
     "output_type": "stream",
     "text": [
      "/Users/Tanner/anaconda3/lib/python3.7/site-packages/IPython/core/interactiveshell.py:3020: DtypeWarning: Columns (78,85,86) have mixed types. Specify dtype option on import or set low_memory=False.\n",
      "  interactivity=interactivity, compiler=compiler, result=result)\n",
      "/Users/Tanner/anaconda3/lib/python3.7/site-packages/IPython/core/interactiveshell.py:3020: DtypeWarning: Columns (78,85) have mixed types. Specify dtype option on import or set low_memory=False.\n",
      "  interactivity=interactivity, compiler=compiler, result=result)\n"
     ]
    }
   ],
   "source": [
    "df1 = pd.read_csv(r\"cancellations/flight_2015_1.csv\")\n",
    "df2 = pd.read_csv(r\"cancellations/flight_2015_2.csv\")\n",
    "df3 = pd.read_csv(r\"cancellations/flight_2015_5.csv\")\n",
    "df4 = pd.read_csv(r\"cancellations/flight_2015_8.csv\")"
   ]
  },
  {
   "cell_type": "markdown",
   "metadata": {},
   "source": [
    "#### Concatenate datasets:"
   ]
  },
  {
   "cell_type": "code",
   "execution_count": 5,
   "metadata": {},
   "outputs": [],
   "source": [
    "# df2.head()\n",
    "# cols = df2.columns\n",
    "# print(cols)\n",
    "dflist = [df1,df2,df3,df4]\n",
    "flight_data = pd.concat(dflist,axis=0)"
   ]
  },
  {
   "cell_type": "markdown",
   "metadata": {},
   "source": [
    "#### Check shapes:"
   ]
  },
  {
   "cell_type": "code",
   "execution_count": 6,
   "metadata": {},
   "outputs": [
    {
     "name": "stdout",
     "output_type": "stream",
     "text": [
      "(667342, 111)\n",
      "(164489, 111)\n",
      "(150217, 111)\n",
      "(173948, 111)\n",
      "(178688, 111)\n"
     ]
    }
   ],
   "source": [
    "print(flight_data.shape)\n",
    "print(df1.shape)\n",
    "print(df2.shape)\n",
    "print(df3.shape)\n",
    "print(df4.shape)"
   ]
  },
  {
   "cell_type": "markdown",
   "metadata": {},
   "source": [
    "#### Create disruption flag if delay is >= 240 minutes or canceled:\n"
   ]
  },
  {
   "cell_type": "code",
   "execution_count": 7,
   "metadata": {},
   "outputs": [],
   "source": [
    "def disruption(x):\n",
    "    if x >= 240: \n",
    "        return 1\n",
    "    else: \n",
    "        return 0\n",
    "\n",
    "df1['delay_flag'] = df1['DepDelayMinutes'].apply(disruption)\n",
    "df2['delay_flag'] = df2['DepDelayMinutes'].apply(disruption)\n",
    "df3['delay_flag'] = df3['DepDelayMinutes'].apply(disruption)\n",
    "df4['delay_flag'] = df4['DepDelayMinutes'].apply(disruption)\n",
    "flight_data['delay_flag'] = flight_data['DepDelayMinutes'].apply(disruption)\n",
    "\n",
    "df1['disruption_flag'] = df1[['delay_flag','Cancelled']].max(axis=1)\n",
    "df2['disruption_flag'] = df2[['delay_flag','Cancelled']].max(axis=1)\n",
    "df3['disruption_flag'] = df3[['delay_flag','Cancelled']].max(axis=1)\n",
    "df4['disruption_flag'] = df4[['delay_flag','Cancelled']].max(axis=1)\n",
    "flight_data['disruption_flag'] = flight_data[['delay_flag','Cancelled']].max(axis=1)"
   ]
  },
  {
   "cell_type": "markdown",
   "metadata": {},
   "source": [
    "#### Check disruption flags by month and in aggregate:\n",
    "Given four months of 2015 data, \"disruptions\" occur in about 2.65% of all flights. \n",
    "This dataset may be slightly imbalanced for modeling and could benefit from over- or under-sampling techniques, such as SMOTE.\n"
   ]
  },
  {
   "cell_type": "code",
   "execution_count": 8,
   "metadata": {},
   "outputs": [
    {
     "name": "stdout",
     "output_type": "stream",
     "text": [
      "df1 0.0    159752\n",
      "1.0      4737\n",
      "Name: disruption_flag, dtype: int64\n",
      "0.0    0.971202\n",
      "1.0    0.028798\n",
      "Name: disruption_flag, dtype: float64\n",
      "df2 0.0    142375\n",
      "1.0      7842\n",
      "Name: disruption_flag, dtype: int64\n",
      "0.0    0.947796\n",
      "1.0    0.052204\n",
      "Name: disruption_flag, dtype: float64\n",
      "df3 0.0    171251\n",
      "1.0      2697\n",
      "Name: disruption_flag, dtype: int64\n",
      "0.0    0.984495\n",
      "1.0    0.015505\n",
      "Name: disruption_flag, dtype: float64\n",
      "df4 0.0    176275\n",
      "1.0      2413\n",
      "Name: disruption_flag, dtype: int64\n",
      "0.0    0.986496\n",
      "1.0    0.013504\n",
      "Name: disruption_flag, dtype: float64\n",
      "\n",
      " all flight data 0.0    649653\n",
      "1.0     17689\n",
      "Name: disruption_flag, dtype: int64\n",
      "0.0    0.973493\n",
      "1.0    0.026507\n",
      "Name: disruption_flag, dtype: float64\n"
     ]
    }
   ],
   "source": [
    "print(\"df1\",df1['disruption_flag'].value_counts())\n",
    "print(df1['disruption_flag'].value_counts(normalize=True))\n",
    "print(\"df2\",df2['disruption_flag'].value_counts())\n",
    "print(df2['disruption_flag'].value_counts(normalize=True))\n",
    "print(\"df3\",df3['disruption_flag'].value_counts())\n",
    "print(df3['disruption_flag'].value_counts(normalize=True))\n",
    "print(\"df4\",df4['disruption_flag'].value_counts())\n",
    "print(df4['disruption_flag'].value_counts(normalize=True))\n",
    "\n",
    "print('\\n',\"all flight data\",flight_data['disruption_flag'].value_counts())\n",
    "print(flight_data['disruption_flag'].value_counts(normalize=True))\n",
    "\n",
    "\n",
    "# Perform a box and whisker disruption for further look at distribution.\n"
   ]
  },
  {
   "cell_type": "markdown",
   "metadata": {},
   "source": [
    "#### Add weekend flag:\n"
   ]
  },
  {
   "cell_type": "code",
   "execution_count": 9,
   "metadata": {},
   "outputs": [
    {
     "data": {
      "text/plain": [
       "0    0\n",
       "1    0\n",
       "2    0\n",
       "3    0\n",
       "4    0\n",
       "Name: weekend_flag, dtype: int64"
      ]
     },
     "execution_count": 9,
     "metadata": {},
     "output_type": "execute_result"
    }
   ],
   "source": [
    "def weekend(x):\n",
    "    if x >= 6:\n",
    "        return 1\n",
    "    else: \n",
    "        \n",
    "        return 0\n",
    "    \n",
    "flight_data['weekend_flag'] = flight_data['DayOfWeek'].apply(weekend) \n",
    "flight_data['weekend_flag'].head()"
   ]
  },
  {
   "cell_type": "markdown",
   "metadata": {},
   "source": [
    "#### Convert CRSDepTime into cyclical continuous feature:\n"
   ]
  },
  {
   "cell_type": "code",
   "execution_count": 10,
   "metadata": {},
   "outputs": [
    {
     "data": {
      "text/plain": [
       "0"
      ]
     },
     "execution_count": 10,
     "metadata": {},
     "output_type": "execute_result"
    }
   ],
   "source": [
    "CRSDepTime = pd.DataFrame(flight_data['CRSDepTime'])\n",
    "\n",
    "# CRSDepTime[0:6]\n",
    "# normalize data first \n",
    "flight_data['sin_CRSDepTime'] = CRSDepTime.apply(lambda x: np.sin(x))\n",
    "flight_data['sin_CRSDepTime'].sample(10)\n",
    "\n",
    "flight_data['sin_CRSDepTime'].isnull().sum()\n"
   ]
  },
  {
   "cell_type": "markdown",
   "metadata": {},
   "source": [
    "<br/>\n",
    "\n",
    "## II. STRATEGY DISCUSSION / NOTES (post-EDA)\n",
    "\n",
    "#### Pre-model: Revenue, Costs, and Profit \n",
    "#### Revenue per flight: 19 dollars (risk unknown)\n",
    "#### Cost per disruption: 500 dollars (avg ticket price, see Ticket Price Assumption below)\n",
    "#### Disruption Probability Constant: 2.5%    (*based on select months from 2015)\n",
    "#### Expected revenue per disruption: = (19 / 0.025) = 760\n",
    "#### Marginal profit per disruption: = 760 - 500 = 260\n",
    "\n",
    "(at 1.9m flights in 4 months * 3 4-month periods we have 5.7 million BTS flights in 2015)\n",
    "<br/> <br/>\n"
   ]
  },
  {
   "cell_type": "markdown",
   "metadata": {},
   "source": [
    "### Features Brainstorm:\n",
    "Hypothetical data (very few columns)\n",
    "     1. Airport Origin ID\n",
    "             could group into regions and number of flights\n",
    "     2. Airport Destination ID\n",
    "             could group into regions and number of flights\n",
    "     3. Airline Carrer\n",
    "     4. Month (and quarter)\n",
    "     5. Day of the month (and week)\n",
    "     6. Time of day (use radians or leave?)\n",
    "     7. Pull in distance data between all airports from other .csvs\n",
    "     8. Flight number (likely biased, but im sure it has a trend)\n"
   ]
  },
  {
   "cell_type": "markdown",
   "metadata": {},
   "source": [
    "### Relevant Columns:\n",
    " disruption_flag, delay_flag, Cancelled\n",
    " Year, Quarter, Month, DayOfMonth, DayOfWeek,\n",
    " UniqueCarrier or Carrier?\n",
    " Origin, Dest (matches hypo data)\n",
    " DeptTime and CRSDepTime, CRSEstimatedTime (CRS is rounded, useful for var. reduction)\n",
    " Distance, DistanceGroup, AirTime (lagging?), ActualElapsedTime (lagging?) \n",
    " (DistanceGroup useful as var. reduction)\n",
    " FlightNum\n",
    "\n",
    "### Weather:\n",
    " Unless we have a current weather feed (or lagged by days, weeks months) its not easy to use this.\n",
    " However, one exception is a Farmer's Almanac-style YoY prediction for bad winters, natural disasters, etc.\n",
    "\n",
    "### General Comments:\n",
    "Develop a pricing system that takes the risk of the flight into account\n",
    "explore what effect your hypothetical system would have on: <br/>\n",
    "     -Revenue <br/>\n",
    "     -Costs <br/>\n",
    "     -Profits <br/>\n",
    "\n",
    "#### 1. Build Model to predict flight disruptions (binary target?)\n",
    " -Encode binary disruption flag. <br/>\n",
    " -Build gbm, rf, or linear model in scikit learn.\n",
    "\n",
    "#### 2. Create a marginal profit/loss column based on 19 dollar price\n",
    "  Create a marginal profit/loss column based on three-tier pricing.\n",
    "\n",
    "#### 3. Run bootstrapping to generate distribution of total profit/loss\n",
    "\n",
    "### Ticket Price Assumption:\n",
    "  500 dollar average ticket price for replacement cost of flights.\n",
    "  If time, I could calculate distance between airports and build a simple linear model with floor and ceiling?\n",
    "  I could also take into account # of stops (direct vs. non-direct).\n",
    "  \n",
    "  <br/>"
   ]
  },
  {
   "cell_type": "markdown",
   "metadata": {},
   "source": [
    "## III. MODEL BUILD\n",
    "\n",
    "#### Count Variable Levels:"
   ]
  },
  {
   "cell_type": "markdown",
   "metadata": {},
   "source": [
    "#### Create BTS flight subset to model:"
   ]
  },
  {
   "cell_type": "code",
   "execution_count": 11,
   "metadata": {},
   "outputs": [
    {
     "name": "stdout",
     "output_type": "stream",
     "text": [
      "(667342, 115)\n",
      "(650000, 22)\n"
     ]
    }
   ],
   "source": [
    "# flight_data.iloc[,20:40].head()\n",
    "print(flight_data.shape)\n",
    "# sample_length = len(flight_data)\n",
    "sample_length = 650000\n",
    "random.seed(9999)\n",
    "flight_subset = flight_data.loc[:,['UniqueCarrier','Carrier','Origin','Dest','FlightNum'\n",
    "                  ,'Year','Quarter','Month','DayofMonth','DayOfWeek'\n",
    "                  ,'DepTime','CRSDepTime','sin_CRSDepTime','weekend_flag'\n",
    "                  ,'CRSElapsedTime','Distance','DistanceGroup'\n",
    "                  ,'AirTime','ActualElapsedTime'\n",
    "                  ,'Cancelled','delay_flag','disruption_flag']].sample(sample_length,random_state=999)\n",
    "\n",
    "print(flight_subset.shape)"
   ]
  },
  {
   "cell_type": "code",
   "execution_count": 12,
   "metadata": {},
   "outputs": [
    {
     "name": "stdout",
     "output_type": "stream",
     "text": [
      "UniqueCarrier 14\n",
      "Carrier 14\n",
      "Origin 322\n",
      "Dest 322\n",
      "FlightNum 6531\n",
      "Year 1\n",
      "Quarter 3\n",
      "Month 4\n",
      "DayofMonth 31\n",
      "DayOfWeek 7\n",
      "DepTime 15667\n",
      "CRSDepTime 1243\n",
      "sin_CRSDepTime 1243\n",
      "weekend_flag 2\n",
      "CRSElapsedTime 493\n",
      "Distance 1312\n",
      "DistanceGroup 11\n",
      "AirTime 17161\n",
      "ActualElapsedTime 17191\n",
      "Cancelled 2\n",
      "delay_flag 2\n",
      "disruption_flag 2\n"
     ]
    }
   ],
   "source": [
    "for column in flight_subset:\n",
    "    print(column,len(set(flight_subset[column])))"
   ]
  },
  {
   "cell_type": "markdown",
   "metadata": {},
   "source": [
    "#### Impute function:"
   ]
  },
  {
   "cell_type": "code",
   "execution_count": 13,
   "metadata": {},
   "outputs": [],
   "source": [
    "class DataFrameImputer(TransformerMixin):\n",
    "\n",
    "    def __init__(self):\n",
    "        \"\"\"Impute missing values--\n",
    "         dtype objects imputed with the most frequent value \n",
    "         other types are imputed with mean \n",
    "        \"\"\"\n",
    "    def fit(self, X, y=None):\n",
    "\n",
    "        self.fill = pd.Series([X[c].value_counts().index[0]\n",
    "            if X[c].dtype == np.dtype('O') else X[c].mean() for c in X],\n",
    "            index=X.columns)\n",
    "\n",
    "        return self\n",
    "\n",
    "    def transform(self, X, y=None):\n",
    "        return X.fillna(self.fill)\n",
    "\n",
    "data = [\n",
    "    ['a', 1, 2],\n",
    "    ['b', 1, 1],\n",
    "    ['b', 2, 2],\n",
    "    [np.nan, np.nan, np.nan]\n",
    "]\n"
   ]
  },
  {
   "cell_type": "markdown",
   "metadata": {},
   "source": [
    "#### Subset features and split train vs. test datasets:"
   ]
  },
  {
   "cell_type": "code",
   "execution_count": 14,
   "metadata": {},
   "outputs": [
    {
     "name": "stderr",
     "output_type": "stream",
     "text": [
      "/Users/Tanner/anaconda3/lib/python3.7/site-packages/ipykernel_launcher.py:10: SettingWithCopyWarning: \n",
      "A value is trying to be set on a copy of a slice from a DataFrame.\n",
      "Try using .loc[row_indexer,col_indexer] = value instead\n",
      "\n",
      "See the caveats in the documentation: http://pandas.pydata.org/pandas-docs/stable/indexing.html#indexing-view-versus-copy\n",
      "  # Remove the CWD from sys.path while we load stuff.\n"
     ]
    },
    {
     "name": "stdout",
     "output_type": "stream",
     "text": [
      "(487350, 14)\n",
      "(162650, 14)\n",
      "(487350, 665)\n",
      "(162650, 665)\n"
     ]
    }
   ],
   "source": [
    "features = ['Carrier','Quarter','Month','DayOfWeek','DistanceGroup','CRSElapsedTime'\n",
    "            ,'Origin','Dest','FlightNum'\n",
    "           ,'Distance','CRSDepTime','weekend_flag'\n",
    "#             ,'sin_CRSDepTime'\n",
    "            ,'disruption_flag']\n",
    "\n",
    "flight_subset_features = flight_subset[features]\n",
    "\n",
    "random.seed(9999)\n",
    "flight_subset_features['random'] = [random.random() for i in range(len(flight_subset))]\n",
    "\n",
    "flight_subset_features_impute = DataFrameImputer().fit_transform(flight_subset_features)\n",
    "\n",
    "flight_train = flight_subset_features_impute.loc[flight_subset_features_impute['random'] < .75,:]\n",
    "flight_test = flight_subset_features_impute.loc[flight_subset_features_impute['random'] >= .75,:]\n",
    "print(flight_train.shape)\n",
    "print(flight_test.shape)\n",
    "\n",
    "# flight_train_impute = DataFrameImputer().fit_transform(flight_train)\n",
    "# flight_test_impute = DataFrameImputer().fit_transform(flight_test)\n",
    "\n",
    "train_features = pd.get_dummies(flight_train)\n",
    "\n",
    "test_features = pd.get_dummies(flight_test)\n",
    "train_features = train_features[test_features.columns]\n",
    "\n",
    "train_target = train_features['disruption_flag']\n",
    "\n",
    "test_target = test_features['disruption_flag']\n",
    "\n",
    "train_features = train_features.drop(['disruption_flag','random'],axis=1)\n",
    "\n",
    "test_features = test_features.drop(['disruption_flag','random'],axis=1)\n",
    "\n",
    "print(train_features.shape)\n",
    "print(test_features.shape)\n"
   ]
  },
  {
   "cell_type": "markdown",
   "metadata": {},
   "source": [
    "#### Build simple linear or tree-based model:"
   ]
  },
  {
   "cell_type": "code",
   "execution_count": 15,
   "metadata": {},
   "outputs": [
    {
     "name": "stdout",
     "output_type": "stream",
     "text": [
      "44.1 s ± 2.24 s per loop (mean ± std. dev. of 7 runs, 1 loop each)\n"
     ]
    }
   ],
   "source": [
    "# RF: using default parameters to save time, could run grid search normally\n",
    "\n",
    "# model = sklearn.ensemble.GradientBoostingClassifier()\n",
    "# model = sklearn.ensemble.RandomForestClassifier()\n",
    "model = sklearn.ensemble.RandomForestClassifier(bootstrap=True, class_weight=None, criterion='gini',\n",
    "            max_depth=None, max_features='auto', max_leaf_nodes=None,\n",
    "            min_impurity_decrease=0.0, min_impurity_split=None,\n",
    "            min_samples_leaf=10, min_samples_split=2,\n",
    "            min_weight_fraction_leaf=0.0, n_estimators=10, n_jobs=None,\n",
    "            oob_score=False, random_state=None, verbose=0,\n",
    "            warm_start=False)\n",
    "# model = sklearn.ensemble.LinearRegression()\n",
    "\n",
    "%timeit model.fit(train_features,train_target)"
   ]
  },
  {
   "cell_type": "markdown",
   "metadata": {},
   "source": [
    "#### ROC AUC - Classification / Logit Score:"
   ]
  },
  {
   "cell_type": "code",
   "execution_count": 16,
   "metadata": {},
   "outputs": [
    {
     "name": "stdout",
     "output_type": "stream",
     "text": [
      "ROC AUC: 0.7835\n"
     ]
    }
   ],
   "source": [
    "# 79.3% AUC Test\n",
    "test_predict = model.predict(test_features)\n",
    "test_predict_proba = model.predict_proba(test_features)\n",
    "test_predict_probs = pd.Series(test_predict_proba[:,1])\n",
    "false_positive_rate, true_positive_rate, thresholds = roc_curve(test_target, test_predict_probs)\n",
    "\n",
    "\n",
    "# 88.0% AUC Train\n",
    "# train_predict = model.predict(train_features)\n",
    "# %timeit train_predict_proba = model.predict(train_features)\n",
    "# train_predict_probs = pd.Series(train_predict_proba[:,1])\n",
    "# false_positive_rate, true_positive_rate, thresholds = roc_curve(train_target, train_predict_probs)\n",
    "\n",
    "roc_auc = round(auc(false_positive_rate, true_positive_rate),4)\n",
    "print(\"ROC AUC:\",roc_auc)"
   ]
  },
  {
   "cell_type": "markdown",
   "metadata": {},
   "source": [
    "#### Explore scored probabilities:"
   ]
  },
  {
   "cell_type": "code",
   "execution_count": 17,
   "metadata": {},
   "outputs": [
    {
     "name": "stdout",
     "output_type": "stream",
     "text": [
      "162650 0\n",
      "(162650, 14)\n"
     ]
    }
   ],
   "source": [
    "# print(pd.DataFrame(test_predict_proba).sample(30))\n",
    "print(len(test_predict_probs),test_predict_probs.isna().sum())\n",
    "print(flight_test.shape)\n",
    "\n",
    "# test_predict_probs.to_csv(r\"sample_preds.csv\")\n",
    "# flight_test.to_csv(r\"flight_test.csv\")"
   ]
  },
  {
   "cell_type": "markdown",
   "metadata": {},
   "source": [
    "#### Lift curves and mean:\n",
    "\n",
    "Commented out lift curve in favor of predicted probability curve."
   ]
  },
  {
   "cell_type": "code",
   "execution_count": 18,
   "metadata": {},
   "outputs": [
    {
     "data": {
      "text/plain": [
       "array([[0.99514581, 0.00485419],\n",
       "       [0.98897617, 0.01102383],\n",
       "       [0.98610337, 0.01389663],\n",
       "       [0.95758765, 0.04241235],\n",
       "       [0.99613001, 0.00386999],\n",
       "       [0.97593131, 0.02406869],\n",
       "       [0.98463894, 0.01536106],\n",
       "       [0.96325397, 0.03674603],\n",
       "       [0.9808494 , 0.0191506 ],\n",
       "       [0.97492917, 0.02507083]])"
      ]
     },
     "execution_count": 18,
     "metadata": {},
     "output_type": "execute_result"
    }
   ],
   "source": [
    "# test_target.dtype\n",
    "test_predict_proba.dtype\n",
    "test_predict_proba[0:10]"
   ]
  },
  {
   "cell_type": "code",
   "execution_count": 19,
   "metadata": {},
   "outputs": [
    {
     "name": "stdout",
     "output_type": "stream",
     "text": [
      "Distribution of Probabilities:\n"
     ]
    },
    {
     "data": {
      "image/png": "[encoded data removed]",
      "text/plain": [
       "<Figure size 432x288 with 1 Axes>"
      ]
     },
     "metadata": {
      "needs_background": "light"
     },
     "output_type": "display_data"
    },
    {
     "name": "stdout",
     "output_type": "stream",
     "text": [
      "Mean check: 0.0263 \n",
      "\n",
      "0    0.002426\n",
      "1    0.005268\n",
      "2    0.007926\n",
      "3    0.010868\n",
      "4    0.014449\n",
      "5    0.018976\n",
      "6    0.024985\n",
      "7    0.033724\n",
      "8    0.048769\n",
      "9    0.095883\n",
      "dtype: float64\n",
      "disruption_flag\n",
      "0    0.00000\n",
      "1    0.00000\n",
      "2    0.00000\n",
      "3    0.00000\n",
      "4    0.00000\n",
      "5    0.00000\n",
      "6    0.00000\n",
      "7    0.00000\n",
      "8    0.00000\n",
      "9    0.26265\n",
      "Name: disruption_flag, dtype: float64\n"
     ]
    },
    {
     "data": {
      "image/png": "[encoded data removed]",
      "text/plain": [
       "<Figure size 432x288 with 1 Axes>"
      ]
     },
     "metadata": {
      "needs_background": "light"
     },
     "output_type": "display_data"
    }
   ],
   "source": [
    "# test_predict_probs = test_predict_proba[:,1]\n",
    "# print(test_predict_probs)\n",
    "# test_predict_probs.type\n",
    "# curve = pd.DataFrame(test_predict_probs).sort_values(by=[0],axis=1,ascending=False)\n",
    "curve = np.sort(test_predict_probs)\n",
    "plt.plot(curve)\n",
    "print(\"Distribution of Probabilities:\")\n",
    "plt.show()\n",
    "\n",
    "print(\"Mean check:\",round(test_predict_probs.mean(),4),'\\n')\n",
    "\n",
    "\n",
    "\n",
    "def LiftCurve(actual, predicted, bins):\n",
    "    actual_ranks = pd.qcut(actual.rank(method='first'),bins,labels=False)\n",
    "    pred_ranks = pd.qcut(predicted.rank(method='first'),bins,labels=False)\n",
    "    actual_percentiles = actual.groupby(actual_ranks).mean()\n",
    "    pred_percentiles = predicted.groupby(pred_ranks).mean()\n",
    "    \n",
    "    plt.title('Lift Chart')\n",
    "    plt.plot(pred_percentiles,color='darkorange')\n",
    "    plt.plot(actual_percentiles,color='navy')\n",
    "    plt.ylabel('Target Percentile')\n",
    "    plt.xlabel('Buckets')\n",
    "    plt.legend(loc='best') \n",
    "    \n",
    "    print(pred_percentiles)\n",
    "    print(actual_percentiles)\n",
    "    \n",
    "LiftCurve(test_target,test_predict_probs,10)\n",
    "# extremely polarized, lift curve doesn't offer much"
   ]
  },
  {
   "cell_type": "markdown",
   "metadata": {},
   "source": [
    "#### Assess feature importance:\n",
    " AirTime creates leakage, must be lagging indicator. \n",
    "I checked and it has blanks for cancellations, try CRSEstimatedTime."
   ]
  },
  {
   "cell_type": "code",
   "execution_count": 20,
   "metadata": {},
   "outputs": [
    {
     "name": "stdout",
     "output_type": "stream",
     "text": [
      "                Importance\n",
      "DayOfWeek           0.1132\n",
      "FlightNum           0.0792\n",
      "Month               0.0774\n",
      "CRSDepTime          0.0737\n",
      "Quarter             0.0621\n",
      "CRSElapsedTime      0.0567\n",
      "Carrier_MQ          0.0475\n",
      "Distance            0.0452\n",
      "Dest_LGA            0.0210\n",
      "weekend_flag        0.0191\n",
      "DistanceGroup       0.0176\n",
      "Origin_LGA          0.0169\n",
      "Origin_BOS          0.0164\n",
      "Dest_BOS            0.0139\n",
      "Dest_DFW            0.0118\n",
      "Dest_ORD            0.0094\n",
      "Carrier_B6          0.0093\n",
      "Origin_ORD          0.0089\n",
      "Dest_EWR            0.0082\n",
      "Carrier_EV          0.0082\n"
     ]
    },
    {
     "data": {
      "image/png": "[encoded data removed]",
      "text/plain": [
       "<Figure size 864x432 with 1 Axes>"
      ]
     },
     "metadata": {
      "needs_background": "light"
     },
     "output_type": "display_data"
    }
   ],
   "source": [
    "feature_importances = model.feature_importances_\n",
    "importance_table = pd.DataFrame(feature_importances, index=train_features.columns, \n",
    "                          columns=[\"Importance\"]).sort_values(by=['Importance'],ascending=False)\n",
    "importance_table['Importance'] = round(importance_table['Importance'],4)\n",
    "print(importance_table.head(20))\n",
    "\n",
    "# ***visualize top 10 or more predictors\n",
    "x_bar = set(importance_table.index[0:10])\n",
    "y_bar = importance_table['Importance'][0:10]\n",
    "ind = [x for x, _ in enumerate(x_bar)]\n",
    "plt.rcParams['figure.figsize'] = [12, 6]\n",
    "\n",
    "plt.bar(ind,y_bar)\n",
    "plt.xticks(ind,x_bar)\n",
    "plt.show()"
   ]
  },
  {
   "cell_type": "markdown",
   "metadata": {},
   "source": [
    "<br/>\n",
    "\n",
    "## III. MODEL PRICING SCHEME\n",
    "Perfectly fluid pricing would be best for best price discrimination,\n",
    "but I suggest 3 simple tiers, or more, because they're more interpretable.\n",
    "Rank-order airline risk of disruption and select thresholds.\n",
    "If the features of scored flights follow the same distributions as the training set \n",
    "then the thresholds should uphold the same accuracy as the training set.\n",
    "\n",
    "(skip for now) consider weighing by number of passengers?\n",
    "\n",
    "#### Score each dataset and output scored probabilities:\n",
    "  if between 0 and a then Price I; <br/>\n",
    "  if between a and b then Price II; <br/>\n",
    "  if between b and 1 then Price III. <br/>\n",
    "\n",
    "#### Selecting the Number of Tiers: \n",
    "   Tradeoff between complexity (for insured and customers) and price-risk discrimination\n",
    "\n",
    "#### Selecting the Thresholds that Divide Tiers:\n",
    "   Tradeoff between revenue from tiers (e.g., price of 9 dollars vs. 19 vs. 29) and profit.\n"
   ]
  },
  {
   "cell_type": "code",
   "execution_count": 21,
   "metadata": {},
   "outputs": [
    {
     "name": "stderr",
     "output_type": "stream",
     "text": [
      "/Users/Tanner/anaconda3/lib/python3.7/site-packages/ipykernel_launcher.py:16: SettingWithCopyWarning: \n",
      "A value is trying to be set on a copy of a slice from a DataFrame.\n",
      "Try using .loc[row_indexer,col_indexer] = value instead\n",
      "\n",
      "See the caveats in the documentation: http://pandas.pydata.org/pandas-docs/stable/indexing.html#indexing-view-versus-copy\n",
      "  app.launch_new_instance()\n",
      "/Users/Tanner/anaconda3/lib/python3.7/site-packages/ipykernel_launcher.py:17: SettingWithCopyWarning: \n",
      "A value is trying to be set on a copy of a slice from a DataFrame.\n",
      "Try using .loc[row_indexer,col_indexer] = value instead\n",
      "\n",
      "See the caveats in the documentation: http://pandas.pydata.org/pandas-docs/stable/indexing.html#indexing-view-versus-copy\n"
     ]
    },
    {
     "name": "stdout",
     "output_type": "stream",
     "text": [
      "Group 3 (Highest Risk)    66896\n",
      "Group 1 (Lowest Risk)     50090\n",
      "Group 2 (Medium Risk)     38468\n",
      "Missing                    7196\n",
      "Name: Pricing Tiers, dtype: int64 \n",
      "\n",
      "Group 3 (Highest Risk)    0.411288\n",
      "Group 1 (Lowest Risk)     0.307962\n",
      "Group 2 (Medium Risk)     0.236508\n",
      "Missing                   0.044242\n",
      "Name: Pricing Tiers, dtype: float64 \n",
      "\n",
      "Sum Missing Tiers: 7196\n"
     ]
    },
    {
     "data": {
      "text/plain": [
       "<matplotlib.axes._subplots.AxesSubplot at 0x1a1c2f5f28>"
      ]
     },
     "execution_count": 21,
     "metadata": {},
     "output_type": "execute_result"
    },
    {
     "data": {
      "image/png": "[encoded data removed]",
      "text/plain": [
       "<Figure size 864x432 with 1 Axes>"
      ]
     },
     "metadata": {
      "needs_background": "light"
     },
     "output_type": "display_data"
    }
   ],
   "source": [
    "def tiers(x):\n",
    "    if x >= 0.02:\n",
    "        return 'Group 3 (Highest Risk)'\n",
    "    elif x >= 0.01:\n",
    "        return 'Group 2 (Medium Risk)'\n",
    "    elif x >= 0 :\n",
    "        return 'Group 1 (Lowest Risk)'\n",
    "#     elif x >= 0 :\n",
    "#         return '*could add more tiers here and change thresholds*'\n",
    "    else:\n",
    "        return 'Missing'\n",
    "    \n",
    "# flight_test = flight_test.drop(['Pricing Tiers'],axis=1)\n",
    "# flight_test = flight_test.reset_index()\n",
    "    \n",
    "flight_test['test_predict_probs'] = test_predict_probs\n",
    "flight_test['Pricing Tiers'] = flight_test['test_predict_probs'].apply(tiers)\n",
    "# flight_test['Pricing Tiers'] = test_predict_probs.iloc[:,0].apply(tiers)\n",
    "\n",
    "print(flight_test['Pricing Tiers'].value_counts(),'\\n')\n",
    "print(flight_test['Pricing Tiers'].value_counts(normalize=True),'\\n')\n",
    "print(\"Sum Missing Tiers:\",flight_test['Pricing Tiers'].isna().sum() \n",
    "      + len(flight_test[flight_test['Pricing Tiers']=='Missing']) )\n",
    "\n",
    "# ***visualize normalized risk probabilities\n",
    "flight_test.boxplot(column='test_predict_probs',by='Pricing Tiers')"
   ]
  },
  {
   "cell_type": "markdown",
   "metadata": {},
   "source": [
    "### Create price assumptions and check tiers on holdout sample:"
   ]
  },
  {
   "cell_type": "code",
   "execution_count": 22,
   "metadata": {},
   "outputs": [
    {
     "name": "stderr",
     "output_type": "stream",
     "text": [
      "/Users/Tanner/anaconda3/lib/python3.7/site-packages/ipykernel_launcher.py:4: SettingWithCopyWarning: \n",
      "A value is trying to be set on a copy of a slice from a DataFrame.\n",
      "Try using .loc[row_indexer,col_indexer] = value instead\n",
      "\n",
      "See the caveats in the documentation: http://pandas.pydata.org/pandas-docs/stable/indexing.html#indexing-view-versus-copy\n",
      "  after removing the cwd from sys.path.\n",
      "/Users/Tanner/anaconda3/lib/python3.7/site-packages/ipykernel_launcher.py:5: SettingWithCopyWarning: \n",
      "A value is trying to be set on a copy of a slice from a DataFrame.\n",
      "Try using .loc[row_indexer,col_indexer] = value instead\n",
      "\n",
      "See the caveats in the documentation: http://pandas.pydata.org/pandas-docs/stable/indexing.html#indexing-view-versus-copy\n",
      "  \"\"\"\n",
      "/Users/Tanner/anaconda3/lib/python3.7/site-packages/ipykernel_launcher.py:6: SettingWithCopyWarning: \n",
      "A value is trying to be set on a copy of a slice from a DataFrame.\n",
      "Try using .loc[row_indexer,col_indexer] = value instead\n",
      "\n",
      "See the caveats in the documentation: http://pandas.pydata.org/pandas-docs/stable/indexing.html#indexing-view-versus-copy\n",
      "  \n"
     ]
    },
    {
     "name": "stdout",
     "output_type": "stream",
     "text": [
      "Count of Disruptions per Tier: \n",
      " Pricing Tiers\n",
      "Group 1 (Lowest Risk)     1331.0\n",
      "Group 2 (Medium Risk)     1045.0\n",
      "Group 3 (Highest Risk)    1773.0\n",
      "Missing                    123.0\n",
      "Name: disruption_flag, dtype: float64 \n",
      "\n",
      "Revenue per Tier: \n",
      " Pricing Tiers\n",
      "Group 1 (Lowest Risk)      951710\n",
      "Group 2 (Medium Risk)      730892\n",
      "Group 3 (Highest Risk)    1271024\n",
      "Missing                    136724\n",
      "Name: flight_revenue, dtype: int64 \n",
      "\n",
      "Cost of Disruptions per Tier: \n",
      " Pricing Tiers\n",
      "Group 1 (Lowest Risk)     665500.0\n",
      "Group 2 (Medium Risk)     522500.0\n",
      "Group 3 (Highest Risk)    886500.0\n",
      "Missing                    61500.0\n",
      "Name: disruption_cost, dtype: float64 \n",
      "\n",
      "Profit per Tier: \n",
      " Pricing Tiers\n",
      "Group 1 (Lowest Risk)     286210.0\n",
      "Group 2 (Medium Risk)     208392.0\n",
      "Group 3 (Highest Risk)    384524.0\n",
      "Missing                    75224.0\n",
      "Name: flight_revenue_minus_disruption_cost, dtype: float64 \n",
      "\n",
      "Total Profit: 954350.0 \n",
      "\n"
     ]
    },
    {
     "data": {
      "image/png": "[encoded data removed]",
      "text/plain": [
       "<Figure size 864x432 with 1 Axes>"
      ]
     },
     "metadata": {
      "needs_background": "light"
     },
     "output_type": "display_data"
    }
   ],
   "source": [
    "flight_cost = 500\n",
    "flight_revenue = 19\n",
    "\n",
    "flight_test['flight_revenue'] = flight_revenue\n",
    "flight_test['disruption_cost'] =  flight_test['disruption_flag'] * flight_cost\n",
    "flight_test['flight_revenue_minus_disruption_cost'] = flight_test['flight_revenue'] - flight_test['disruption_cost']\n",
    "\n",
    "print(\"Count of Disruptions per Tier:\",'\\n',flight_test.groupby(['Pricing Tiers'])['disruption_flag'].sum(),'\\n')\n",
    "print(\"Revenue per Tier:\",'\\n',flight_test.groupby(['Pricing Tiers'])['flight_revenue'].sum(),'\\n')\n",
    "print(\"Cost of Disruptions per Tier:\",'\\n',flight_test.groupby(['Pricing Tiers'])['disruption_cost'].sum(),'\\n')\n",
    "print(\"Profit per Tier:\",'\\n',flight_test.groupby(['Pricing Tiers'])['flight_revenue_minus_disruption_cost'].sum(),'\\n')\n",
    "# plt.plot(flight_test.groupby(['Pricing Tiers'])['flight_revenue_minus_disruption_cost'].sum()\n",
    "\n",
    "\n",
    "x_bar = set(flight_test['Pricing Tiers'])\n",
    "y_bar = flight_test.groupby(['Pricing Tiers'])['flight_revenue_minus_disruption_cost'].sum()\n",
    "ind = [x for x, _ in enumerate(x_bar)]\n",
    "\n",
    "plt.bar(ind,y_bar)\n",
    "plt.xticks(ind,x_bar)\n",
    "\n",
    "print(\"Total Profit:\",flight_test['flight_revenue_minus_disruption_cost'].sum(),'\\n')"
   ]
  },
  {
   "cell_type": "markdown",
   "metadata": {},
   "source": [
    "<br/>\n",
    "\n",
    "## IV. ESTIMATE OF DISTRIBUTION OF POTENTIAL PROFITS OR LOSSES\n",
    " We can use bootstrapping, MCMC, confidence intervals, or bayesian to create distributions."
   ]
  },
  {
   "cell_type": "markdown",
   "metadata": {},
   "source": [
    "#### Run bootstrap and report results for 10,000 simulations:\n",
    " Sum total marginal expected profit per flight scored, and then run bootstrap on that."
   ]
  },
  {
   "cell_type": "code",
   "execution_count": 23,
   "metadata": {},
   "outputs": [
    {
     "name": "stdout",
     "output_type": "stream",
     "text": [
      "Predicted Disruption Probability Scenarios: \n",
      " 1%: 0.0261  5%: 0.0262  50%: 0.0264  95%: 0.0265  99%: 0.0266 \n",
      "\n",
      "Predicted Return Scenarios: \n",
      " 1%: 847350.0 5%: 878350.0 50%: 955350.0 95%: 1030350.0 99%: 1061350.0 \n",
      "\n",
      "Total time: 273.5124 seconds\n"
     ]
    }
   ],
   "source": [
    "start = timeit.default_timer()\n",
    "\n",
    "return_mean = pd.DataFrame()\n",
    "prob_mean = pd.DataFrame()\n",
    "\n",
    "for i in range(1,10000):\n",
    "    fraction = 0.5\n",
    "    n=round(len(flight_test)*fraction)\n",
    "    boot = resample(flight_test, replace=True, n_samples=n, random_state=i)\n",
    "\n",
    "    boot_prob = pd.Series(boot['test_predict_probs'].mean())\n",
    "    boot_return = pd.Series(boot['flight_revenue_minus_disruption_cost'].sum()/fraction)\n",
    "\n",
    "    prob_mean = prob_mean.append(boot_prob,ignore_index=True)\n",
    "    return_mean = return_mean.append(boot_return,ignore_index=True)\n",
    "\n",
    "    predict_pctl_1 = round(np.percentile(prob_mean,1),4)\n",
    "    predict_pctl_5 = round(np.percentile(prob_mean,5),4)\n",
    "    predict_pctl_50 = round(np.percentile(prob_mean,50),4)\n",
    "    predict_pctl_95 = round(np.percentile(prob_mean,95),4)\n",
    "    predict_pctl_99 = round(np.percentile(prob_mean,99),4)\n",
    "\n",
    "    returns_pctl_1 = round(np.percentile(return_mean,1),4)\n",
    "    returns_pctl_5 = round(np.percentile(return_mean,5),4)\n",
    "    returns_pctl_50 = round(np.percentile(return_mean,50),4)\n",
    "    returns_pctl_95 = round(np.percentile(return_mean,95),4)\n",
    "    returns_pctl_99 = round(np.percentile(return_mean,99),4)\n",
    "\n",
    "print(\"Predicted Disruption Probability Scenarios:\",'\\n',\"1%:\",predict_pctl_1,\" 5%:\",predict_pctl_5\n",
    "      ,\" 50%:\",predict_pctl_50,\" 95%:\",predict_pctl_95,\" 99%:\",predict_pctl_99,'\\n')\n",
    "print(\"Predicted Return Scenarios:\",'\\n',\"1%:\",returns_pctl_1,\"5%:\",returns_pctl_5\n",
    "      ,\"50%:\",returns_pctl_50,\"95%:\",returns_pctl_95,\"99%:\",returns_pctl_99,'\\n')\n",
    "\n",
    "end = timeit.default_timer()\n",
    "print(\"Total time:\",round(end - start,4), \"seconds\")"
   ]
  },
  {
   "cell_type": "code",
   "execution_count": 24,
   "metadata": {},
   "outputs": [
    {
     "data": {
      "image/png": "[encoded data removed]",
      "text/plain": [
       "<Figure size 864x432 with 1 Axes>"
      ]
     },
     "metadata": {
      "needs_background": "light"
     },
     "output_type": "display_data"
    },
    {
     "data": {
      "image/png": "[encoded data removed]",
      "text/plain": [
       "<Figure size 864x432 with 1 Axes>"
      ]
     },
     "metadata": {
      "needs_background": "light"
     },
     "output_type": "display_data"
    }
   ],
   "source": [
    "prob_mean.boxplot()\n",
    "plt.show()\n",
    "return_mean.boxplot()\n",
    "plt.show()"
   ]
  },
  {
   "cell_type": "markdown",
   "metadata": {},
   "source": [
    "<br/>\n",
    "\n",
    "## V. SCORE HYPOTHETICAL DATASET\n",
    "\n",
    "#### Found in hypothetical data? (and BTS data)\n",
    "carrier - yes <br/>\n",
    "origin - yes <br/>\n",
    "dest - yes <br/>\n",
    "flightnum - yes <br/>\n",
    "year - yes <br/>\n",
    "quarter - yes <br/>\n",
    "month - yes <br/>\n",
    "dayofweek - yes (need to derive) <br/>\n",
    "dayofmonth - yes (need to derive) <br/>\n",
    "CRSDepTime - yes (need to derive) <br/>\n",
    "week of year - yes, if time (need to derive) <br/>\n",
    "<br/>\n",
    "distance - yes (need to derive) <br/>\n",
    "distancegroup - yes (need to derive) <br/>\n",
    "CRSelapsed - yes (need to derive) <br/>\n",
    "<br/>\n",
    "Don't need: <br/>\n",
    "airtime - can't use, need CRSelapsed time between airports (need to derive) <br/>\n",
    "actualelapsedtime - unneeded (lagging indicator) <br/>\n",
    "deptime - yes <br/>\n",
    "<br/>\n",
    "Don't need direct vs. non-direct flag because BTS is only single-leg flights. <br/>\n",
    "Distance should have one single value for each two airports. <br/>"
   ]
  },
  {
   "cell_type": "markdown",
   "metadata": {},
   "source": [
    "#### Import hypothetical data:"
   ]
  },
  {
   "cell_type": "code",
   "execution_count": 25,
   "metadata": {},
   "outputs": [],
   "source": [
    "hypo = pd.read_csv(r\"cancellations/hypothetical flight data.csv\")"
   ]
  },
  {
   "cell_type": "code",
   "execution_count": 26,
   "metadata": {},
   "outputs": [
    {
     "data": {
      "text/plain": [
       "0    0\n",
       "1    1\n",
       "2    0\n",
       "3    1\n",
       "4    0\n",
       "Name: weekend_flag, dtype: int64"
      ]
     },
     "execution_count": 26,
     "metadata": {},
     "output_type": "execute_result"
    }
   ],
   "source": [
    "# hypo.head()\n",
    "departure_date = hypo['departure_date'].apply(lambda x: datetime.strptime(x,'%m/%d/%y'))\n",
    "hypo['Quarter'] = departure_date.dt.quarter\n",
    "hypo['Month'] = departure_date.dt.month\n",
    "hypo['Week'] = departure_date.dt.week\n",
    "Weekday_0 = departure_date.dt.weekday\n",
    "hypo['DayOfWeek'] = Weekday_0 + 1\n",
    "hypo['DayofMonth'] = departure_date.apply(lambda x: datetime.strftime(x,'%d'))\n",
    "\n",
    "# ADD WEEKEND FLAG\n",
    "def weekend(x):\n",
    "    if x >= 6:\n",
    "        return 1\n",
    "    else: \n",
    "        return 0\n",
    "    \n",
    "hypo['weekend_flag'] = hypo['DayOfWeek'].apply(weekend)\n",
    "hypo['weekend_flag'].head()"
   ]
  },
  {
   "cell_type": "markdown",
   "metadata": {},
   "source": [
    "#### Calculate distance tables between all airport pairs:\n",
    "Using mean as aggregation but only one value sohuld be returned for each pair."
   ]
  },
  {
   "cell_type": "code",
   "execution_count": 27,
   "metadata": {},
   "outputs": [
    {
     "name": "stdout",
     "output_type": "stream",
     "text": [
      "Hypo Shape: (2589, 13)\n"
     ]
    }
   ],
   "source": [
    "distance_table = pd.DataFrame(flight_data.groupby(['Origin','Dest'])['Distance'].mean().round())\n",
    "distance_group = pd.DataFrame(flight_data.groupby(['Origin','Dest'])['DistanceGroup'].mean().round())\n",
    "elapsed_table = pd.DataFrame(flight_data.groupby(['Origin','Dest'])['CRSElapsedTime'].mean().round())\n",
    "\n",
    "print(\"Hypo Shape:\",hypo.shape)\n",
    "hypo_join1 = pd.merge(hypo,distance_table,how='left',on=['Origin','Dest'])\n",
    "# hypo_join1.head()\n",
    "hypo_join2 = pd.merge(hypo_join1,distance_group,how='left',on=['Origin','Dest'])\n",
    "# hypo_join2.head()\n",
    "hypo_join3 = pd.merge(hypo_join2,elapsed_table,how='left',on=['Origin','Dest'])\n",
    "hypo_join3.head()\n",
    "\n",
    "hypo_final = hypo_join3\n",
    "\n",
    "# print(\"Hypo_join2 Shape:\",hypo_join2.shape)"
   ]
  },
  {
   "cell_type": "markdown",
   "metadata": {},
   "source": [
    "#### Convert departure time into datetime format:"
   ]
  },
  {
   "cell_type": "code",
   "execution_count": 28,
   "metadata": {},
   "outputs": [
    {
     "name": "stdout",
     "output_type": "stream",
     "text": [
      "0   1900-01-01 06:00:00\n",
      "1   1900-01-01 10:15:00\n",
      "2   1900-01-01 06:30:00\n",
      "3   1900-01-01 18:15:00\n",
      "4   1900-01-01 07:02:00\n",
      "Name: departure_time, dtype: datetime64[ns]\n"
     ]
    },
    {
     "data": {
      "text/html": [
       "<div>\n",
       "<style scoped>\n",
       "    .dataframe tbody tr th:only-of-type {\n",
       "        vertical-align: middle;\n",
       "    }\n",
       "\n",
       "    .dataframe tbody tr th {\n",
       "        vertical-align: top;\n",
       "    }\n",
       "\n",
       "    .dataframe thead th {\n",
       "        text-align: right;\n",
       "    }\n",
       "</style>\n",
       "<table border=\"1\" class=\"dataframe\">\n",
       "  <thead>\n",
       "    <tr style=\"text-align: right;\">\n",
       "      <th></th>\n",
       "      <th>departure_date</th>\n",
       "      <th>departure_time</th>\n",
       "      <th>Origin</th>\n",
       "      <th>Dest</th>\n",
       "      <th>Carrier</th>\n",
       "      <th>FlightNum</th>\n",
       "      <th>passenger_id</th>\n",
       "      <th>Quarter</th>\n",
       "      <th>Month</th>\n",
       "      <th>Week</th>\n",
       "      <th>DayOfWeek</th>\n",
       "      <th>DayofMonth</th>\n",
       "      <th>weekend_flag</th>\n",
       "      <th>Distance</th>\n",
       "      <th>DistanceGroup</th>\n",
       "      <th>CRSElapsedTime</th>\n",
       "      <th>CRSDepTime</th>\n",
       "      <th>sin_CRSDepTime</th>\n",
       "      <th>disruption_flag</th>\n",
       "    </tr>\n",
       "  </thead>\n",
       "  <tbody>\n",
       "    <tr>\n",
       "      <th>0</th>\n",
       "      <td>8/19/16</td>\n",
       "      <td>6:00:00</td>\n",
       "      <td>CMH</td>\n",
       "      <td>BOS</td>\n",
       "      <td>WN</td>\n",
       "      <td>642</td>\n",
       "      <td>0</td>\n",
       "      <td>3</td>\n",
       "      <td>8</td>\n",
       "      <td>33</td>\n",
       "      <td>5</td>\n",
       "      <td>19</td>\n",
       "      <td>0</td>\n",
       "      <td>640.0</td>\n",
       "      <td>3.0</td>\n",
       "      <td>115.0</td>\n",
       "      <td>0</td>\n",
       "      <td>0.000000</td>\n",
       "      <td>0</td>\n",
       "    </tr>\n",
       "    <tr>\n",
       "      <th>1</th>\n",
       "      <td>12/12/15</td>\n",
       "      <td>10:15:00</td>\n",
       "      <td>SAN</td>\n",
       "      <td>DEN</td>\n",
       "      <td>WN</td>\n",
       "      <td>869</td>\n",
       "      <td>1</td>\n",
       "      <td>4</td>\n",
       "      <td>12</td>\n",
       "      <td>50</td>\n",
       "      <td>6</td>\n",
       "      <td>12</td>\n",
       "      <td>1</td>\n",
       "      <td>853.0</td>\n",
       "      <td>4.0</td>\n",
       "      <td>140.0</td>\n",
       "      <td>1500</td>\n",
       "      <td>-0.993902</td>\n",
       "      <td>0</td>\n",
       "    </tr>\n",
       "    <tr>\n",
       "      <th>2</th>\n",
       "      <td>3/24/16</td>\n",
       "      <td>6:30:00</td>\n",
       "      <td>BIL</td>\n",
       "      <td>SLC</td>\n",
       "      <td>DL</td>\n",
       "      <td>1635</td>\n",
       "      <td>2</td>\n",
       "      <td>1</td>\n",
       "      <td>3</td>\n",
       "      <td>12</td>\n",
       "      <td>4</td>\n",
       "      <td>24</td>\n",
       "      <td>0</td>\n",
       "      <td>387.0</td>\n",
       "      <td>2.0</td>\n",
       "      <td>83.0</td>\n",
       "      <td>3000</td>\n",
       "      <td>0.219190</td>\n",
       "      <td>0</td>\n",
       "    </tr>\n",
       "    <tr>\n",
       "      <th>3</th>\n",
       "      <td>9/18/16</td>\n",
       "      <td>18:15:00</td>\n",
       "      <td>DLH</td>\n",
       "      <td>ORD</td>\n",
       "      <td>OO</td>\n",
       "      <td>5031</td>\n",
       "      <td>3</td>\n",
       "      <td>3</td>\n",
       "      <td>9</td>\n",
       "      <td>37</td>\n",
       "      <td>7</td>\n",
       "      <td>18</td>\n",
       "      <td>1</td>\n",
       "      <td>397.0</td>\n",
       "      <td>2.0</td>\n",
       "      <td>97.0</td>\n",
       "      <td>1500</td>\n",
       "      <td>-0.993902</td>\n",
       "      <td>0</td>\n",
       "    </tr>\n",
       "    <tr>\n",
       "      <th>4</th>\n",
       "      <td>7/25/16</td>\n",
       "      <td>7:02:00</td>\n",
       "      <td>FLL</td>\n",
       "      <td>LGA</td>\n",
       "      <td>NK</td>\n",
       "      <td>604</td>\n",
       "      <td>4</td>\n",
       "      <td>3</td>\n",
       "      <td>7</td>\n",
       "      <td>30</td>\n",
       "      <td>1</td>\n",
       "      <td>25</td>\n",
       "      <td>0</td>\n",
       "      <td>1076.0</td>\n",
       "      <td>5.0</td>\n",
       "      <td>173.0</td>\n",
       "      <td>200</td>\n",
       "      <td>-0.873297</td>\n",
       "      <td>0</td>\n",
       "    </tr>\n",
       "  </tbody>\n",
       "</table>\n",
       "</div>"
      ],
      "text/plain": [
       "  departure_date departure_time Origin Dest Carrier  FlightNum  passenger_id  \\\n",
       "0        8/19/16        6:00:00    CMH  BOS      WN        642             0   \n",
       "1       12/12/15       10:15:00    SAN  DEN      WN        869             1   \n",
       "2        3/24/16        6:30:00    BIL  SLC      DL       1635             2   \n",
       "3        9/18/16       18:15:00    DLH  ORD      OO       5031             3   \n",
       "4        7/25/16        7:02:00    FLL  LGA      NK        604             4   \n",
       "\n",
       "   Quarter  Month  Week  DayOfWeek DayofMonth  weekend_flag  Distance  \\\n",
       "0        3      8    33          5         19             0     640.0   \n",
       "1        4     12    50          6         12             1     853.0   \n",
       "2        1      3    12          4         24             0     387.0   \n",
       "3        3      9    37          7         18             1     397.0   \n",
       "4        3      7    30          1         25             0    1076.0   \n",
       "\n",
       "   DistanceGroup  CRSElapsedTime  CRSDepTime  sin_CRSDepTime  disruption_flag  \n",
       "0            3.0           115.0           0        0.000000                0  \n",
       "1            4.0           140.0        1500       -0.993902                0  \n",
       "2            2.0            83.0        3000        0.219190                0  \n",
       "3            2.0            97.0        1500       -0.993902                0  \n",
       "4            5.0           173.0         200       -0.873297                0  "
      ]
     },
     "execution_count": 28,
     "metadata": {},
     "output_type": "execute_result"
    }
   ],
   "source": [
    "departure_time = hypo_final['departure_time'].apply(lambda x: datetime.strptime(x,'%H:%M:%S'))\n",
    "print(departure_time.head())\n",
    "\n",
    "hypo_final['CRSDepTime'] = departure_time.dt.strftime('%M%S').astype(np.int64)\n",
    "\n",
    "\n",
    "hypo_final['sin_CRSDepTime'] = hypo_final['CRSDepTime'].apply(lambda x: np.sin(x))\n",
    "hypo_final['sin_CRSDepTime'].sample(10)\n",
    "\n",
    "hypo_final['sin_CRSDepTime'].isnull().sum()\n",
    "hypo_final['disruption_flag'] = 0\n",
    "\n",
    "\n",
    "hypo_final.head()"
   ]
  },
  {
   "cell_type": "markdown",
   "metadata": {},
   "source": [
    "#### Prepare hypothetical data for model scoring:"
   ]
  },
  {
   "cell_type": "code",
   "execution_count": 29,
   "metadata": {},
   "outputs": [
    {
     "name": "stderr",
     "output_type": "stream",
     "text": [
      "/Users/Tanner/anaconda3/lib/python3.7/site-packages/ipykernel_launcher.py:4: FutureWarning: Sorting because non-concatenation axis is not aligned. A future version\n",
      "of pandas will change to not sort by default.\n",
      "\n",
      "To accept the future behavior, pass 'sort=False'.\n",
      "\n",
      "To retain the current behavior and silence the warning, pass 'sort=True'.\n",
      "\n",
      "  after removing the cwd from sys.path.\n"
     ]
    },
    {
     "name": "stdout",
     "output_type": "stream",
     "text": [
      "disruption_flag\n",
      "random\n",
      "Dest_ITH\n",
      "Origin_ITH\n",
      "2589\n",
      "[[0.95975605 0.04024395]\n",
      " [0.98980449 0.01019551]\n",
      " [0.97455006 0.02544994]\n",
      " [0.98009138 0.01990862]\n",
      " [0.96776955 0.03223045]\n",
      " [0.98794529 0.01205471]\n",
      " [0.949529   0.050471  ]\n",
      " [0.97007058 0.02992942]\n",
      " [0.96971561 0.03028439]\n",
      " [0.97304459 0.02695541]]\n"
     ]
    },
    {
     "data": {
      "text/plain": [
       "[<matplotlib.lines.Line2D at 0x1a1f5afbe0>]"
      ]
     },
     "execution_count": 29,
     "metadata": {},
     "output_type": "execute_result"
    },
    {
     "data": {
      "image/png": "[encoded data removed]",
      "text/plain": [
       "<Figure size 864x432 with 1 Axes>"
      ]
     },
     "metadata": {
      "needs_background": "light"
     },
     "output_type": "display_data"
    }
   ],
   "source": [
    "hypo_final_features = hypo_final[features]\n",
    "hypo_final_impute = DataFrameImputer().fit_transform(hypo_final_features)\n",
    "hypo_length = len(hypo_final_impute)\n",
    "hypo_final_concat = pd.concat([hypo_final_impute,flight_train])\n",
    "\n",
    "hypo_dummies = pd.get_dummies(hypo_final_concat)\n",
    "hypo_final_cut = hypo_dummies.iloc[0:hypo_length]\n",
    "\n",
    "remove_cols = pd.Series()\n",
    "for i in hypo_final_cut.columns:\n",
    "    if not {i}.issubset(test_features.columns):\n",
    "        print(i)\n",
    "        j = pd.Series(i)\n",
    "        remove_cols = remove_cols.append(j,ignore_index=True)\n",
    "remove_cols.head()\n",
    "\n",
    "# hypo_final_score = hypo_final_cut.drop(['disruption_flag','random'\n",
    "#                                               ,'Dest_AKN','Origin_AKN','Origin_BGM'\n",
    "#                                               ],axis=1)\n",
    "\n",
    "hypo_final_score = hypo_final_cut.drop(remove_cols,axis=1)\n",
    "\n",
    "\n",
    "hypo_final_cut = hypo_dummies.drop(remove_cols,axis=1)\n",
    "\n",
    "hypo_predict = model.predict_proba(hypo_final_score)\n",
    "print(len(hypo_predict))\n",
    "print(hypo_predict[1000:1010])\n",
    "plt.plot(np.sort(hypo_predict[:,1]))"
   ]
  },
  {
   "cell_type": "markdown",
   "metadata": {},
   "source": [
    "<br/>\n",
    "\n",
    "#### FUNCTION TO OUTPUT NEW PRICES: Set x equal to new dataset"
   ]
  },
  {
   "cell_type": "code",
   "execution_count": 30,
   "metadata": {},
   "outputs": [],
   "source": [
    "def score_hypo(x = hypo_final_score):\n",
    "    global hypo_predict2\n",
    "    data = model.predict_proba(x)\n",
    "    hypo_predict = pd.DataFrame(data)"
   ]
  },
  {
   "cell_type": "markdown",
   "metadata": {},
   "source": [
    "#### Generate new prices and pricing tiers from earlier function:\n",
    "\n",
    "High Risk Price (2% disruption chance or greater): 29 dollars\n",
    "<br/>\n",
    "Medium Risk Price (2% disruption chance or greater): 19 dollars\n",
    "<br/>\n",
    "Low Risk Price (2% disruption chance or greater): 9 dollars\n"
   ]
  },
  {
   "cell_type": "code",
   "execution_count": 31,
   "metadata": {},
   "outputs": [
    {
     "name": "stdout",
     "output_type": "stream",
     "text": [
      "Group 3 (Highest Risk)    1858\n",
      "Group 2 (Medium Risk)      488\n",
      "Group 1 (Lowest Risk)      243\n",
      "Name: Pricing Tiers, dtype: int64 \n",
      "\n",
      "Group 3 (Highest Risk)    0.717652\n",
      "Group 2 (Medium Risk)     0.188490\n",
      "Group 1 (Lowest Risk)     0.093859\n",
      "Name: Pricing Tiers, dtype: float64 \n",
      "\n",
      "Sum Missing Tiers: 0\n"
     ]
    },
    {
     "data": {
      "text/plain": [
       "<matplotlib.axes._subplots.AxesSubplot at 0x1a206c9da0>"
      ]
     },
     "execution_count": 31,
     "metadata": {},
     "output_type": "execute_result"
    },
    {
     "data": {
      "image/png": "[encoded data removed]",
      "text/plain": [
       "<Figure size 864x432 with 1 Axes>"
      ]
     },
     "metadata": {
      "needs_background": "light"
     },
     "output_type": "display_data"
    }
   ],
   "source": [
    "\n",
    "def prices(x):\n",
    "    if x >= 0.02:\n",
    "        return 29\n",
    "    elif x >= 0.01:\n",
    "        return 19\n",
    "    elif x >= 0 :\n",
    "        return 9\n",
    "#     elif x >= 0 :\n",
    "#         return '*could add more tiers here and change thresholds*'\n",
    "    else:\n",
    "        return 'Missing'\n",
    "    \n",
    "hypo_predict_probs = pd.Series(hypo_predict[:,1])\n",
    "hypo['hypo_predict_probs'] = hypo_predict_probs\n",
    "hypo['Pricing Tiers'] = hypo['hypo_predict_probs'].apply(tiers)\n",
    "hypo['Price'] = hypo['hypo_predict_probs'].apply(prices)\n",
    "\n",
    "print(hypo['Pricing Tiers'].value_counts(),'\\n')\n",
    "print(hypo['Pricing Tiers'].value_counts(normalize=True),'\\n')\n",
    "print(\"Sum Missing Tiers:\",hypo['Pricing Tiers'].isna().sum() \n",
    "      + len(hypo[hypo['Pricing Tiers']=='Missing']) )\n",
    "\n",
    "# ***visualize normalized risk probabilities\n",
    "hypo.boxplot(column='hypo_predict_probs',by='Pricing Tiers')"
   ]
  },
  {
   "cell_type": "markdown",
   "metadata": {},
   "source": [
    "<br/>\n",
    "\n",
    "#### Generate Revenue, Predicted Cost, and Predicted Profit by Pricing Tier:"
   ]
  },
  {
   "cell_type": "code",
   "execution_count": 33,
   "metadata": {},
   "outputs": [
    {
     "name": "stdout",
     "output_type": "stream",
     "text": [
      "Count of Disruptions per Tier: \n",
      " Group 3 (Highest Risk)    1858\n",
      "Group 2 (Medium Risk)      488\n",
      "Group 1 (Lowest Risk)      243\n",
      "Name: Pricing Tiers, dtype: int64 \n",
      "\n",
      "Count of Disruptions per Tier: \n",
      " Group 3 (Highest Risk)    0.717652\n",
      "Group 2 (Medium Risk)     0.188490\n",
      "Group 1 (Lowest Risk)     0.093859\n",
      "Name: Pricing Tiers, dtype: float64 \n",
      "\n",
      "Revenue per Tier: \n",
      " Pricing Tiers\n",
      "Group 1 (Lowest Risk)      2187\n",
      "Group 2 (Medium Risk)      9272\n",
      "Group 3 (Highest Risk)    53882\n",
      "Name: flight_revenue, dtype: int64 \n",
      "\n",
      "Predicted Cost of Disruptions per Tier: \n",
      " Pricing Tiers\n",
      "Group 1 (Lowest Risk)       659.569273\n",
      "Group 2 (Medium Risk)      3748.391455\n",
      "Group 3 (Highest Risk)    32975.646944\n",
      "Name: disruption_cost, dtype: float64 \n",
      "\n",
      "Predicted Profit per Tier: \n",
      " Pricing Tiers\n",
      "Group 1 (Lowest Risk)      1527.430727\n",
      "Group 2 (Medium Risk)      5523.608545\n",
      "Group 3 (Highest Risk)    20906.353056\n",
      "Name: flight_revenue_minus_disruption_cost, dtype: float64 \n",
      "\n",
      "Total Revenue: 65341 \n",
      "\n",
      "Predicted Total Cost: 37383.61 \n",
      "\n",
      "Predicted Total Profit: 27957.39 \n",
      "\n"
     ]
    },
    {
     "data": {
      "image/png": "[encoded data removed]",
      "text/plain": [
       "<Figure size 864x432 with 1 Axes>"
      ]
     },
     "metadata": {
      "needs_background": "light"
     },
     "output_type": "display_data"
    }
   ],
   "source": [
    "flight_cost = 500\n",
    "# flight_revenue = 19\n",
    "\n",
    "# hypo['flight_revenue'] = flight_revenue\n",
    "hypo['flight_revenue'] = hypo['Price']\n",
    "hypo['disruption_cost'] =  hypo['hypo_predict_probs'] * flight_cost\n",
    "hypo['flight_revenue_minus_disruption_cost'] = hypo['flight_revenue'] - hypo['disruption_cost']\n",
    "\n",
    "# print(\"Count of Disruptions per Tier:\",'\\n',hypo.groupby(['Pricing Tiers'])['departure_date'].count(),'\\n')\n",
    "print(\"Count of Disruptions per Tier:\",'\\n',hypo['Pricing Tiers'].value_counts(),'\\n')\n",
    "print(\"Count of Disruptions per Tier:\",'\\n',hypo['Pricing Tiers'].value_counts(normalize=True),'\\n')\n",
    "\n",
    "# print(\"Count of Disruptions per Tier:\",'\\n',hypo.groupby(['Pricing Tiers'])['departure_date'].count(),'\\n')\n",
    "\n",
    "print(\"Revenue per Tier:\",'\\n',hypo.groupby(['Pricing Tiers'])['flight_revenue'].sum(),'\\n')\n",
    "print(\"Predicted Cost of Disruptions per Tier:\",'\\n',hypo.groupby(['Pricing Tiers'])['disruption_cost'].sum(),'\\n')\n",
    "print(\"Predicted Profit per Tier:\",'\\n',hypo.groupby(['Pricing Tiers'])['flight_revenue_minus_disruption_cost'].sum(),'\\n')\n",
    "# plt.plot(flight_test.groupby(['Pricing Tiers'])['flight_revenue_minus_disruption_cost'].sum()\n",
    "\n",
    "\n",
    "# x_bar = set(hypo['Pricing Tiers'])\n",
    "x_bar = ['Group 1 (Lowest Risk)','Group 2 (Medium Risk)','Group 3 (Highest Risk)']\n",
    "y_bar = hypo.groupby(['Pricing Tiers'])['flight_revenue_minus_disruption_cost'].sum()\n",
    "ind = [x for x, _ in enumerate(x_bar)]\n",
    "\n",
    "plt.title('Predicted Total Profit by Pricing Tier')\n",
    "plt.bar(ind,y_bar)\n",
    "plt.xticks(ind,x_bar)\n",
    "\n",
    "print(\"Total Revenue:\",round(hypo['flight_revenue'].sum(),2),'\\n')\n",
    "print(\"Predicted Total Cost:\",round(hypo['disruption_cost'].sum(),2),'\\n')\n",
    "print(\"Predicted Total Profit:\",round(hypo['flight_revenue_minus_disruption_cost'].sum(),2),'\\n')"
   ]
  }
 ],
 "metadata": {
  "kernelspec": {
   "display_name": "Python 3",
   "language": "python",
   "name": "python3"
  },
  "language_info": {
   "codemirror_mode": {
    "name": "ipython",
    "version": 3
   },
   "file_extension": ".py",
   "mimetype": "text/x-python",
   "name": "python",
   "nbconvert_exporter": "python",
   "pygments_lexer": "ipython3",
   "version": "3.7.1"
  }
 },
 "nbformat": 4,
 "nbformat_minor": 2
}
