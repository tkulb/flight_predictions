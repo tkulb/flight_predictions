{
 "cells": [
  {
   "cell_type": "code",
   "execution_count": 2,
   "metadata": {},
   "outputs": [],
   "source": [
    "import os \n",
    "import glob\n",
    "import pandas as pd\n",
    "import numpy as np\n",
    "import seaborn as sns\n",
    "import timeit\n",
    "import random\n",
    "import matplotlib.pyplot as plt\n",
    "import datetime\n",
    "from datetime import date\n",
    "from datetime import datetime\n",
    "import time\n",
    "\n",
    "import sklearn\n",
    "from sklearn.linear_model import LinearRegression\n",
    "from sklearn.ensemble import GradientBoostingClassifier\n",
    "from sklearn.ensemble import RandomForestClassifier\n",
    "from sklearn.impute import SimpleImputer\n",
    "from sklearn.metrics import roc_curve, auc\n",
    "from sklearn.base import TransformerMixin\n",
    "from sklearn.utils import resample\n",
    "\n",
    "import warnings\n",
    "# We can ignore warnings only on final run-through to improve legibility.\n",
    "# warnings.filterwarnings('ignore')"
   ]
  },
  {
   "cell_type": "markdown",
   "metadata": {},
   "source": [
    "<br/>\n",
    "\n",
    "## I. READ DATA & PROFILE\n",
    "Bring in a relevant representative sample \n",
    "knowing we can always add more data to improve model + analytics."
   ]
  },
  {
   "cell_type": "code",
   "execution_count": 3,
   "metadata": {},
   "outputs": [
    {
     "name": "stderr",
     "output_type": "stream",
     "text": [
      "/Users/Tanner/anaconda3/lib/python3.7/site-packages/IPython/core/interactiveshell.py:3020: DtypeWarning: Columns (77,84,85) have mixed types. Specify dtype option on import or set low_memory=False.\n",
      "  interactivity=interactivity, compiler=compiler, result=result)\n",
      "/Users/Tanner/anaconda3/lib/python3.7/site-packages/IPython/core/interactiveshell.py:3020: DtypeWarning: Columns (77,84) have mixed types. Specify dtype option on import or set low_memory=False.\n",
      "  interactivity=interactivity, compiler=compiler, result=result)\n",
      "/Users/Tanner/anaconda3/lib/python3.7/site-packages/IPython/core/interactiveshell.py:3020: DtypeWarning: Columns (48,77,84) have mixed types. Specify dtype option on import or set low_memory=False.\n",
      "  interactivity=interactivity, compiler=compiler, result=result)\n"
     ]
    }
   ],
   "source": [
    "df1 = pd.read_csv(r\"cancellations/flight_2015_1.csv\")\n",
    "df2 = pd.read_csv(r\"cancellations/flight_2015_2.csv\")\n",
    "df3 = pd.read_csv(r\"cancellations/flight_2015_5.csv\")\n",
    "df4 = pd.read_csv(r\"cancellations/flight_2015_8.csv\")"
   ]
  },
  {
   "cell_type": "code",
   "execution_count": 5,
   "metadata": {},
   "outputs": [],
   "source": [
    "df1b.to_csv(r\"cancellations/flight_2015_1.csv\")\n",
    "df2b.to_csv(r\"cancellations/flight_2015_2.csv\")\n",
    "df3b.to_csv(r\"cancellations/flight_2015_5.csv\")\n",
    "df4b.to_csv(r\"cancellations/flight_2015_8.csv\")"
   ]
  },
  {
   "cell_type": "markdown",
   "metadata": {},
   "source": [
    "#### Concatenate datasets:"
   ]
  },
  {
   "cell_type": "code",
   "execution_count": 57,
   "metadata": {},
   "outputs": [],
   "source": [
    "# df2.head()\n",
    "# cols = df2.columns\n",
    "# print(cols)\n",
    "dflist = [df1,df2,df3,df4]\n",
    "flight_data = pd.concat(dflist,axis=0)"
   ]
  },
  {
   "cell_type": "markdown",
   "metadata": {},
   "source": [
    "#### Check shapes:"
   ]
  },
  {
   "cell_type": "code",
   "execution_count": 58,
   "metadata": {},
   "outputs": [
    {
     "name": "stdout",
     "output_type": "stream",
     "text": [
      "(1906688, 112)\n",
      "(469968, 112)\n",
      "(429191, 112)\n",
      "(496993, 112)\n",
      "(510536, 112)\n"
     ]
    }
   ],
   "source": [
    "print(flight_data.shape)\n",
    "print(df1.shape)\n",
    "print(df2.shape)\n",
    "print(df3.shape)\n",
    "print(df4.shape)"
   ]
  },
  {
   "cell_type": "markdown",
   "metadata": {},
   "source": [
    "#### Create disruption flag if delay is >= 240 minutes or canceled:\n"
   ]
  },
  {
   "cell_type": "code",
   "execution_count": 6,
   "metadata": {},
   "outputs": [],
   "source": [
    "def disruption(x):\n",
    "    if x >= 240: \n",
    "        return 1\n",
    "    else: \n",
    "        return 0\n",
    "\n",
    "df1['delay_flag'] = df1['DepDelayMinutes'].apply(disruption)\n",
    "df2['delay_flag'] = df2['DepDelayMinutes'].apply(disruption)\n",
    "df3['delay_flag'] = df3['DepDelayMinutes'].apply(disruption)\n",
    "df4['delay_flag'] = df4['DepDelayMinutes'].apply(disruption)\n",
    "flight_data['delay_flag'] = flight_data['DepDelayMinutes'].apply(disruption)\n",
    "\n",
    "df1['disruption_flag'] = df1[['delay_flag','Cancelled']].max(axis=1)\n",
    "df2['disruption_flag'] = df2[['delay_flag','Cancelled']].max(axis=1)\n",
    "df3['disruption_flag'] = df3[['delay_flag','Cancelled']].max(axis=1)\n",
    "df4['disruption_flag'] = df4[['delay_flag','Cancelled']].max(axis=1)\n",
    "flight_data['disruption_flag'] = flight_data[['delay_flag','Cancelled']].max(axis=1)"
   ]
  },
  {
   "cell_type": "markdown",
   "metadata": {},
   "source": [
    "#### Check disruption flags by month and in aggregate:\n",
    "Given four months of 2015 data, \"disruptions\" occur in about 2.65% of all flights. \n",
    "This dataset may be slightly imbalanced for modeling and could benefit from over- or under-sampling techniques, such as SMOTE.\n"
   ]
  },
  {
   "cell_type": "code",
   "execution_count": 7,
   "metadata": {},
   "outputs": [
    {
     "name": "stdout",
     "output_type": "stream",
     "text": [
      "df1 0.0    456424\n",
      "1.0     13544\n",
      "Name: disruption_flag, dtype: int64\n",
      "0.0    0.971181\n",
      "1.0    0.028819\n",
      "Name: disruption_flag, dtype: float64\n",
      "df2 0.0    406933\n",
      "1.0     22258\n",
      "Name: disruption_flag, dtype: int64\n",
      "0.0    0.94814\n",
      "1.0    0.05186\n",
      "Name: disruption_flag, dtype: float64\n",
      "df3 0.0    489237\n",
      "1.0      7756\n",
      "Name: disruption_flag, dtype: int64\n",
      "0.0    0.984394\n",
      "1.0    0.015606\n",
      "Name: disruption_flag, dtype: float64\n",
      "df4 0.0    503639\n",
      "1.0      6897\n",
      "Name: disruption_flag, dtype: int64\n",
      "0.0    0.986491\n",
      "1.0    0.013509\n",
      "Name: disruption_flag, dtype: float64\n",
      "\n",
      " all flight data 0.0    1856233\n",
      "1.0      50455\n",
      "Name: disruption_flag, dtype: int64\n",
      "0.0    0.973538\n",
      "1.0    0.026462\n",
      "Name: disruption_flag, dtype: float64\n"
     ]
    }
   ],
   "source": [
    "print(\"df1\",df1['disruption_flag'].value_counts())\n",
    "print(df1['disruption_flag'].value_counts(normalize=True))\n",
    "print(\"df2\",df2['disruption_flag'].value_counts())\n",
    "print(df2['disruption_flag'].value_counts(normalize=True))\n",
    "print(\"df3\",df3['disruption_flag'].value_counts())\n",
    "print(df3['disruption_flag'].value_counts(normalize=True))\n",
    "print(\"df4\",df4['disruption_flag'].value_counts())\n",
    "print(df4['disruption_flag'].value_counts(normalize=True))\n",
    "\n",
    "print('\\n',\"all flight data\",flight_data['disruption_flag'].value_counts())\n",
    "print(flight_data['disruption_flag'].value_counts(normalize=True))\n",
    "\n",
    "\n",
    "# Perform a box and whisker disruption for further look at distribution.\n"
   ]
  },
  {
   "cell_type": "markdown",
   "metadata": {},
   "source": [
    "#### Add weekend flag:\n"
   ]
  },
  {
   "cell_type": "code",
   "execution_count": 8,
   "metadata": {},
   "outputs": [
    {
     "data": {
      "text/plain": [
       "0    0\n",
       "1    0\n",
       "2    1\n",
       "3    1\n",
       "4    0\n",
       "Name: weekend_flag, dtype: int64"
      ]
     },
     "execution_count": 8,
     "metadata": {},
     "output_type": "execute_result"
    }
   ],
   "source": [
    "def weekend(x):\n",
    "    if x >= 6:\n",
    "        return 1\n",
    "    else: \n",
    "        \n",
    "        return 0\n",
    "    \n",
    "flight_data['weekend_flag'] = flight_data['DayOfWeek'].apply(weekend) \n",
    "flight_data['weekend_flag'].head()"
   ]
  },
  {
   "cell_type": "markdown",
   "metadata": {},
   "source": [
    "#### Convert CRSDepTime into cyclical continuous feature:\n"
   ]
  },
  {
   "cell_type": "code",
   "execution_count": 9,
   "metadata": {},
   "outputs": [
    {
     "data": {
      "text/plain": [
       "0"
      ]
     },
     "execution_count": 9,
     "metadata": {},
     "output_type": "execute_result"
    }
   ],
   "source": [
    "CRSDepTime = pd.DataFrame(flight_data['CRSDepTime'])\n",
    "\n",
    "# CRSDepTime[0:6]\n",
    "# normalize data first \n",
    "flight_data['sin_CRSDepTime'] = CRSDepTime.apply(lambda x: np.sin(x))\n",
    "flight_data['sin_CRSDepTime'].sample(10)\n",
    "\n",
    "flight_data['sin_CRSDepTime'].isnull().sum()\n"
   ]
  },
  {
   "cell_type": "markdown",
   "metadata": {},
   "source": [
    "<br/>\n",
    "\n",
    "## II. STRATEGY DISCUSSION / NOTES (post-EDA)\n",
    "\n",
    "#### Pre-model: Revenue, Costs, and Profit \n",
    "#### Revenue per flight: 19 dollars (risk unknown)\n",
    "#### Cost per disruption: 500 dollars (avg ticket price, see Ticket Price Assumption below)\n",
    "#### Disruption Probability Constant: 2.5%    (*based on select months from 2015)\n",
    "#### Expected revenue per disruption: = (19 / 0.025) = 760\n",
    "#### Marginal profit per disruption: = 760 - 500 = 260\n",
    "\n",
    "(at 1.9m flights in 4 months * 3 4-month periods we have 5.7 million BTS flights in 2015)\n",
    "<br/> <br/>\n"
   ]
  },
  {
   "cell_type": "markdown",
   "metadata": {},
   "source": [
    "### Features Brainstorm:\n",
    "Hypothetical data (very few columns)\n",
    "     1. Airport Origin ID\n",
    "             could group into regions and number of flights\n",
    "     2. Airport Destination ID\n",
    "             could group into regions and number of flights\n",
    "     3. Airline Carrer\n",
    "     4. Month (and quarter)\n",
    "     5. Day of the month (and week)\n",
    "     6. Time of day (use radians or leave?)\n",
    "     7. Pull in distance data between all airports from other .csvs\n",
    "     8. Flight number (likely biased, but im sure it has a trend)\n"
   ]
  },
  {
   "cell_type": "markdown",
   "metadata": {},
   "source": [
    "### Relevant Columns:\n",
    " disruption_flag, delay_flag, Cancelled\n",
    " Year, Quarter, Month, DayOfMonth, DayOfWeek,\n",
    " UniqueCarrier or Carrier?\n",
    " Origin, Dest (matches hypo data)\n",
    " DeptTime and CRSDepTime, CRSEstimatedTime (CRS is rounded, useful for var. reduction)\n",
    " Distance, DistanceGroup, AirTime (lagging?), ActualElapsedTime (lagging?) \n",
    " (DistanceGroup useful as var. reduction)\n",
    " FlightNum\n",
    "\n",
    "### Weather:\n",
    " Unless we have a current weather feed (or lagged by days, weeks months) its not easy to use this.\n",
    " However, one exception is a Farmer's Almanac-style YoY prediction for bad winters, natural disasters, etc.\n",
    "\n",
    "### General Comments:\n",
    "Develop a pricing system that takes the risk of the flight into account\n",
    "explore what effect your hypothetical system would have on: <br/>\n",
    "     -Revenue <br/>\n",
    "     -Costs <br/>\n",
    "     -Profits <br/>\n",
    "\n",
    "#### 1. Build Model to predict flight disruptions (binary target?)\n",
    " -Encode binary disruption flag. <br/>\n",
    " -Build gbm, rf, or linear model in scikit learn.\n",
    "\n",
    "#### 2. Create a marginal profit/loss column based on 19 dollar price\n",
    "  Create a marginal profit/loss column based on three-tier pricing.\n",
    "\n",
    "#### 3. Run bootstrapping to generate distribution of total profit/loss\n",
    "\n",
    "### Ticket Price Assumption:\n",
    "  500 dollar average ticket price for replacement cost of flights.\n",
    "  If time, I could calculate distance between airports and build a simple linear model with floor and ceiling?\n",
    "  I could also take into account # of stops (direct vs. non-direct).\n",
    "  \n",
    "  <br/>"
   ]
  },
  {
   "cell_type": "markdown",
   "metadata": {},
   "source": [
    "## III. MODEL BUILD\n",
    "\n",
    "#### Count Variable Levels:"
   ]
  },
  {
   "cell_type": "markdown",
   "metadata": {},
   "source": [
    "#### Create BTS flight subset to model:"
   ]
  },
  {
   "cell_type": "code",
   "execution_count": 10,
   "metadata": {},
   "outputs": [
    {
     "name": "stdout",
     "output_type": "stream",
     "text": [
      "(1906688, 114)\n",
      "(1000000, 22)\n"
     ]
    }
   ],
   "source": [
    "# flight_data.iloc[,20:40].head()\n",
    "print(flight_data.shape)\n",
    "# sample_length = len(flight_data)\n",
    "sample_length = 1000000\n",
    "random.seed(999)\n",
    "flight_subset = flight_data.loc[:,['UniqueCarrier','Carrier','Origin','Dest','FlightNum'\n",
    "                  ,'Year','Quarter','Month','DayofMonth','DayOfWeek'\n",
    "                  ,'DepTime','CRSDepTime','sin_CRSDepTime','weekend_flag'\n",
    "                  ,'CRSElapsedTime','Distance','DistanceGroup'\n",
    "                  ,'AirTime','ActualElapsedTime'\n",
    "                  ,'Cancelled','delay_flag','disruption_flag']].sample(sample_length,random_state=999)\n",
    "\n",
    "print(flight_subset.shape)"
   ]
  },
  {
   "cell_type": "code",
   "execution_count": 11,
   "metadata": {},
   "outputs": [
    {
     "name": "stdout",
     "output_type": "stream",
     "text": [
      "UniqueCarrier 14\n",
      "Carrier 14\n",
      "Origin 322\n",
      "Dest 322\n",
      "FlightNum 6547\n",
      "Year 1\n",
      "Quarter 3\n",
      "Month 4\n",
      "DayofMonth 31\n",
      "DayOfWeek 7\n",
      "DepTime 23234\n",
      "CRSDepTime 1256\n",
      "sin_CRSDepTime 1256\n",
      "weekend_flag 2\n",
      "CRSElapsedTime 498\n",
      "Distance 1322\n",
      "DistanceGroup 11\n",
      "AirTime 25911\n",
      "ActualElapsedTime 25947\n",
      "Cancelled 2\n",
      "delay_flag 2\n",
      "disruption_flag 2\n"
     ]
    }
   ],
   "source": [
    "for column in flight_subset:\n",
    "    print(column,len(set(flight_subset[column])))"
   ]
  },
  {
   "cell_type": "markdown",
   "metadata": {},
   "source": [
    "#### Impute function:"
   ]
  },
  {
   "cell_type": "code",
   "execution_count": 12,
   "metadata": {},
   "outputs": [],
   "source": [
    "class DataFrameImputer(TransformerMixin):\n",
    "\n",
    "    def __init__(self):\n",
    "        \"\"\"Impute missing values--\n",
    "         dtype objects imputed with the most frequent value \n",
    "         other types are imputed with mean \n",
    "        \"\"\"\n",
    "    def fit(self, X, y=None):\n",
    "\n",
    "        self.fill = pd.Series([X[c].value_counts().index[0]\n",
    "            if X[c].dtype == np.dtype('O') else X[c].mean() for c in X],\n",
    "            index=X.columns)\n",
    "\n",
    "        return self\n",
    "\n",
    "    def transform(self, X, y=None):\n",
    "        return X.fillna(self.fill)\n",
    "\n",
    "data = [\n",
    "    ['a', 1, 2],\n",
    "    ['b', 1, 1],\n",
    "    ['b', 2, 2],\n",
    "    [np.nan, np.nan, np.nan]\n",
    "]\n"
   ]
  },
  {
   "cell_type": "markdown",
   "metadata": {},
   "source": [
    "#### Subset features and split train vs. test datasets:"
   ]
  },
  {
   "cell_type": "code",
   "execution_count": 13,
   "metadata": {},
   "outputs": [
    {
     "name": "stdout",
     "output_type": "stream",
     "text": [
      "(749168, 14)\n",
      "(250832, 14)\n",
      "(749168, 664)\n",
      "(250832, 664)\n"
     ]
    }
   ],
   "source": [
    "features = ['Carrier','Quarter','Month','DayOfWeek','DistanceGroup','CRSElapsedTime'\n",
    "            ,'Origin','Dest','FlightNum'\n",
    "           ,'Distance','CRSDepTime','weekend_flag'\n",
    "#             ,'sin_CRSDepTime'\n",
    "            ,'disruption_flag']\n",
    "\n",
    "flight_subset_features = flight_subset[features]\n",
    "\n",
    "random.seed(999)\n",
    "flight_subset_features['random'] = [random.random() for i in range(len(flight_subset))]\n",
    "\n",
    "flight_subset_features_impute = DataFrameImputer().fit_transform(flight_subset_features)\n",
    "\n",
    "flight_train = flight_subset_features_impute.loc[flight_subset_features_impute['random'] < .75,:]\n",
    "flight_test = flight_subset_features_impute.loc[flight_subset_features_impute['random'] >= .75,:]\n",
    "print(flight_train.shape)\n",
    "print(flight_test.shape)\n",
    "\n",
    "# flight_train_impute = DataFrameImputer().fit_transform(flight_train)\n",
    "# flight_test_impute = DataFrameImputer().fit_transform(flight_test)\n",
    "\n",
    "train_features = pd.get_dummies(flight_train)\n",
    "\n",
    "test_features = pd.get_dummies(flight_test)\n",
    "train_features = train_features[test_features.columns]\n",
    "\n",
    "train_target = train_features['disruption_flag']\n",
    "\n",
    "test_target = test_features['disruption_flag']\n",
    "\n",
    "train_features = train_features.drop(['disruption_flag','random'],axis=1)\n",
    "\n",
    "test_features = test_features.drop(['disruption_flag','random'],axis=1)\n",
    "\n",
    "print(train_features.shape)\n",
    "print(test_features.shape)\n"
   ]
  },
  {
   "cell_type": "markdown",
   "metadata": {},
   "source": [
    "#### Build simple linear or tree-based model:"
   ]
  },
  {
   "cell_type": "code",
   "execution_count": 14,
   "metadata": {},
   "outputs": [
    {
     "name": "stdout",
     "output_type": "stream",
     "text": [
      "1min 4s ± 2.76 s per loop (mean ± std. dev. of 7 runs, 1 loop each)\n"
     ]
    }
   ],
   "source": [
    "# RF: using default parameters to save time, could run grid search normally\n",
    "\n",
    "# model = sklearn.ensemble.GradientBoostingClassifier()\n",
    "# model = sklearn.ensemble.RandomForestClassifier()\n",
    "model = sklearn.ensemble.RandomForestClassifier(bootstrap=True, class_weight=None, criterion='gini',\n",
    "            max_depth=None, max_features='auto', max_leaf_nodes=None,\n",
    "            min_impurity_decrease=0.0, min_impurity_split=None,\n",
    "            min_samples_leaf=10, min_samples_split=2,\n",
    "            min_weight_fraction_leaf=0.0, n_estimators=10, n_jobs=None,\n",
    "            oob_score=False, random_state=None, verbose=0,\n",
    "            warm_start=False)\n",
    "# model = sklearn.ensemble.LinearRegression()\n",
    "\n",
    "%timeit model.fit(train_features,train_target)"
   ]
  },
  {
   "cell_type": "markdown",
   "metadata": {},
   "source": [
    "#### ROC AUC - Classification / Logit Score:"
   ]
  },
  {
   "cell_type": "code",
   "execution_count": 15,
   "metadata": {},
   "outputs": [
    {
     "name": "stdout",
     "output_type": "stream",
     "text": [
      "ROC AUC: 0.7933\n"
     ]
    }
   ],
   "source": [
    "# 79.3% AUC Test\n",
    "test_predict = model.predict(test_features)\n",
    "test_predict_proba = model.predict_proba(test_features)\n",
    "test_predict_probs = pd.Series(test_predict_proba[:,1])\n",
    "false_positive_rate, true_positive_rate, thresholds = roc_curve(test_target, test_predict_probs)\n",
    "\n",
    "\n",
    "# 88.0% AUC Train\n",
    "# train_predict = model.predict(train_features)\n",
    "# %timeit train_predict_proba = model.predict(train_features)\n",
    "# train_predict_probs = pd.Series(train_predict_proba[:,1])\n",
    "# false_positive_rate, true_positive_rate, thresholds = roc_curve(train_target, train_predict_probs)\n",
    "\n",
    "roc_auc = round(auc(false_positive_rate, true_positive_rate),4)\n",
    "print(\"ROC AUC:\",roc_auc)"
   ]
  },
  {
   "cell_type": "markdown",
   "metadata": {},
   "source": [
    "#### Explore scored probabilities:"
   ]
  },
  {
   "cell_type": "code",
   "execution_count": 16,
   "metadata": {},
   "outputs": [
    {
     "name": "stdout",
     "output_type": "stream",
     "text": [
      "250832 0\n",
      "(250832, 14)\n"
     ]
    }
   ],
   "source": [
    "# print(pd.DataFrame(test_predict_proba).sample(30))\n",
    "print(len(test_predict_probs),test_predict_probs.isna().sum())\n",
    "print(flight_test.shape)\n",
    "\n",
    "# test_predict_probs.to_csv(r\"sample_preds.csv\")\n",
    "# flight_test.to_csv(r\"flight_test.csv\")"
   ]
  },
  {
   "cell_type": "markdown",
   "metadata": {},
   "source": [
    "#### Lift curves and mean:\n",
    "\n",
    "Commented out lift curve in favor of predicted probability curve."
   ]
  },
  {
   "cell_type": "code",
   "execution_count": 78,
   "metadata": {},
   "outputs": [
    {
     "data": {
      "text/plain": [
       "array([[0.94469532, 0.05530468],\n",
       "       [0.98988897, 0.01011103],\n",
       "       [0.96507832, 0.03492168],\n",
       "       [0.93709266, 0.06290734],\n",
       "       [0.96645134, 0.03354866],\n",
       "       [0.97836201, 0.02163799],\n",
       "       [0.96026284, 0.03973716],\n",
       "       [0.96667999, 0.03332001],\n",
       "       [0.95984324, 0.04015676],\n",
       "       [0.99621457, 0.00378543]])"
      ]
     },
     "execution_count": 78,
     "metadata": {},
     "output_type": "execute_result"
    }
   ],
   "source": [
    "# test_target.dtype\n",
    "test_predict_proba.dtype\n",
    "test_predict_proba[0:10]"
   ]
  },
  {
   "cell_type": "code",
   "execution_count": 77,
   "metadata": {},
   "outputs": [
    {
     "name": "stdout",
     "output_type": "stream",
     "text": [
      "Distribution of Probabilities:\n"
     ]
    },
    {
     "data": {
      "image/png": "[encoded data removed]",
      "text/plain": [
       "<Figure size 864x432 with 1 Axes>"
      ]
     },
     "metadata": {
      "needs_background": "light"
     },
     "output_type": "display_data"
    },
    {
     "name": "stdout",
     "output_type": "stream",
     "text": [
      "Mean check: 0.0262 \n",
      "\n",
      "0    0.001922\n",
      "1    0.004687\n",
      "2    0.007362\n",
      "3    0.010243\n",
      "4    0.013709\n",
      "5    0.018089\n",
      "6    0.024026\n",
      "7    0.032660\n",
      "8    0.048235\n",
      "9    0.100850\n",
      "dtype: float64\n",
      "disruption_flag\n",
      "0    0.000000\n",
      "1    0.000000\n",
      "2    0.000000\n",
      "3    0.000000\n",
      "4    0.000000\n",
      "5    0.000000\n",
      "6    0.000000\n",
      "7    0.000000\n",
      "8    0.000000\n",
      "9    0.263953\n",
      "Name: disruption_flag, dtype: float64\n"
     ]
    },
    {
     "data": {
      "image/png": "[encoded data removed]",
      "text/plain": [
       "<Figure size 864x432 with 1 Axes>"
      ]
     },
     "metadata": {
      "needs_background": "light"
     },
     "output_type": "display_data"
    }
   ],
   "source": [
    "# test_predict_probs = test_predict_proba[:,1]\n",
    "# print(test_predict_probs)\n",
    "# test_predict_probs.type\n",
    "# curve = pd.DataFrame(test_predict_probs).sort_values(by=[0],axis=1,ascending=False)\n",
    "curve = np.sort(test_predict_probs)\n",
    "plt.plot(curve)\n",
    "print(\"Distribution of Probabilities:\")\n",
    "plt.show()\n",
    "\n",
    "print(\"Mean check:\",round(test_predict_probs.mean(),4),'\\n')\n",
    "\n",
    "\n",
    "\n",
    "def LiftCurve(actual, predicted, bins):\n",
    "    actual_ranks = pd.qcut(actual.rank(method='first'),bins,labels=False)\n",
    "    pred_ranks = pd.qcut(predicted.rank(method='first'),bins,labels=False)\n",
    "    actual_percentiles = actual.groupby(actual_ranks).mean()\n",
    "    pred_percentiles = predicted.groupby(pred_ranks).mean()\n",
    "    \n",
    "    plt.title('Lift Chart')\n",
    "    plt.plot(pred_percentiles,color='darkorange')\n",
    "    plt.plot(actual_percentiles,color='navy')\n",
    "    plt.ylabel('Target Percentile')\n",
    "    plt.xlabel('Buckets')\n",
    "    plt.legend(loc='best') \n",
    "    \n",
    "    print(pred_percentiles)\n",
    "    print(actual_percentiles)\n",
    "    \n",
    "LiftCurve(test_target,test_predict_probs,10)\n",
    "# extremely polarized, lift curve doesn't offer much"
   ]
  },
  {
   "cell_type": "markdown",
   "metadata": {},
   "source": [
    "#### Assess feature importance:\n",
    " AirTime creates leakage, must be lagging indicator. \n",
    "I checked and it has blanks for cancellations, try CRSEstimatedTime."
   ]
  },
  {
   "cell_type": "code",
   "execution_count": 18,
   "metadata": {},
   "outputs": [
    {
     "name": "stdout",
     "output_type": "stream",
     "text": [
      "                Importance\n",
      "DayOfWeek           0.1334\n",
      "Month               0.0978\n",
      "FlightNum           0.0820\n",
      "CRSDepTime          0.0813\n",
      "CRSElapsedTime      0.0641\n",
      "Carrier_MQ          0.0490\n",
      "Quarter             0.0482\n",
      "Distance            0.0421\n",
      "Origin_LGA          0.0215\n",
      "weekend_flag        0.0195\n",
      "Dest_LGA            0.0191\n",
      "Origin_BOS          0.0173\n",
      "Dest_BOS            0.0138\n",
      "DistanceGroup       0.0134\n",
      "Dest_ORD            0.0099\n",
      "Dest_EWR            0.0097\n",
      "Origin_EWR          0.0084\n",
      "Carrier_B6          0.0079\n",
      "Carrier_DL          0.0072\n",
      "Carrier_WN          0.0063\n"
     ]
    },
    {
     "data": {
      "image/png": "[encoded data removed]",
      "text/plain": [
       "<Figure size 864x432 with 1 Axes>"
      ]
     },
     "metadata": {
      "needs_background": "light"
     },
     "output_type": "display_data"
    }
   ],
   "source": [
    "feature_importances = model.feature_importances_\n",
    "importance_table = pd.DataFrame(feature_importances, index=train_features.columns, \n",
    "                          columns=[\"Importance\"]).sort_values(by=['Importance'],ascending=False)\n",
    "importance_table['Importance'] = round(importance_table['Importance'],4)\n",
    "print(importance_table.head(20))\n",
    "\n",
    "# ***visualize top 10 or more predictors\n",
    "x_bar = set(importance_table.index[0:10])\n",
    "y_bar = importance_table['Importance'][0:10]\n",
    "ind = [x for x, _ in enumerate(x_bar)]\n",
    "plt.rcParams['figure.figsize'] = [12, 6]\n",
    "\n",
    "plt.bar(ind,y_bar)\n",
    "plt.xticks(ind,x_bar)\n",
    "plt.show()"
   ]
  },
  {
   "cell_type": "markdown",
   "metadata": {},
   "source": [
    "<br/>\n",
    "\n",
    "## III. MODEL PRICING SCHEME\n",
    "Perfectly fluid pricing would be best for best price discrimination,\n",
    "but I suggest 3 simple tiers, or more, because they're more interpretable.\n",
    "Rank-order airline risk of disruption and select thresholds.\n",
    "If the features of scored flights follow the same distributions as the training set \n",
    "then the thresholds should uphold the same accuracy as the training set.\n",
    "\n",
    "(skip for now) consider weighing by number of passengers?\n",
    "\n",
    "#### Score each dataset and output scored probabilities:\n",
    "  if between 0 and a then Price I; <br/>\n",
    "  if between a and b then Price II; <br/>\n",
    "  if between b and 1 then Price III. <br/>\n",
    "\n",
    "#### Selecting the Number of Tiers: \n",
    "   Tradeoff between complexity (for insured and customers) and price-risk discrimination\n",
    "\n",
    "#### Selecting the Thresholds that Divide Tiers:\n",
    "   Tradeoff between revenue from tiers (e.g., price of 9 dollars vs. 19 vs. 29) and profit.\n"
   ]
  },
  {
   "cell_type": "code",
   "execution_count": 4,
   "metadata": {},
   "outputs": [
    {
     "ename": "NameError",
     "evalue": "name 'test_predict_probs' is not defined",
     "output_type": "error",
     "traceback": [
      "\u001b[0;31m---------------------------------------------------------------------------\u001b[0m",
      "\u001b[0;31mNameError\u001b[0m                                 Traceback (most recent call last)",
      "\u001b[0;32m<ipython-input-4-b9ee59c85d35>\u001b[0m in \u001b[0;36m<module>\u001b[0;34m\u001b[0m\n\u001b[1;32m     14\u001b[0m \u001b[0;31m# flight_test = flight_test.reset_index()\u001b[0m\u001b[0;34m\u001b[0m\u001b[0;34m\u001b[0m\u001b[0;34m\u001b[0m\u001b[0m\n\u001b[1;32m     15\u001b[0m \u001b[0;34m\u001b[0m\u001b[0m\n\u001b[0;32m---> 16\u001b[0;31m \u001b[0mflight_test\u001b[0m\u001b[0;34m[\u001b[0m\u001b[0;34m'test_predict_probs'\u001b[0m\u001b[0;34m]\u001b[0m \u001b[0;34m=\u001b[0m \u001b[0mtest_predict_probs\u001b[0m\u001b[0;34m\u001b[0m\u001b[0;34m\u001b[0m\u001b[0m\n\u001b[0m\u001b[1;32m     17\u001b[0m \u001b[0mflight_test\u001b[0m\u001b[0;34m[\u001b[0m\u001b[0;34m'Pricing Tiers'\u001b[0m\u001b[0;34m]\u001b[0m \u001b[0;34m=\u001b[0m \u001b[0mflight_test\u001b[0m\u001b[0;34m[\u001b[0m\u001b[0;34m'test_predict_probs'\u001b[0m\u001b[0;34m]\u001b[0m\u001b[0;34m.\u001b[0m\u001b[0mapply\u001b[0m\u001b[0;34m(\u001b[0m\u001b[0mtiers\u001b[0m\u001b[0;34m)\u001b[0m\u001b[0;34m\u001b[0m\u001b[0;34m\u001b[0m\u001b[0m\n\u001b[1;32m     18\u001b[0m \u001b[0;31m# flight_test['Pricing Tiers'] = test_predict_probs.iloc[:,0].apply(tiers)\u001b[0m\u001b[0;34m\u001b[0m\u001b[0;34m\u001b[0m\u001b[0;34m\u001b[0m\u001b[0m\n",
      "\u001b[0;31mNameError\u001b[0m: name 'test_predict_probs' is not defined"
     ]
    }
   ],
   "source": [
    "def tiers(x):\n",
    "    if x >= 0.02:\n",
    "        return 'Group 3 (Highest Risk)'\n",
    "    elif x >= 0.01:\n",
    "        return 'Group 2 (Medium Risk)'\n",
    "    elif x >= 0 :\n",
    "        return 'Group 1 (Lowest Risk)'\n",
    "#     elif x >= 0 :\n",
    "#         return '*could add more tiers here and change thresholds*'\n",
    "    else:\n",
    "        return 'Missing'\n",
    "    \n",
    "# flight_test = flight_test.drop(['Pricing Tiers'],axis=1)\n",
    "# flight_test = flight_test.reset_index()\n",
    "    \n",
    "flight_test['test_predict_probs'] = test_predict_probs\n",
    "flight_test['Pricing Tiers'] = flight_test['test_predict_probs'].apply(tiers)\n",
    "# flight_test['Pricing Tiers'] = test_predict_probs.iloc[:,0].apply(tiers)\n",
    "\n",
    "print(flight_test['Pricing Tiers'].value_counts(),'\\n')\n",
    "print(flight_test['Pricing Tiers'].value_counts(normalize=True),'\\n')\n",
    "print(\"Sum Missing Tiers:\",flight_test['Pricing Tiers'].isna().sum() \n",
    "      + len(flight_test[flight_test['Pricing Tiers']=='Missing']) )\n",
    "\n",
    "# ***visualize normalized risk probabilities\n",
    "flight_test.boxplot(column='test_predict_probs',by='Pricing Tiers')"
   ]
  },
  {
   "cell_type": "markdown",
   "metadata": {},
   "source": [
    "### Create price assumptions and check tiers on holdout sample:"
   ]
  },
  {
   "cell_type": "code",
   "execution_count": 5,
   "metadata": {},
   "outputs": [
    {
     "ename": "NameError",
     "evalue": "name 'flight_test' is not defined",
     "output_type": "error",
     "traceback": [
      "\u001b[0;31m---------------------------------------------------------------------------\u001b[0m",
      "\u001b[0;31mNameError\u001b[0m                                 Traceback (most recent call last)",
      "\u001b[0;32m<ipython-input-5-91e1c8638d61>\u001b[0m in \u001b[0;36m<module>\u001b[0;34m\u001b[0m\n\u001b[1;32m      2\u001b[0m \u001b[0mflight_revenue\u001b[0m \u001b[0;34m=\u001b[0m \u001b[0;36m19\u001b[0m\u001b[0;34m\u001b[0m\u001b[0;34m\u001b[0m\u001b[0m\n\u001b[1;32m      3\u001b[0m \u001b[0;34m\u001b[0m\u001b[0m\n\u001b[0;32m----> 4\u001b[0;31m \u001b[0mflight_test\u001b[0m\u001b[0;34m[\u001b[0m\u001b[0;34m'flight_revenue'\u001b[0m\u001b[0;34m]\u001b[0m \u001b[0;34m=\u001b[0m \u001b[0mflight_revenue\u001b[0m\u001b[0;34m\u001b[0m\u001b[0;34m\u001b[0m\u001b[0m\n\u001b[0m\u001b[1;32m      5\u001b[0m \u001b[0mflight_test\u001b[0m\u001b[0;34m[\u001b[0m\u001b[0;34m'disruption_cost'\u001b[0m\u001b[0;34m]\u001b[0m \u001b[0;34m=\u001b[0m  \u001b[0mflight_test\u001b[0m\u001b[0;34m[\u001b[0m\u001b[0;34m'disruption_flag'\u001b[0m\u001b[0;34m]\u001b[0m \u001b[0;34m*\u001b[0m \u001b[0mflight_cost\u001b[0m\u001b[0;34m\u001b[0m\u001b[0;34m\u001b[0m\u001b[0m\n\u001b[1;32m      6\u001b[0m \u001b[0mflight_test\u001b[0m\u001b[0;34m[\u001b[0m\u001b[0;34m'flight_revenue_minus_disruption_cost'\u001b[0m\u001b[0;34m]\u001b[0m \u001b[0;34m=\u001b[0m \u001b[0mflight_test\u001b[0m\u001b[0;34m[\u001b[0m\u001b[0;34m'flight_revenue'\u001b[0m\u001b[0;34m]\u001b[0m \u001b[0;34m-\u001b[0m \u001b[0mflight_test\u001b[0m\u001b[0;34m[\u001b[0m\u001b[0;34m'disruption_cost'\u001b[0m\u001b[0;34m]\u001b[0m\u001b[0;34m\u001b[0m\u001b[0;34m\u001b[0m\u001b[0m\n",
      "\u001b[0;31mNameError\u001b[0m: name 'flight_test' is not defined"
     ]
    }
   ],
   "source": [
    "flight_cost = 500\n",
    "flight_revenue = 19\n",
    "\n",
    "flight_test['flight_revenue'] = flight_revenue\n",
    "flight_test['disruption_cost'] =  flight_test['disruption_flag'] * flight_cost\n",
    "flight_test['flight_revenue_minus_disruption_cost'] = flight_test['flight_revenue'] - flight_test['disruption_cost']\n",
    "\n",
    "print(\"Count of Disruptions per Tier:\",'\\n',flight_test.groupby(['Pricing Tiers'])['disruption_flag'].sum(),'\\n')\n",
    "print(\"Revenue per Tier:\",'\\n',flight_test.groupby(['Pricing Tiers'])['flight_revenue'].sum(),'\\n')\n",
    "print(\"Cost of Disruptions per Tier:\",'\\n',flight_test.groupby(['Pricing Tiers'])['disruption_cost'].sum(),'\\n')\n",
    "print(\"Profit per Tier:\",'\\n',flight_test.groupby(['Pricing Tiers'])['flight_revenue_minus_disruption_cost'].sum(),'\\n')\n",
    "# plt.plot(flight_test.groupby(['Pricing Tiers'])['flight_revenue_minus_disruption_cost'].sum()\n",
    "\n",
    "\n",
    "x_bar = set(flight_test['Pricing Tiers'])\n",
    "y_bar = flight_test.groupby(['Pricing Tiers'])['flight_revenue_minus_disruption_cost'].sum()\n",
    "ind = [x for x, _ in enumerate(x_bar)]\n",
    "\n",
    "plt.bar(ind,y_bar)\n",
    "plt.xticks(ind,x_bar)\n",
    "\n",
    "print(\"Total Profit:\",flight_test['flight_revenue_minus_disruption_cost'].sum(),'\\n')"
   ]
  },
  {
   "cell_type": "markdown",
   "metadata": {},
   "source": [
    "<br/>\n",
    "\n",
    "## IV. ESTIMATE OF DISTRIBUTION OF POTENTIAL PROFITS OR LOSSES\n",
    " We can use bootstrapping, MCMC, confidence intervals, or bayesian to create distributions."
   ]
  },
  {
   "cell_type": "markdown",
   "metadata": {},
   "source": [
    "#### Run bootstrap and report results for 10,000 simulations:\n",
    " Sum total marginal expected profit per flight scored, and then run bootstrap on that."
   ]
  },
  {
   "cell_type": "code",
   "execution_count": 6,
   "metadata": {},
   "outputs": [
    {
     "ename": "NameError",
     "evalue": "name 'flight_test' is not defined",
     "output_type": "error",
     "traceback": [
      "\u001b[0;31m---------------------------------------------------------------------------\u001b[0m",
      "\u001b[0;31mNameError\u001b[0m                                 Traceback (most recent call last)",
      "\u001b[0;32m<ipython-input-6-cd3df287b62d>\u001b[0m in \u001b[0;36m<module>\u001b[0;34m\u001b[0m\n\u001b[1;32m      6\u001b[0m \u001b[0;32mfor\u001b[0m \u001b[0mi\u001b[0m \u001b[0;32min\u001b[0m \u001b[0mrange\u001b[0m\u001b[0;34m(\u001b[0m\u001b[0;36m1\u001b[0m\u001b[0;34m,\u001b[0m\u001b[0;36m10000\u001b[0m\u001b[0;34m)\u001b[0m\u001b[0;34m:\u001b[0m\u001b[0;34m\u001b[0m\u001b[0;34m\u001b[0m\u001b[0m\n\u001b[1;32m      7\u001b[0m     \u001b[0mfraction\u001b[0m \u001b[0;34m=\u001b[0m \u001b[0;36m0.5\u001b[0m\u001b[0;34m\u001b[0m\u001b[0;34m\u001b[0m\u001b[0m\n\u001b[0;32m----> 8\u001b[0;31m     \u001b[0mn\u001b[0m\u001b[0;34m=\u001b[0m\u001b[0mround\u001b[0m\u001b[0;34m(\u001b[0m\u001b[0mlen\u001b[0m\u001b[0;34m(\u001b[0m\u001b[0mflight_test\u001b[0m\u001b[0;34m)\u001b[0m\u001b[0;34m*\u001b[0m\u001b[0mfraction\u001b[0m\u001b[0;34m)\u001b[0m\u001b[0;34m\u001b[0m\u001b[0;34m\u001b[0m\u001b[0m\n\u001b[0m\u001b[1;32m      9\u001b[0m     \u001b[0mboot\u001b[0m \u001b[0;34m=\u001b[0m \u001b[0mresample\u001b[0m\u001b[0;34m(\u001b[0m\u001b[0mflight_test\u001b[0m\u001b[0;34m,\u001b[0m \u001b[0mreplace\u001b[0m\u001b[0;34m=\u001b[0m\u001b[0;32mTrue\u001b[0m\u001b[0;34m,\u001b[0m \u001b[0mn_samples\u001b[0m\u001b[0;34m=\u001b[0m\u001b[0mn\u001b[0m\u001b[0;34m,\u001b[0m \u001b[0mrandom_state\u001b[0m\u001b[0;34m=\u001b[0m\u001b[0mi\u001b[0m\u001b[0;34m)\u001b[0m\u001b[0;34m\u001b[0m\u001b[0;34m\u001b[0m\u001b[0m\n\u001b[1;32m     10\u001b[0m \u001b[0;34m\u001b[0m\u001b[0m\n",
      "\u001b[0;31mNameError\u001b[0m: name 'flight_test' is not defined"
     ]
    }
   ],
   "source": [
    "start = timeit.default_timer()\n",
    "\n",
    "return_mean = pd.DataFrame()\n",
    "prob_mean = pd.DataFrame()\n",
    "\n",
    "for i in range(1,10000):\n",
    "    fraction = 0.5\n",
    "    n=round(len(flight_test)*fraction)\n",
    "    boot = resample(flight_test, replace=True, n_samples=n, random_state=i)\n",
    "\n",
    "    boot_prob = pd.Series(boot['test_predict_probs'].mean())\n",
    "    boot_return = pd.Series(boot['flight_revenue_minus_disruption_cost'].sum()/fraction)\n",
    "\n",
    "    prob_mean = prob_mean.append(boot_prob,ignore_index=True)\n",
    "    return_mean = return_mean.append(boot_return,ignore_index=True)\n",
    "\n",
    "    predict_pctl_1 = round(np.percentile(prob_mean,1),4)\n",
    "    predict_pctl_5 = round(np.percentile(prob_mean,5),4)\n",
    "    predict_pctl_50 = round(np.percentile(prob_mean,50),4)\n",
    "    predict_pctl_95 = round(np.percentile(prob_mean,95),4)\n",
    "    predict_pctl_99 = round(np.percentile(prob_mean,99),4)\n",
    "\n",
    "    returns_pctl_1 = round(np.percentile(return_mean,1),4)\n",
    "    returns_pctl_5 = round(np.percentile(return_mean,5),4)\n",
    "    returns_pctl_50 = round(np.percentile(return_mean,50),4)\n",
    "    returns_pctl_95 = round(np.percentile(return_mean,95),4)\n",
    "    returns_pctl_99 = round(np.percentile(return_mean,99),4)\n",
    "\n",
    "print(\"Predicted Disruption Probability Scenarios:\",'\\n',\"1%:\",predict_pctl_1,\" 5%:\",predict_pctl_5\n",
    "      ,\" 50%:\",predict_pctl_50,\" 95%:\",predict_pctl_95,\" 99%:\",predict_pctl_99,'\\n')\n",
    "print(\"Predicted Return Scenarios:\",'\\n',\"1%:\",returns_pctl_1,\"5%:\",returns_pctl_5\n",
    "      ,\"50%:\",returns_pctl_50,\"95%:\",returns_pctl_95,\"99%:\",returns_pctl_99,'\\n')\n",
    "\n",
    "end = timeit.default_timer()\n",
    "print(\"Total time:\",round(end - start,4), \"seconds\")"
   ]
  },
  {
   "cell_type": "code",
   "execution_count": 23,
   "metadata": {},
   "outputs": [
    {
     "data": {
      "image/png": "[encoded data removed]",
      "text/plain": [
       "<Figure size 864x432 with 1 Axes>"
      ]
     },
     "metadata": {
      "needs_background": "light"
     },
     "output_type": "display_data"
    },
    {
     "data": {
      "image/png": "[encoded data removed]",
      "text/plain": [
       "<Figure size 864x432 with 1 Axes>"
      ]
     },
     "metadata": {
      "needs_background": "light"
     },
     "output_type": "display_data"
    }
   ],
   "source": [
    "prob_mean.boxplot()\n",
    "plt.show()\n",
    "return_mean.boxplot()\n",
    "plt.show()"
   ]
  },
  {
   "cell_type": "markdown",
   "metadata": {},
   "source": [
    "<br/>\n",
    "\n",
    "## V. SCORE HYPOTHETICAL DATASET\n",
    "\n",
    "#### Found in hypothetical data? (and BTS data)\n",
    "carrier - yes <br/>\n",
    "origin - yes <br/>\n",
    "dest - yes <br/>\n",
    "flightnum - yes <br/>\n",
    "year - yes <br/>\n",
    "quarter - yes <br/>\n",
    "month - yes <br/>\n",
    "dayofweek - yes (need to derive) <br/>\n",
    "dayofmonth - yes (need to derive) <br/>\n",
    "CRSDepTime - yes (need to derive) <br/>\n",
    "week of year - yes, if time (need to derive) <br/>\n",
    "<br/>\n",
    "distance - yes (need to derive) <br/>\n",
    "distancegroup - yes (need to derive) <br/>\n",
    "CRSelapsed - yes (need to derive) <br/>\n",
    "<br/>\n",
    "Don't need: <br/>\n",
    "airtime - can't use, need CRSelapsed time between airports (need to derive) <br/>\n",
    "actualelapsedtime - unneeded (lagging indicator) <br/>\n",
    "deptime - yes <br/>\n",
    "<br/>\n",
    "Don't need direct vs. non-direct flag because BTS is only single-leg flights. <br/>\n",
    "Distance should have one single value for each two airports. <br/>"
   ]
  },
  {
   "cell_type": "markdown",
   "metadata": {},
   "source": [
    "#### Import hypothetical data:"
   ]
  },
  {
   "cell_type": "code",
   "execution_count": 7,
   "metadata": {},
   "outputs": [],
   "source": [
    "hypo = pd.read_csv(r\"cancellations/hypothetical flight data.csv\")"
   ]
  },
  {
   "cell_type": "code",
   "execution_count": 8,
   "metadata": {},
   "outputs": [
    {
     "data": {
      "text/plain": [
       "0    0\n",
       "1    1\n",
       "2    0\n",
       "3    1\n",
       "4    0\n",
       "Name: weekend_flag, dtype: int64"
      ]
     },
     "execution_count": 8,
     "metadata": {},
     "output_type": "execute_result"
    }
   ],
   "source": [
    "# hypo.head()\n",
    "departure_date = hypo['departure_date'].apply(lambda x: datetime.strptime(x,'%m/%d/%y'))\n",
    "hypo['Quarter'] = departure_date.dt.quarter\n",
    "hypo['Month'] = departure_date.dt.month\n",
    "hypo['Week'] = departure_date.dt.week\n",
    "Weekday_0 = departure_date.dt.weekday\n",
    "hypo['DayOfWeek'] = Weekday_0 + 1\n",
    "hypo['DayofMonth'] = departure_date.apply(lambda x: datetime.strftime(x,'%d'))\n",
    "\n",
    "# ADD WEEKEND FLAG\n",
    "def weekend(x):\n",
    "    if x >= 6:\n",
    "        return 1\n",
    "    else: \n",
    "        return 0\n",
    "    \n",
    "hypo['weekend_flag'] = hypo['DayOfWeek'].apply(weekend)\n",
    "hypo['weekend_flag'].head()"
   ]
  },
  {
   "cell_type": "markdown",
   "metadata": {},
   "source": [
    "#### Calculate distance tables between all airport pairs:\n",
    "Using mean as aggregation but only one value sohuld be returned for each pair."
   ]
  },
  {
   "cell_type": "code",
   "execution_count": 9,
   "metadata": {},
   "outputs": [
    {
     "ename": "NameError",
     "evalue": "name 'flight_data' is not defined",
     "output_type": "error",
     "traceback": [
      "\u001b[0;31m---------------------------------------------------------------------------\u001b[0m",
      "\u001b[0;31mNameError\u001b[0m                                 Traceback (most recent call last)",
      "\u001b[0;32m<ipython-input-9-0aabe5979233>\u001b[0m in \u001b[0;36m<module>\u001b[0;34m\u001b[0m\n\u001b[0;32m----> 1\u001b[0;31m \u001b[0mdistance_table\u001b[0m \u001b[0;34m=\u001b[0m \u001b[0mpd\u001b[0m\u001b[0;34m.\u001b[0m\u001b[0mDataFrame\u001b[0m\u001b[0;34m(\u001b[0m\u001b[0mflight_data\u001b[0m\u001b[0;34m.\u001b[0m\u001b[0mgroupby\u001b[0m\u001b[0;34m(\u001b[0m\u001b[0;34m[\u001b[0m\u001b[0;34m'Origin'\u001b[0m\u001b[0;34m,\u001b[0m\u001b[0;34m'Dest'\u001b[0m\u001b[0;34m]\u001b[0m\u001b[0;34m)\u001b[0m\u001b[0;34m[\u001b[0m\u001b[0;34m'Distance'\u001b[0m\u001b[0;34m]\u001b[0m\u001b[0;34m.\u001b[0m\u001b[0mmean\u001b[0m\u001b[0;34m(\u001b[0m\u001b[0;34m)\u001b[0m\u001b[0;34m.\u001b[0m\u001b[0mround\u001b[0m\u001b[0;34m(\u001b[0m\u001b[0;34m)\u001b[0m\u001b[0;34m)\u001b[0m\u001b[0;34m\u001b[0m\u001b[0;34m\u001b[0m\u001b[0m\n\u001b[0m\u001b[1;32m      2\u001b[0m \u001b[0mdistance_group\u001b[0m \u001b[0;34m=\u001b[0m \u001b[0mpd\u001b[0m\u001b[0;34m.\u001b[0m\u001b[0mDataFrame\u001b[0m\u001b[0;34m(\u001b[0m\u001b[0mflight_data\u001b[0m\u001b[0;34m.\u001b[0m\u001b[0mgroupby\u001b[0m\u001b[0;34m(\u001b[0m\u001b[0;34m[\u001b[0m\u001b[0;34m'Origin'\u001b[0m\u001b[0;34m,\u001b[0m\u001b[0;34m'Dest'\u001b[0m\u001b[0;34m]\u001b[0m\u001b[0;34m)\u001b[0m\u001b[0;34m[\u001b[0m\u001b[0;34m'DistanceGroup'\u001b[0m\u001b[0;34m]\u001b[0m\u001b[0;34m.\u001b[0m\u001b[0mmean\u001b[0m\u001b[0;34m(\u001b[0m\u001b[0;34m)\u001b[0m\u001b[0;34m.\u001b[0m\u001b[0mround\u001b[0m\u001b[0;34m(\u001b[0m\u001b[0;34m)\u001b[0m\u001b[0;34m)\u001b[0m\u001b[0;34m\u001b[0m\u001b[0;34m\u001b[0m\u001b[0m\n\u001b[1;32m      3\u001b[0m \u001b[0melapsed_table\u001b[0m \u001b[0;34m=\u001b[0m \u001b[0mpd\u001b[0m\u001b[0;34m.\u001b[0m\u001b[0mDataFrame\u001b[0m\u001b[0;34m(\u001b[0m\u001b[0mflight_data\u001b[0m\u001b[0;34m.\u001b[0m\u001b[0mgroupby\u001b[0m\u001b[0;34m(\u001b[0m\u001b[0;34m[\u001b[0m\u001b[0;34m'Origin'\u001b[0m\u001b[0;34m,\u001b[0m\u001b[0;34m'Dest'\u001b[0m\u001b[0;34m]\u001b[0m\u001b[0;34m)\u001b[0m\u001b[0;34m[\u001b[0m\u001b[0;34m'CRSElapsedTime'\u001b[0m\u001b[0;34m]\u001b[0m\u001b[0;34m.\u001b[0m\u001b[0mmean\u001b[0m\u001b[0;34m(\u001b[0m\u001b[0;34m)\u001b[0m\u001b[0;34m.\u001b[0m\u001b[0mround\u001b[0m\u001b[0;34m(\u001b[0m\u001b[0;34m)\u001b[0m\u001b[0;34m)\u001b[0m\u001b[0;34m\u001b[0m\u001b[0;34m\u001b[0m\u001b[0m\n\u001b[1;32m      4\u001b[0m \u001b[0;34m\u001b[0m\u001b[0m\n\u001b[1;32m      5\u001b[0m \u001b[0mprint\u001b[0m\u001b[0;34m(\u001b[0m\u001b[0;34m\"Hypo Shape:\"\u001b[0m\u001b[0;34m,\u001b[0m\u001b[0mhypo\u001b[0m\u001b[0;34m.\u001b[0m\u001b[0mshape\u001b[0m\u001b[0;34m)\u001b[0m\u001b[0;34m\u001b[0m\u001b[0;34m\u001b[0m\u001b[0m\n",
      "\u001b[0;31mNameError\u001b[0m: name 'flight_data' is not defined"
     ]
    }
   ],
   "source": [
    "distance_table = pd.DataFrame(flight_data.groupby(['Origin','Dest'])['Distance'].mean().round())\n",
    "distance_group = pd.DataFrame(flight_data.groupby(['Origin','Dest'])['DistanceGroup'].mean().round())\n",
    "elapsed_table = pd.DataFrame(flight_data.groupby(['Origin','Dest'])['CRSElapsedTime'].mean().round())\n",
    "\n",
    "print(\"Hypo Shape:\",hypo.shape)\n",
    "hypo_join1 = pd.merge(hypo,distance_table,how='left',on=['Origin','Dest'])\n",
    "# hypo_join1.head()\n",
    "hypo_join2 = pd.merge(hypo_join1,distance_group,how='left',on=['Origin','Dest'])\n",
    "# hypo_join2.head()\n",
    "hypo_join3 = pd.merge(hypo_join2,elapsed_table,how='left',on=['Origin','Dest'])\n",
    "hypo_join3.head()\n",
    "\n",
    "hypo_final = hypo_join3\n",
    "\n",
    "# print(\"Hypo_join2 Shape:\",hypo_join2.shape)"
   ]
  },
  {
   "cell_type": "markdown",
   "metadata": {},
   "source": [
    "#### Convert departure time into datetime format:"
   ]
  },
  {
   "cell_type": "code",
   "execution_count": 10,
   "metadata": {},
   "outputs": [
    {
     "ename": "NameError",
     "evalue": "name 'hypo_final' is not defined",
     "output_type": "error",
     "traceback": [
      "\u001b[0;31m---------------------------------------------------------------------------\u001b[0m",
      "\u001b[0;31mNameError\u001b[0m                                 Traceback (most recent call last)",
      "\u001b[0;32m<ipython-input-10-15a9cda75206>\u001b[0m in \u001b[0;36m<module>\u001b[0;34m\u001b[0m\n\u001b[0;32m----> 1\u001b[0;31m \u001b[0mdeparture_time\u001b[0m \u001b[0;34m=\u001b[0m \u001b[0mhypo_final\u001b[0m\u001b[0;34m[\u001b[0m\u001b[0;34m'departure_time'\u001b[0m\u001b[0;34m]\u001b[0m\u001b[0;34m.\u001b[0m\u001b[0mapply\u001b[0m\u001b[0;34m(\u001b[0m\u001b[0;32mlambda\u001b[0m \u001b[0mx\u001b[0m\u001b[0;34m:\u001b[0m \u001b[0mdatetime\u001b[0m\u001b[0;34m.\u001b[0m\u001b[0mstrptime\u001b[0m\u001b[0;34m(\u001b[0m\u001b[0mx\u001b[0m\u001b[0;34m,\u001b[0m\u001b[0;34m'%H:%M:%S'\u001b[0m\u001b[0;34m)\u001b[0m\u001b[0;34m)\u001b[0m\u001b[0;34m\u001b[0m\u001b[0;34m\u001b[0m\u001b[0m\n\u001b[0m\u001b[1;32m      2\u001b[0m \u001b[0mprint\u001b[0m\u001b[0;34m(\u001b[0m\u001b[0mdeparture_time\u001b[0m\u001b[0;34m.\u001b[0m\u001b[0mhead\u001b[0m\u001b[0;34m(\u001b[0m\u001b[0;34m)\u001b[0m\u001b[0;34m)\u001b[0m\u001b[0;34m\u001b[0m\u001b[0;34m\u001b[0m\u001b[0m\n\u001b[1;32m      3\u001b[0m \u001b[0;34m\u001b[0m\u001b[0m\n\u001b[1;32m      4\u001b[0m \u001b[0mhypo_final\u001b[0m\u001b[0;34m[\u001b[0m\u001b[0;34m'CRSDepTime'\u001b[0m\u001b[0;34m]\u001b[0m \u001b[0;34m=\u001b[0m \u001b[0mdeparture_time\u001b[0m\u001b[0;34m.\u001b[0m\u001b[0mdt\u001b[0m\u001b[0;34m.\u001b[0m\u001b[0mstrftime\u001b[0m\u001b[0;34m(\u001b[0m\u001b[0;34m'%M%S'\u001b[0m\u001b[0;34m)\u001b[0m\u001b[0;34m.\u001b[0m\u001b[0mastype\u001b[0m\u001b[0;34m(\u001b[0m\u001b[0mnp\u001b[0m\u001b[0;34m.\u001b[0m\u001b[0mint64\u001b[0m\u001b[0;34m)\u001b[0m\u001b[0;34m\u001b[0m\u001b[0;34m\u001b[0m\u001b[0m\n\u001b[1;32m      5\u001b[0m \u001b[0;34m\u001b[0m\u001b[0m\n",
      "\u001b[0;31mNameError\u001b[0m: name 'hypo_final' is not defined"
     ]
    }
   ],
   "source": [
    "departure_time = hypo_final['departure_time'].apply(lambda x: datetime.strptime(x,'%H:%M:%S'))\n",
    "print(departure_time.head())\n",
    "\n",
    "hypo_final['CRSDepTime'] = departure_time.dt.strftime('%M%S').astype(np.int64)\n",
    "\n",
    "\n",
    "hypo_final['sin_CRSDepTime'] = hypo_final['CRSDepTime'].apply(lambda x: np.sin(x))\n",
    "hypo_final['sin_CRSDepTime'].sample(10)\n",
    "\n",
    "hypo_final['sin_CRSDepTime'].isnull().sum()\n",
    "hypo_final['disruption_flag'] = 0\n",
    "\n",
    "\n",
    "hypo_final.head()"
   ]
  },
  {
   "cell_type": "markdown",
   "metadata": {},
   "source": [
    "#### Prepare hypothetical data for model scoring:"
   ]
  },
  {
   "cell_type": "code",
   "execution_count": 29,
   "metadata": {},
   "outputs": [
    {
     "name": "stdout",
     "output_type": "stream",
     "text": [
      "disruption_flag\n",
      "random\n",
      "Dest_AKN\n",
      "Dest_ITH\n",
      "Origin_ITH\n",
      "2589\n",
      "[[0.92768647 0.07231353]\n",
      " [0.98142238 0.01857762]\n",
      " [0.98707632 0.01292368]\n",
      " [0.95605162 0.04394838]\n",
      " [0.9745024  0.0254976 ]\n",
      " [0.96956463 0.03043537]\n",
      " [0.96575691 0.03424309]\n",
      " [0.9821599  0.0178401 ]\n",
      " [0.99328041 0.00671959]\n",
      " [0.9728762  0.0271238 ]]\n"
     ]
    },
    {
     "data": {
      "text/plain": [
       "[<matplotlib.lines.Line2D at 0x1a31c68e80>]"
      ]
     },
     "execution_count": 29,
     "metadata": {},
     "output_type": "execute_result"
    },
    {
     "data": {
      "image/png": "[encoded data removed]",
      "text/plain": [
       "<Figure size 864x432 with 1 Axes>"
      ]
     },
     "metadata": {
      "needs_background": "light"
     },
     "output_type": "display_data"
    }
   ],
   "source": [
    "hypo_final_features = hypo_final[features]\n",
    "hypo_final_impute = DataFrameImputer().fit_transform(hypo_final_features)\n",
    "hypo_length = len(hypo_final_impute)\n",
    "hypo_final_concat = pd.concat([hypo_final_impute,flight_train])\n",
    "\n",
    "hypo_dummies = pd.get_dummies(hypo_final_concat)\n",
    "hypo_final_cut = hypo_dummies.iloc[0:hypo_length]\n",
    "\n",
    "remove_cols = pd.Series()\n",
    "for i in hypo_final_cut.columns:\n",
    "    if not {i}.issubset(test_features.columns):\n",
    "        print(i)\n",
    "        j = pd.Series(i)\n",
    "        remove_cols = remove_cols.append(j,ignore_index=True)\n",
    "remove_cols.head()\n",
    "\n",
    "# hypo_final_score = hypo_final_cut.drop(['disruption_flag','random'\n",
    "#                                               ,'Dest_AKN','Origin_AKN','Origin_BGM'\n",
    "#                                               ],axis=1)\n",
    "\n",
    "hypo_final_score = hypo_final_cut.drop(remove_cols,axis=1)\n",
    "\n",
    "\n",
    "hypo_final_cut = hypo_dummies.drop(remove_cols,axis=1)\n",
    "\n",
    "hypo_predict = model.predict_proba(hypo_final_score)\n",
    "print(len(hypo_predict))\n",
    "print(hypo_predict[1000:1010])\n",
    "plt.plot(np.sort(hypo_predict[:,1]))"
   ]
  },
  {
   "cell_type": "markdown",
   "metadata": {},
   "source": [
    "<br/>\n",
    "\n",
    "#### FUNCTION TO OUTPUT NEW PRICES: Set x equal to new dataset"
   ]
  },
  {
   "cell_type": "code",
   "execution_count": 30,
   "metadata": {},
   "outputs": [],
   "source": [
    "def score_hypo(x = hypo_final_score):\n",
    "    global hypo_predict2\n",
    "    data = model.predict_proba(x)\n",
    "    hypo_predict = pd.DataFrame(data)"
   ]
  },
  {
   "cell_type": "markdown",
   "metadata": {},
   "source": [
    "#### Generate new prices and pricing tiers from earlier function:\n",
    "\n",
    "High Risk Price (2% disruption chance or greater): 29 dollars\n",
    "<br/>\n",
    "Medium Risk Price (2% disruption chance or greater): 19 dollars\n",
    "<br/>\n",
    "Low Risk Price (2% disruption chance or greater): 9 dollars\n"
   ]
  },
  {
   "cell_type": "code",
   "execution_count": 55,
   "metadata": {},
   "outputs": [
    {
     "name": "stdout",
     "output_type": "stream",
     "text": [
      "Group 3 (Highest Risk)    1380\n",
      "Group 2 (Medium Risk)     1004\n",
      "Group 1 (Lowest Risk)      205\n",
      "Name: Pricing Tiers, dtype: int64 \n",
      "\n",
      "Group 3 (Highest Risk)    0.533024\n",
      "Group 2 (Medium Risk)     0.387795\n",
      "Group 1 (Lowest Risk)     0.079181\n",
      "Name: Pricing Tiers, dtype: float64 \n",
      "\n",
      "Sum Missing Tiers: 0\n"
     ]
    },
    {
     "data": {
      "text/plain": [
       "<matplotlib.axes._subplots.AxesSubplot at 0x1a2ab43198>"
      ]
     },
     "execution_count": 55,
     "metadata": {},
     "output_type": "execute_result"
    },
    {
     "data": {
      "image/png": "[encoded data removed]",
      "text/plain": [
       "<Figure size 864x432 with 1 Axes>"
      ]
     },
     "metadata": {
      "needs_background": "light"
     },
     "output_type": "display_data"
    }
   ],
   "source": [
    "\n",
    "def prices(x):\n",
    "    if x >= 0.02:\n",
    "        return 29\n",
    "    elif x >= 0.01:\n",
    "        return 19\n",
    "    elif x >= 0 :\n",
    "        return 9\n",
    "#     elif x >= 0 :\n",
    "#         return '*could add more tiers here and change thresholds*'\n",
    "    else:\n",
    "        return 'Missing'\n",
    "    \n",
    "hypo_predict_probs = pd.Series(hypo_predict[:,1])\n",
    "hypo['hypo_predict_probs'] = hypo_predict_probs\n",
    "hypo['Pricing Tiers'] = hypo['hypo_predict_probs'].apply(tiers)\n",
    "hypo['Price'] = hypo['hypo_predict_probs'].apply(prices)\n",
    "\n",
    "print(hypo['Pricing Tiers'].value_counts(),'\\n')\n",
    "print(hypo['Pricing Tiers'].value_counts(normalize=True),'\\n')\n",
    "print(\"Sum Missing Tiers:\",hypo['Pricing Tiers'].isna().sum() \n",
    "      + len(hypo[hypo['Pricing Tiers']=='Missing']) )\n",
    "\n",
    "# ***visualize normalized risk probabilities\n",
    "hypo.boxplot(column='hypo_predict_probs',by='Pricing Tiers')"
   ]
  },
  {
   "cell_type": "markdown",
   "metadata": {},
   "source": [
    "<br/>\n",
    "\n",
    "#### Generate Revenue, Predicted Cost, and Predicted Profit by Pricing Tier:"
   ]
  },
  {
   "cell_type": "code",
   "execution_count": 1,
   "metadata": {},
   "outputs": [
    {
     "ename": "NameError",
     "evalue": "name 'hypo' is not defined",
     "output_type": "error",
     "traceback": [
      "\u001b[0;31m---------------------------------------------------------------------------\u001b[0m",
      "\u001b[0;31mNameError\u001b[0m                                 Traceback (most recent call last)",
      "\u001b[0;32m<ipython-input-1-7e3a1cadffc5>\u001b[0m in \u001b[0;36m<module>\u001b[0;34m\u001b[0m\n\u001b[1;32m      3\u001b[0m \u001b[0;34m\u001b[0m\u001b[0m\n\u001b[1;32m      4\u001b[0m \u001b[0;31m# hypo['flight_revenue'] = flight_revenue\u001b[0m\u001b[0;34m\u001b[0m\u001b[0;34m\u001b[0m\u001b[0;34m\u001b[0m\u001b[0m\n\u001b[0;32m----> 5\u001b[0;31m \u001b[0mhypo\u001b[0m\u001b[0;34m[\u001b[0m\u001b[0;34m'flight_revenue'\u001b[0m\u001b[0;34m]\u001b[0m \u001b[0;34m=\u001b[0m \u001b[0mhypo\u001b[0m\u001b[0;34m[\u001b[0m\u001b[0;34m'Price'\u001b[0m\u001b[0;34m]\u001b[0m\u001b[0;34m\u001b[0m\u001b[0;34m\u001b[0m\u001b[0m\n\u001b[0m\u001b[1;32m      6\u001b[0m \u001b[0mhypo\u001b[0m\u001b[0;34m[\u001b[0m\u001b[0;34m'disruption_cost'\u001b[0m\u001b[0;34m]\u001b[0m \u001b[0;34m=\u001b[0m  \u001b[0mhypo\u001b[0m\u001b[0;34m[\u001b[0m\u001b[0;34m'hypo_predict_probs'\u001b[0m\u001b[0;34m]\u001b[0m \u001b[0;34m*\u001b[0m \u001b[0mflight_cost\u001b[0m\u001b[0;34m\u001b[0m\u001b[0;34m\u001b[0m\u001b[0m\n\u001b[1;32m      7\u001b[0m \u001b[0mhypo\u001b[0m\u001b[0;34m[\u001b[0m\u001b[0;34m'flight_revenue_minus_disruption_cost'\u001b[0m\u001b[0;34m]\u001b[0m \u001b[0;34m=\u001b[0m \u001b[0mhypo\u001b[0m\u001b[0;34m[\u001b[0m\u001b[0;34m'flight_revenue'\u001b[0m\u001b[0;34m]\u001b[0m \u001b[0;34m-\u001b[0m \u001b[0mhypo\u001b[0m\u001b[0;34m[\u001b[0m\u001b[0;34m'disruption_cost'\u001b[0m\u001b[0;34m]\u001b[0m\u001b[0;34m\u001b[0m\u001b[0;34m\u001b[0m\u001b[0m\n",
      "\u001b[0;31mNameError\u001b[0m: name 'hypo' is not defined"
     ]
    }
   ],
   "source": [
    "flight_cost = 500\n",
    "# flight_revenue = 19\n",
    "\n",
    "# hypo['flight_revenue'] = flight_revenue\n",
    "hypo['flight_revenue'] = hypo['Price']\n",
    "hypo['disruption_cost'] =  hypo['hypo_predict_probs'] * flight_cost\n",
    "hypo['flight_revenue_minus_disruption_cost'] = hypo['flight_revenue'] - hypo['disruption_cost']\n",
    "\n",
    "# print(\"Count of Disruptions per Tier:\",'\\n',hypo.groupby(['Pricing Tiers'])['departure_date'].count(),'\\n')\n",
    "print(\"Count of Disruptions per Tier:\",'\\n',hypo['Pricing Tiers'].value_counts(),'\\n')\n",
    "print(\"Count of Disruptions per Tier:\",'\\n',hypo['Pricing Tiers'].value_counts(normalize=True),'\\n')\n",
    "\n",
    "# print(\"Count of Disruptions per Tier:\",'\\n',hypo.groupby(['Pricing Tiers'])['departure_date'].count(),'\\n')\n",
    "\n",
    "print(\"Revenue per Tier:\",'\\n',hypo.groupby(['Pricing Tiers'])['flight_revenue'].sum(),'\\n')\n",
    "print(\"Predicted Cost of Disruptions per Tier:\",'\\n',hypo.groupby(['Pricing Tiers'])['disruption_cost'].sum(),'\\n')\n",
    "print(\"Predicted Profit per Tier:\",'\\n',hypo.groupby(['Pricing Tiers'])['flight_revenue_minus_disruption_cost'].sum(),'\\n')\n",
    "# plt.plot(flight_test.groupby(['Pricing Tiers'])['flight_revenue_minus_disruption_cost'].sum()\n",
    "\n",
    "\n",
    "# x_bar = set(hypo['Pricing Tiers'])\n",
    "x_bar = ['Group 1 (Lowest Risk)','Group 2 (Medium Risk)','Group 3 (Highest Risk)']\n",
    "y_bar = hypo.groupby(['Pricing Tiers'])['flight_revenue_minus_disruption_cost'].sum()\n",
    "ind = [x for x, _ in enumerate(x_bar)]\n",
    "\n",
    "plt.title('Predicted Total Profit by Pricing Tier')\n",
    "plt.bar(ind,y_bar)\n",
    "plt.xticks(ind,x_bar)\n",
    "\n",
    "print(\"Total Revenue:\",round(hypo['flight_revenue_cost'].sum(),2),'\\n')\n",
    "print(\"Predicted Total Cost:\",round(hypo['disruption_cost'].sum(),2),'\\n')\n",
    "print(\"Predicted Total Profit:\",round(hypo['flight_revenue_minus_disruption_cost'].sum(),2),'\\n')"
   ]
  }
 ],
 "metadata": {
  "kernelspec": {
   "display_name": "Python 3",
   "language": "python",
   "name": "python3"
  },
  "language_info": {
   "codemirror_mode": {
    "name": "ipython",
    "version": 3
   },
   "file_extension": ".py",
   "mimetype": "text/x-python",
   "name": "python",
   "nbconvert_exporter": "python",
   "pygments_lexer": "ipython3",
   "version": "3.7.1"
  }
 },
 "nbformat": 4,
 "nbformat_minor": 2
}
